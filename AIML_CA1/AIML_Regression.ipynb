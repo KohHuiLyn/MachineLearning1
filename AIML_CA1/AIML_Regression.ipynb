{
 "cells": [
  {
   "cell_type": "markdown",
   "metadata": {
    "id": "wq7qB7myj4yE"
   },
   "source": [
    "#AIML CA1 - Part B. Housing Data"
   ]
  },
  {
   "cell_type": "markdown",
   "metadata": {
    "id": "2vBO5AiwqVgr"
   },
   "source": [
    "By: Koh Hui Lyn (p2021672)\n",
    "(open in colab!! got headers for easy viewing!!! :) )"
   ]
  },
  {
   "cell_type": "markdown",
   "metadata": {
    "id": "cqTAbmAUCXCs"
   },
   "source": [
    "For this dataset, I want to predict the Prices of houses based on the dataset's features."
   ]
  },
  {
   "cell_type": "code",
   "execution_count": 1,
   "metadata": {
    "id": "tliwyePGdeC6"
   },
   "outputs": [],
   "source": [
    "#importing\n",
    "import numpy as np\n",
    "import pandas as pd\n",
    "import seaborn as sns\n",
    "import matplotlib.pyplot as plt\n",
    "%matplotlib inline"
   ]
  },
  {
   "cell_type": "code",
   "execution_count": 2,
   "metadata": {
    "colab": {
     "base_uri": "https://localhost:8080/",
     "height": 163
    },
    "id": "jDfLx5pgdkum",
    "outputId": "58ef649d-13d7-4904-b1af-257ccead0bc1"
   },
   "outputs": [
    {
     "data": {
      "text/html": [
       "<div>\n",
       "<style scoped>\n",
       "    .dataframe tbody tr th:only-of-type {\n",
       "        vertical-align: middle;\n",
       "    }\n",
       "\n",
       "    .dataframe tbody tr th {\n",
       "        vertical-align: top;\n",
       "    }\n",
       "\n",
       "    .dataframe thead th {\n",
       "        text-align: right;\n",
       "    }\n",
       "</style>\n",
       "<table border=\"1\" class=\"dataframe\">\n",
       "  <thead>\n",
       "    <tr style=\"text-align: right;\">\n",
       "      <th></th>\n",
       "      <th>id</th>\n",
       "      <th>date</th>\n",
       "      <th>price</th>\n",
       "      <th>bedrooms</th>\n",
       "      <th>bathrooms</th>\n",
       "      <th>sqft_living</th>\n",
       "      <th>sqft_lot</th>\n",
       "      <th>floors</th>\n",
       "      <th>waterfront</th>\n",
       "      <th>view</th>\n",
       "      <th>...</th>\n",
       "      <th>grade</th>\n",
       "      <th>sqft_above</th>\n",
       "      <th>sqft_basement</th>\n",
       "      <th>yr_built</th>\n",
       "      <th>yr_renovated</th>\n",
       "      <th>zipcode</th>\n",
       "      <th>lat</th>\n",
       "      <th>long</th>\n",
       "      <th>sqft_living15</th>\n",
       "      <th>sqft_lot15</th>\n",
       "    </tr>\n",
       "  </thead>\n",
       "  <tbody>\n",
       "    <tr>\n",
       "      <th>0</th>\n",
       "      <td>7129300520</td>\n",
       "      <td>20141013T000000</td>\n",
       "      <td>221900.0</td>\n",
       "      <td>3</td>\n",
       "      <td>1.00</td>\n",
       "      <td>1180</td>\n",
       "      <td>5650</td>\n",
       "      <td>1.0</td>\n",
       "      <td>0</td>\n",
       "      <td>0</td>\n",
       "      <td>...</td>\n",
       "      <td>7</td>\n",
       "      <td>1180</td>\n",
       "      <td>0</td>\n",
       "      <td>1955</td>\n",
       "      <td>0</td>\n",
       "      <td>98178</td>\n",
       "      <td>47.5112</td>\n",
       "      <td>-122.257</td>\n",
       "      <td>1340</td>\n",
       "      <td>5650</td>\n",
       "    </tr>\n",
       "    <tr>\n",
       "      <th>1</th>\n",
       "      <td>6414100192</td>\n",
       "      <td>20141209T000000</td>\n",
       "      <td>538000.0</td>\n",
       "      <td>3</td>\n",
       "      <td>2.25</td>\n",
       "      <td>2570</td>\n",
       "      <td>7242</td>\n",
       "      <td>2.0</td>\n",
       "      <td>0</td>\n",
       "      <td>0</td>\n",
       "      <td>...</td>\n",
       "      <td>7</td>\n",
       "      <td>2170</td>\n",
       "      <td>400</td>\n",
       "      <td>1951</td>\n",
       "      <td>1991</td>\n",
       "      <td>98125</td>\n",
       "      <td>47.7210</td>\n",
       "      <td>-122.319</td>\n",
       "      <td>1690</td>\n",
       "      <td>7639</td>\n",
       "    </tr>\n",
       "    <tr>\n",
       "      <th>2</th>\n",
       "      <td>5631500400</td>\n",
       "      <td>20150225T000000</td>\n",
       "      <td>180000.0</td>\n",
       "      <td>2</td>\n",
       "      <td>1.00</td>\n",
       "      <td>770</td>\n",
       "      <td>10000</td>\n",
       "      <td>1.0</td>\n",
       "      <td>0</td>\n",
       "      <td>0</td>\n",
       "      <td>...</td>\n",
       "      <td>6</td>\n",
       "      <td>770</td>\n",
       "      <td>0</td>\n",
       "      <td>1933</td>\n",
       "      <td>0</td>\n",
       "      <td>98028</td>\n",
       "      <td>47.7379</td>\n",
       "      <td>-122.233</td>\n",
       "      <td>2720</td>\n",
       "      <td>8062</td>\n",
       "    </tr>\n",
       "  </tbody>\n",
       "</table>\n",
       "<p>3 rows × 21 columns</p>\n",
       "</div>"
      ],
      "text/plain": [
       "           id             date     price  bedrooms  bathrooms  sqft_living  \\\n",
       "0  7129300520  20141013T000000  221900.0         3       1.00         1180   \n",
       "1  6414100192  20141209T000000  538000.0         3       2.25         2570   \n",
       "2  5631500400  20150225T000000  180000.0         2       1.00          770   \n",
       "\n",
       "   sqft_lot  floors  waterfront  view  ...  grade  sqft_above  sqft_basement  \\\n",
       "0      5650     1.0           0     0  ...      7        1180              0   \n",
       "1      7242     2.0           0     0  ...      7        2170            400   \n",
       "2     10000     1.0           0     0  ...      6         770              0   \n",
       "\n",
       "   yr_built  yr_renovated  zipcode      lat     long  sqft_living15  \\\n",
       "0      1955             0    98178  47.5112 -122.257           1340   \n",
       "1      1951          1991    98125  47.7210 -122.319           1690   \n",
       "2      1933             0    98028  47.7379 -122.233           2720   \n",
       "\n",
       "   sqft_lot15  \n",
       "0        5650  \n",
       "1        7639  \n",
       "2        8062  \n",
       "\n",
       "[3 rows x 21 columns]"
      ]
     },
     "execution_count": 2,
     "metadata": {},
     "output_type": "execute_result"
    }
   ],
   "source": [
    "#import dataset\n",
    "\n",
    "#(drive)\n",
    "#df = pd.read_csv(\"/content/drive/MyDrive/datasets/kc_house_data.csv\")\n",
    "#not drive\n",
    "df = pd.read_csv(\"kc_house_data.csv\")\n",
    "df.head(3)"
   ]
  },
  {
   "cell_type": "markdown",
   "metadata": {
    "id": "mWSo1H_QwNDw"
   },
   "source": [
    "##Data Preprocessing"
   ]
  },
  {
   "cell_type": "code",
   "execution_count": 6,
   "metadata": {
    "colab": {
     "base_uri": "https://localhost:8080/",
     "height": 320
    },
    "id": "8aczizcxd39M",
    "outputId": "b095f02f-384c-4490-9198-4a8c30319a84"
   },
   "outputs": [
    {
     "data": {
      "text/html": [
       "<div>\n",
       "<style scoped>\n",
       "    .dataframe tbody tr th:only-of-type {\n",
       "        vertical-align: middle;\n",
       "    }\n",
       "\n",
       "    .dataframe tbody tr th {\n",
       "        vertical-align: top;\n",
       "    }\n",
       "\n",
       "    .dataframe thead th {\n",
       "        text-align: right;\n",
       "    }\n",
       "</style>\n",
       "<table border=\"1\" class=\"dataframe\">\n",
       "  <thead>\n",
       "    <tr style=\"text-align: right;\">\n",
       "      <th></th>\n",
       "      <th>id</th>\n",
       "      <th>price</th>\n",
       "      <th>bedrooms</th>\n",
       "      <th>bathrooms</th>\n",
       "      <th>sqft_living</th>\n",
       "      <th>sqft_lot</th>\n",
       "      <th>floors</th>\n",
       "      <th>waterfront</th>\n",
       "      <th>view</th>\n",
       "      <th>condition</th>\n",
       "      <th>grade</th>\n",
       "      <th>sqft_above</th>\n",
       "      <th>sqft_basement</th>\n",
       "      <th>yr_built</th>\n",
       "      <th>yr_renovated</th>\n",
       "      <th>zipcode</th>\n",
       "      <th>lat</th>\n",
       "      <th>long</th>\n",
       "      <th>sqft_living15</th>\n",
       "      <th>sqft_lot15</th>\n",
       "    </tr>\n",
       "  </thead>\n",
       "  <tbody>\n",
       "    <tr>\n",
       "      <th>count</th>\n",
       "      <td>2.161300e+04</td>\n",
       "      <td>2.161300e+04</td>\n",
       "      <td>21613.000000</td>\n",
       "      <td>21613.000000</td>\n",
       "      <td>21613.000000</td>\n",
       "      <td>2.161300e+04</td>\n",
       "      <td>21613.000000</td>\n",
       "      <td>21613.000000</td>\n",
       "      <td>21613.000000</td>\n",
       "      <td>21613.000000</td>\n",
       "      <td>21613.000000</td>\n",
       "      <td>21613.000000</td>\n",
       "      <td>21613.000000</td>\n",
       "      <td>21613.000000</td>\n",
       "      <td>21613.000000</td>\n",
       "      <td>21613.000000</td>\n",
       "      <td>21613.000000</td>\n",
       "      <td>21613.000000</td>\n",
       "      <td>21613.000000</td>\n",
       "      <td>21613.000000</td>\n",
       "    </tr>\n",
       "    <tr>\n",
       "      <th>mean</th>\n",
       "      <td>4.580302e+09</td>\n",
       "      <td>5.400881e+05</td>\n",
       "      <td>3.370842</td>\n",
       "      <td>2.114757</td>\n",
       "      <td>2079.899736</td>\n",
       "      <td>1.510697e+04</td>\n",
       "      <td>1.494309</td>\n",
       "      <td>0.007542</td>\n",
       "      <td>0.234303</td>\n",
       "      <td>3.409430</td>\n",
       "      <td>7.656873</td>\n",
       "      <td>1788.390691</td>\n",
       "      <td>291.509045</td>\n",
       "      <td>1971.005136</td>\n",
       "      <td>84.402258</td>\n",
       "      <td>98077.939805</td>\n",
       "      <td>47.560053</td>\n",
       "      <td>-122.213896</td>\n",
       "      <td>1986.552492</td>\n",
       "      <td>12768.455652</td>\n",
       "    </tr>\n",
       "    <tr>\n",
       "      <th>std</th>\n",
       "      <td>2.876566e+09</td>\n",
       "      <td>3.671272e+05</td>\n",
       "      <td>0.930062</td>\n",
       "      <td>0.770163</td>\n",
       "      <td>918.440897</td>\n",
       "      <td>4.142051e+04</td>\n",
       "      <td>0.539989</td>\n",
       "      <td>0.086517</td>\n",
       "      <td>0.766318</td>\n",
       "      <td>0.650743</td>\n",
       "      <td>1.175459</td>\n",
       "      <td>828.090978</td>\n",
       "      <td>442.575043</td>\n",
       "      <td>29.373411</td>\n",
       "      <td>401.679240</td>\n",
       "      <td>53.505026</td>\n",
       "      <td>0.138564</td>\n",
       "      <td>0.140828</td>\n",
       "      <td>685.391304</td>\n",
       "      <td>27304.179631</td>\n",
       "    </tr>\n",
       "    <tr>\n",
       "      <th>min</th>\n",
       "      <td>1.000102e+06</td>\n",
       "      <td>7.500000e+04</td>\n",
       "      <td>0.000000</td>\n",
       "      <td>0.000000</td>\n",
       "      <td>290.000000</td>\n",
       "      <td>5.200000e+02</td>\n",
       "      <td>1.000000</td>\n",
       "      <td>0.000000</td>\n",
       "      <td>0.000000</td>\n",
       "      <td>1.000000</td>\n",
       "      <td>1.000000</td>\n",
       "      <td>290.000000</td>\n",
       "      <td>0.000000</td>\n",
       "      <td>1900.000000</td>\n",
       "      <td>0.000000</td>\n",
       "      <td>98001.000000</td>\n",
       "      <td>47.155900</td>\n",
       "      <td>-122.519000</td>\n",
       "      <td>399.000000</td>\n",
       "      <td>651.000000</td>\n",
       "    </tr>\n",
       "    <tr>\n",
       "      <th>25%</th>\n",
       "      <td>2.123049e+09</td>\n",
       "      <td>3.219500e+05</td>\n",
       "      <td>3.000000</td>\n",
       "      <td>1.750000</td>\n",
       "      <td>1427.000000</td>\n",
       "      <td>5.040000e+03</td>\n",
       "      <td>1.000000</td>\n",
       "      <td>0.000000</td>\n",
       "      <td>0.000000</td>\n",
       "      <td>3.000000</td>\n",
       "      <td>7.000000</td>\n",
       "      <td>1190.000000</td>\n",
       "      <td>0.000000</td>\n",
       "      <td>1951.000000</td>\n",
       "      <td>0.000000</td>\n",
       "      <td>98033.000000</td>\n",
       "      <td>47.471000</td>\n",
       "      <td>-122.328000</td>\n",
       "      <td>1490.000000</td>\n",
       "      <td>5100.000000</td>\n",
       "    </tr>\n",
       "    <tr>\n",
       "      <th>50%</th>\n",
       "      <td>3.904930e+09</td>\n",
       "      <td>4.500000e+05</td>\n",
       "      <td>3.000000</td>\n",
       "      <td>2.250000</td>\n",
       "      <td>1910.000000</td>\n",
       "      <td>7.618000e+03</td>\n",
       "      <td>1.500000</td>\n",
       "      <td>0.000000</td>\n",
       "      <td>0.000000</td>\n",
       "      <td>3.000000</td>\n",
       "      <td>7.000000</td>\n",
       "      <td>1560.000000</td>\n",
       "      <td>0.000000</td>\n",
       "      <td>1975.000000</td>\n",
       "      <td>0.000000</td>\n",
       "      <td>98065.000000</td>\n",
       "      <td>47.571800</td>\n",
       "      <td>-122.230000</td>\n",
       "      <td>1840.000000</td>\n",
       "      <td>7620.000000</td>\n",
       "    </tr>\n",
       "    <tr>\n",
       "      <th>75%</th>\n",
       "      <td>7.308900e+09</td>\n",
       "      <td>6.450000e+05</td>\n",
       "      <td>4.000000</td>\n",
       "      <td>2.500000</td>\n",
       "      <td>2550.000000</td>\n",
       "      <td>1.068800e+04</td>\n",
       "      <td>2.000000</td>\n",
       "      <td>0.000000</td>\n",
       "      <td>0.000000</td>\n",
       "      <td>4.000000</td>\n",
       "      <td>8.000000</td>\n",
       "      <td>2210.000000</td>\n",
       "      <td>560.000000</td>\n",
       "      <td>1997.000000</td>\n",
       "      <td>0.000000</td>\n",
       "      <td>98118.000000</td>\n",
       "      <td>47.678000</td>\n",
       "      <td>-122.125000</td>\n",
       "      <td>2360.000000</td>\n",
       "      <td>10083.000000</td>\n",
       "    </tr>\n",
       "    <tr>\n",
       "      <th>max</th>\n",
       "      <td>9.900000e+09</td>\n",
       "      <td>7.700000e+06</td>\n",
       "      <td>33.000000</td>\n",
       "      <td>8.000000</td>\n",
       "      <td>13540.000000</td>\n",
       "      <td>1.651359e+06</td>\n",
       "      <td>3.500000</td>\n",
       "      <td>1.000000</td>\n",
       "      <td>4.000000</td>\n",
       "      <td>5.000000</td>\n",
       "      <td>13.000000</td>\n",
       "      <td>9410.000000</td>\n",
       "      <td>4820.000000</td>\n",
       "      <td>2015.000000</td>\n",
       "      <td>2015.000000</td>\n",
       "      <td>98199.000000</td>\n",
       "      <td>47.777600</td>\n",
       "      <td>-121.315000</td>\n",
       "      <td>6210.000000</td>\n",
       "      <td>871200.000000</td>\n",
       "    </tr>\n",
       "  </tbody>\n",
       "</table>\n",
       "</div>"
      ],
      "text/plain": [
       "                 id         price  ...  sqft_living15     sqft_lot15\n",
       "count  2.161300e+04  2.161300e+04  ...   21613.000000   21613.000000\n",
       "mean   4.580302e+09  5.400881e+05  ...    1986.552492   12768.455652\n",
       "std    2.876566e+09  3.671272e+05  ...     685.391304   27304.179631\n",
       "min    1.000102e+06  7.500000e+04  ...     399.000000     651.000000\n",
       "25%    2.123049e+09  3.219500e+05  ...    1490.000000    5100.000000\n",
       "50%    3.904930e+09  4.500000e+05  ...    1840.000000    7620.000000\n",
       "75%    7.308900e+09  6.450000e+05  ...    2360.000000   10083.000000\n",
       "max    9.900000e+09  7.700000e+06  ...    6210.000000  871200.000000\n",
       "\n",
       "[8 rows x 20 columns]"
      ]
     },
     "execution_count": 6,
     "metadata": {
      "tags": []
     },
     "output_type": "execute_result"
    }
   ],
   "source": [
    "df.describe()"
   ]
  },
  {
   "cell_type": "markdown",
   "metadata": {
    "id": "zRG89UXWMPA_"
   },
   "source": [
    "Removing ID as I don't need it,\n",
    "\n",
    "Removing sqft_living etc as they are correlated to sqft_lot\n",
    "\n",
    "Removing sqft_living15 as it is correlated to sqft_lot15 "
   ]
  },
  {
   "cell_type": "code",
   "execution_count": 7,
   "metadata": {
    "id": "5sUVllLhZlPX"
   },
   "outputs": [],
   "source": [
    "df = df.drop(['id', 'sqft_living', 'sqft_above', 'sqft_basement','sqft_living15'], axis=1)"
   ]
  },
  {
   "cell_type": "markdown",
   "metadata": {
    "id": "U87JMpTvda50"
   },
   "source": [
    "###Data Preprocessing - Making columns more useful"
   ]
  },
  {
   "cell_type": "markdown",
   "metadata": {
    "id": "iDxiVQdLcRcs"
   },
   "source": [
    "I changed the date column into a column of Home \n",
    "Ages to make it maybe more useful.\n",
    "I also added a column to show if the house has or has not been renovated before."
   ]
  },
  {
   "cell_type": "code",
   "execution_count": 8,
   "metadata": {
    "colab": {
     "base_uri": "https://localhost:8080/",
     "height": 143
    },
    "id": "LlP0XOVOxIlO",
    "outputId": "40100853-3cd2-4aa6-f918-0f20fe93a3b8"
   },
   "outputs": [
    {
     "data": {
      "text/html": [
       "<div>\n",
       "<style scoped>\n",
       "    .dataframe tbody tr th:only-of-type {\n",
       "        vertical-align: middle;\n",
       "    }\n",
       "\n",
       "    .dataframe tbody tr th {\n",
       "        vertical-align: top;\n",
       "    }\n",
       "\n",
       "    .dataframe thead th {\n",
       "        text-align: right;\n",
       "    }\n",
       "</style>\n",
       "<table border=\"1\" class=\"dataframe\">\n",
       "  <thead>\n",
       "    <tr style=\"text-align: right;\">\n",
       "      <th></th>\n",
       "      <th>price</th>\n",
       "      <th>bedrooms</th>\n",
       "      <th>bathrooms</th>\n",
       "      <th>sqft_lot</th>\n",
       "      <th>floors</th>\n",
       "      <th>waterfront</th>\n",
       "      <th>view</th>\n",
       "      <th>condition</th>\n",
       "      <th>grade</th>\n",
       "      <th>zipcode</th>\n",
       "      <th>lat</th>\n",
       "      <th>long</th>\n",
       "      <th>sqft_lot15</th>\n",
       "      <th>age</th>\n",
       "      <th>renovated</th>\n",
       "    </tr>\n",
       "  </thead>\n",
       "  <tbody>\n",
       "    <tr>\n",
       "      <th>0</th>\n",
       "      <td>221900.0</td>\n",
       "      <td>3</td>\n",
       "      <td>1.00</td>\n",
       "      <td>5650</td>\n",
       "      <td>1.0</td>\n",
       "      <td>0</td>\n",
       "      <td>0</td>\n",
       "      <td>3</td>\n",
       "      <td>7</td>\n",
       "      <td>98178</td>\n",
       "      <td>47.5112</td>\n",
       "      <td>-122.257</td>\n",
       "      <td>5650</td>\n",
       "      <td>59</td>\n",
       "      <td>0</td>\n",
       "    </tr>\n",
       "    <tr>\n",
       "      <th>1</th>\n",
       "      <td>538000.0</td>\n",
       "      <td>3</td>\n",
       "      <td>2.25</td>\n",
       "      <td>7242</td>\n",
       "      <td>2.0</td>\n",
       "      <td>0</td>\n",
       "      <td>0</td>\n",
       "      <td>3</td>\n",
       "      <td>7</td>\n",
       "      <td>98125</td>\n",
       "      <td>47.7210</td>\n",
       "      <td>-122.319</td>\n",
       "      <td>7639</td>\n",
       "      <td>63</td>\n",
       "      <td>1</td>\n",
       "    </tr>\n",
       "    <tr>\n",
       "      <th>2</th>\n",
       "      <td>180000.0</td>\n",
       "      <td>2</td>\n",
       "      <td>1.00</td>\n",
       "      <td>10000</td>\n",
       "      <td>1.0</td>\n",
       "      <td>0</td>\n",
       "      <td>0</td>\n",
       "      <td>3</td>\n",
       "      <td>6</td>\n",
       "      <td>98028</td>\n",
       "      <td>47.7379</td>\n",
       "      <td>-122.233</td>\n",
       "      <td>8062</td>\n",
       "      <td>82</td>\n",
       "      <td>0</td>\n",
       "    </tr>\n",
       "  </tbody>\n",
       "</table>\n",
       "</div>"
      ],
      "text/plain": [
       "      price  bedrooms  bathrooms  sqft_lot  ...     long  sqft_lot15  age  renovated\n",
       "0  221900.0         3       1.00      5650  ... -122.257        5650   59          0\n",
       "1  538000.0         3       2.25      7242  ... -122.319        7639   63          1\n",
       "2  180000.0         2       1.00     10000  ... -122.233        8062   82          0\n",
       "\n",
       "[3 rows x 15 columns]"
      ]
     },
     "execution_count": 8,
     "metadata": {
      "tags": []
     },
     "output_type": "execute_result"
    }
   ],
   "source": [
    "#Converting Date to datetime type\n",
    "df['date'] = pd.to_datetime(df['date'])\n",
    "\n",
    "#Adding a Age column for house by taking Date sold - Yr built\n",
    "df[\"age\"] = df[\"date\"].dt.year - df['yr_built']\n",
    "\n",
    "#Also adding a Renovated - 1 or 0 column, if never Reno, 0, if have Reno 1.\n",
    "df['renovated'] = df['yr_renovated'].apply(lambda yr: 0 if yr == 0 else 1)\n",
    "\n",
    "#Dropping the old columns\n",
    "df = df.drop(['date','yr_renovated','yr_built'], axis=1)\n",
    "df.head(3)"
   ]
  },
  {
   "cell_type": "markdown",
   "metadata": {
    "id": "QDx25emLdnmx"
   },
   "source": [
    "###Data Preprocessing -  Removing weird values"
   ]
  },
  {
   "cell_type": "markdown",
   "metadata": {
    "id": "O6NnIAhdM1n_"
   },
   "source": [
    "Before I deskew df, I want to check the values of some features."
   ]
  },
  {
   "cell_type": "code",
   "execution_count": 9,
   "metadata": {
    "colab": {
     "base_uri": "https://localhost:8080/",
     "height": 283
    },
    "id": "TLb7DtqyM9gS",
    "outputId": "7102e111-c107-4087-f06c-5449bf112af0"
   },
   "outputs": [
    {
     "data": {
      "text/plain": [
       "<matplotlib.axes._subplots.AxesSubplot at 0x7fb76db8de90>"
      ]
     },
     "execution_count": 9,
     "metadata": {
      "tags": []
     },
     "output_type": "execute_result"
    },
    {
     "data": {
      "image/png": "[encoded data removed]",
      "text/plain": [
       "<Figure size 432x288 with 1 Axes>"
      ]
     },
     "metadata": {
      "needs_background": "light",
      "tags": []
     },
     "output_type": "display_data"
    }
   ],
   "source": [
    "#Checking values in bedrooms before removal\n",
    "sns.boxplot(data=df['bedrooms'])"
   ]
  },
  {
   "cell_type": "code",
   "execution_count": 10,
   "metadata": {
    "id": "TD__M6OFNKMG"
   },
   "outputs": [],
   "source": [
    "#Retaining reasonable values in bedrooms ie bedrooms < 9 and > 0\n",
    "df['bedrooms'] = df['bedrooms'][(df[\"bedrooms\"] < 9) & (df[\"bedrooms\"] > 0)]"
   ]
  },
  {
   "cell_type": "code",
   "execution_count": 11,
   "metadata": {
    "colab": {
     "base_uri": "https://localhost:8080/",
     "height": 283
    },
    "id": "nanwlgk9N721",
    "outputId": "aae8cac7-00d0-486e-c1a5-a2c2ad9202c4"
   },
   "outputs": [
    {
     "data": {
      "text/plain": [
       "<matplotlib.axes._subplots.AxesSubplot at 0x7fb76c861910>"
      ]
     },
     "execution_count": 11,
     "metadata": {
      "tags": []
     },
     "output_type": "execute_result"
    },
    {
     "data": {
      "image/png": "[encoded data removed]",
      "text/plain": [
       "<Figure size 432x288 with 1 Axes>"
      ]
     },
     "metadata": {
      "needs_background": "light",
      "tags": []
     },
     "output_type": "display_data"
    }
   ],
   "source": [
    "#Checking values in bedrooms after removal\n",
    "sns.boxplot(data=df['bedrooms'])"
   ]
  },
  {
   "cell_type": "markdown",
   "metadata": {
    "id": "B0bWXpn-EXWl"
   },
   "source": [
    "I did the same for bathrooms"
   ]
  },
  {
   "cell_type": "code",
   "execution_count": 12,
   "metadata": {
    "colab": {
     "base_uri": "https://localhost:8080/",
     "height": 283
    },
    "id": "F4xznOSbOxwL",
    "outputId": "79eac3b9-296d-41db-e5d6-d1ee5c943915"
   },
   "outputs": [
    {
     "data": {
      "text/plain": [
       "<matplotlib.axes._subplots.AxesSubplot at 0x7fb76c394710>"
      ]
     },
     "execution_count": 12,
     "metadata": {
      "tags": []
     },
     "output_type": "execute_result"
    },
    {
     "data": {
      "image/png": "[encoded data removed]",
      "text/plain": [
       "<Figure size 432x288 with 1 Axes>"
      ]
     },
     "metadata": {
      "needs_background": "light",
      "tags": []
     },
     "output_type": "display_data"
    }
   ],
   "source": [
    "#Looking at values in bathroom before removal\n",
    "sns.boxplot(data=df['bathrooms'])"
   ]
  },
  {
   "cell_type": "code",
   "execution_count": 13,
   "metadata": {
    "id": "DxPl4jclO5ZJ"
   },
   "outputs": [],
   "source": [
    "#Retaining reasonable values in bathrooms ie bathrooms > 0\n",
    "df['bathrooms'] = df['bathrooms'][(df[\"bathrooms\"] > 0)]"
   ]
  },
  {
   "cell_type": "code",
   "execution_count": 14,
   "metadata": {
    "colab": {
     "base_uri": "https://localhost:8080/",
     "height": 283
    },
    "id": "BgkvIpMMPXio",
    "outputId": "a58c5c2a-9314-41ed-9581-154639054682"
   },
   "outputs": [
    {
     "data": {
      "text/plain": [
       "<matplotlib.axes._subplots.AxesSubplot at 0x7fb76c2fa490>"
      ]
     },
     "execution_count": 14,
     "metadata": {
      "tags": []
     },
     "output_type": "execute_result"
    },
    {
     "data": {
      "image/png": "[encoded data removed]",
      "text/plain": [
       "<Figure size 432x288 with 1 Axes>"
      ]
     },
     "metadata": {
      "needs_background": "light",
      "tags": []
     },
     "output_type": "display_data"
    }
   ],
   "source": [
    "#Looking at values in bathroom after removal\n",
    "sns.boxplot(data=df['bathrooms'])"
   ]
  },
  {
   "cell_type": "markdown",
   "metadata": {
    "id": "115tL3pwP_D4"
   },
   "source": [
    "Floors column looks ok, so I didn't change it."
   ]
  },
  {
   "cell_type": "code",
   "execution_count": 15,
   "metadata": {
    "colab": {
     "base_uri": "https://localhost:8080/",
     "height": 283
    },
    "id": "Sq2QmLWMP7Yx",
    "outputId": "8234e9f8-6536-4936-9796-0b5fb15df78f"
   },
   "outputs": [
    {
     "data": {
      "text/plain": [
       "<matplotlib.axes._subplots.AxesSubplot at 0x7fb76c281bd0>"
      ]
     },
     "execution_count": 15,
     "metadata": {
      "tags": []
     },
     "output_type": "execute_result"
    },
    {
     "data": {
      "image/png": "[encoded data removed]",
      "text/plain": [
       "<Figure size 432x288 with 1 Axes>"
      ]
     },
     "metadata": {
      "needs_background": "light",
      "tags": []
     },
     "output_type": "display_data"
    }
   ],
   "source": [
    "#Looking at values in floors before removal\n",
    "sns.boxplot(data=df['floors'])"
   ]
  },
  {
   "cell_type": "markdown",
   "metadata": {
    "id": "JmwRTogDVNXQ"
   },
   "source": [
    "###Data Preprocessing - Looking for relationships"
   ]
  },
  {
   "cell_type": "markdown",
   "metadata": {
    "id": "ypieo4emA90S"
   },
   "source": [
    "For 1-3 bedrooms, the overlap between each boxplot is more than the overlap between each of them and 4 bedrooms. We can say that generally 4 bedroom houses are more expensive. The plot also shows that the price will generally increase as the number of bedrooms goes up."
   ]
  },
  {
   "cell_type": "code",
   "execution_count": 16,
   "metadata": {
    "colab": {
     "base_uri": "https://localhost:8080/",
     "height": 526
    },
    "id": "nigKSsN3TmSN",
    "outputId": "c96b398f-6ead-478f-88e9-a0e5aae6b3db"
   },
   "outputs": [
    {
     "data": {
      "text/plain": [
       "<matplotlib.axes._subplots.AxesSubplot at 0x7fb76c8f3550>"
      ]
     },
     "execution_count": 16,
     "metadata": {
      "tags": []
     },
     "output_type": "execute_result"
    },
    {
     "data": {
      "image/png": "[encoded data removed]",
      "text/plain": [
       "<Figure size 720x576 with 1 Axes>"
      ]
     },
     "metadata": {
      "needs_background": "light",
      "tags": []
     },
     "output_type": "display_data"
    }
   ],
   "source": [
    "#Can see that as no. bedrooms go up, price also goes up.\n",
    "plt.figure(figsize=(10,8))\n",
    "sns.boxplot(x=df['bedrooms'], y=df['price'])"
   ]
  },
  {
   "cell_type": "markdown",
   "metadata": {
    "id": "mOWz8KWZAoHG"
   },
   "source": [
    "For the first few, we can see that the boxplots are mostly overlapping, but the price is increasing. Thus we can say that generally as the number of bathroom increases, the price will also increase."
   ]
  },
  {
   "cell_type": "code",
   "execution_count": 17,
   "metadata": {
    "colab": {
     "base_uri": "https://localhost:8080/",
     "height": 526
    },
    "id": "UgTruCBdUt_0",
    "outputId": "c955ffa4-695f-41aa-c7c3-6ebfc9e06bee"
   },
   "outputs": [
    {
     "data": {
      "text/plain": [
       "<matplotlib.axes._subplots.AxesSubplot at 0x7fb76c10f090>"
      ]
     },
     "execution_count": 17,
     "metadata": {
      "tags": []
     },
     "output_type": "execute_result"
    },
    {
     "data": {
      "image/png": "[encoded data removed]",
      "text/plain": [
       "<Figure size 720x576 with 1 Axes>"
      ]
     },
     "metadata": {
      "needs_background": "light",
      "tags": []
     },
     "output_type": "display_data"
    }
   ],
   "source": [
    "#Boxplot of bathrooms and price\n",
    "plt.figure(figsize=(10,8))\n",
    "sns.boxplot(x=df['bathrooms'], y=df['price'])"
   ]
  },
  {
   "cell_type": "markdown",
   "metadata": {
    "id": "InliC1UwAPPe"
   },
   "source": [
    "There is a relationship between grade and price. As the overlap between the boxplots grows less and less, the price increases more and more. Thus, we can say that the higher the grade, the higher the price of the house."
   ]
  },
  {
   "cell_type": "code",
   "execution_count": 18,
   "metadata": {
    "colab": {
     "base_uri": "https://localhost:8080/",
     "height": 526
    },
    "id": "0rB-MWHwUzWz",
    "outputId": "fd74d85f-2176-4f94-8040-df5db8d20371"
   },
   "outputs": [
    {
     "data": {
      "text/plain": [
       "<matplotlib.axes._subplots.AxesSubplot at 0x7fb76be27a10>"
      ]
     },
     "execution_count": 18,
     "metadata": {
      "tags": []
     },
     "output_type": "execute_result"
    },
    {
     "data": {
      "image/png": "[encoded data removed]",
      "text/plain": [
       "<Figure size 720x576 with 1 Axes>"
      ]
     },
     "metadata": {
      "needs_background": "light",
      "tags": []
     },
     "output_type": "display_data"
    }
   ],
   "source": [
    "#Boxplot of grade and price.\n",
    "plt.figure(figsize=(10,8))\n",
    "sns.boxplot(x=df['grade'], y=df['price'])"
   ]
  },
  {
   "cell_type": "markdown",
   "metadata": {
    "id": "daBxIkSR_yUa"
   },
   "source": [
    "Boxplots are generally overlapping, showing that there generally isn't a difference in price for homes with different number of floors. We also can't say that there is a strong relationship between price and floors as well as 2.5 seems to be the most costly out of all of them. "
   ]
  },
  {
   "cell_type": "code",
   "execution_count": 19,
   "metadata": {
    "colab": {
     "base_uri": "https://localhost:8080/",
     "height": 526
    },
    "id": "3YvCRFVTV-i4",
    "outputId": "da1597d9-a050-4501-f120-dd79a796e721"
   },
   "outputs": [
    {
     "data": {
      "text/plain": [
       "<matplotlib.axes._subplots.AxesSubplot at 0x7fb76bcaccd0>"
      ]
     },
     "execution_count": 19,
     "metadata": {
      "tags": []
     },
     "output_type": "execute_result"
    },
    {
     "data": {
      "image/png": "[encoded data removed]",
      "text/plain": [
       "<Figure size 720x576 with 1 Axes>"
      ]
     },
     "metadata": {
      "needs_background": "light",
      "tags": []
     },
     "output_type": "display_data"
    }
   ],
   "source": [
    "#Boxplot between floor and price\n",
    "plt.figure(figsize=(10,8))\n",
    "sns.boxplot(x=df['floors'], y=df['price'])"
   ]
  },
  {
   "cell_type": "markdown",
   "metadata": {
    "id": "OQwxMaVS_b4Y"
   },
   "source": [
    "From 0-2, the boxplots overlap more, we can say that there is not much difference in price of houses with 0-2 view. However, prices of houses with 3-4 seem to be generally more than 0-2."
   ]
  },
  {
   "cell_type": "code",
   "execution_count": 20,
   "metadata": {
    "colab": {
     "base_uri": "https://localhost:8080/",
     "height": 526
    },
    "id": "mOC82K5pZ_tY",
    "outputId": "c3d586eb-a322-4503-b08d-de019353fe76"
   },
   "outputs": [
    {
     "data": {
      "text/plain": [
       "<matplotlib.axes._subplots.AxesSubplot at 0x7fb76c10cfd0>"
      ]
     },
     "execution_count": 20,
     "metadata": {
      "tags": []
     },
     "output_type": "execute_result"
    },
    {
     "data": {
      "image/png": "[encoded data removed]",
      "text/plain": [
       "<Figure size 720x576 with 1 Axes>"
      ]
     },
     "metadata": {
      "needs_background": "light",
      "tags": []
     },
     "output_type": "display_data"
    }
   ],
   "source": [
    "#Boxplot of view & price\n",
    "plt.figure(figsize=(10,8))\n",
    "sns.boxplot(x=df['view'], y=df['price'])"
   ]
  },
  {
   "cell_type": "markdown",
   "metadata": {
    "id": "LrdJF8vC_Kxx"
   },
   "source": [
    "Boxplots for 1 & 2 overlap while 3, 4, 5 also overlap with each other.\n",
    "This means that there isn't much of a difference in price between poorer conditions (1&2) and also between Okay - Better conditions (3-5)"
   ]
  },
  {
   "cell_type": "code",
   "execution_count": 21,
   "metadata": {
    "colab": {
     "base_uri": "https://localhost:8080/",
     "height": 526
    },
    "id": "Fn8P6ZrQhr_W",
    "outputId": "67d6907d-bb5d-42a3-90f7-82baa7592ec0"
   },
   "outputs": [
    {
     "data": {
      "text/plain": [
       "<matplotlib.axes._subplots.AxesSubplot at 0x7fb76bdb59d0>"
      ]
     },
     "execution_count": 21,
     "metadata": {
      "tags": []
     },
     "output_type": "execute_result"
    },
    {
     "data": {
      "image/png": "[encoded data removed]",
      "text/plain": [
       "<Figure size 720x576 with 1 Axes>"
      ]
     },
     "metadata": {
      "needs_background": "light",
      "tags": []
     },
     "output_type": "display_data"
    }
   ],
   "source": [
    "#Boxplot of condition and price\n",
    "plt.figure(figsize=(10,8))\n",
    "sns.boxplot(x=df['condition'], y=df['price'])"
   ]
  },
  {
   "cell_type": "markdown",
   "metadata": {
    "id": "NwSheMlrEkF5"
   },
   "source": [
    "###Data Preprocessing - Deskewing and removing outliers"
   ]
  },
  {
   "cell_type": "markdown",
   "metadata": {
    "id": "k_Fz8cQBF0sU"
   },
   "source": [
    "In this section I'll deskew the non categorical values."
   ]
  },
  {
   "cell_type": "code",
   "execution_count": 22,
   "metadata": {
    "colab": {
     "base_uri": "https://localhost:8080/",
     "height": 369
    },
    "id": "Qg7nxE2YfupH",
    "outputId": "95883a16-dc85-46f5-c13b-22d663d8cd89"
   },
   "outputs": [
    {
     "data": {
      "image/png": "[encoded data removed]",
      "text/plain": [
       "<Figure size 360x360 with 1 Axes>"
      ]
     },
     "metadata": {
      "needs_background": "light",
      "tags": []
     },
     "output_type": "display_data"
    }
   ],
   "source": [
    "#Checking for skewness in sqft_lot\n",
    "sns.displot(data=df['sqft_lot'], kde=True)\n",
    "plt.show()"
   ]
  },
  {
   "cell_type": "code",
   "execution_count": 23,
   "metadata": {
    "id": "WMJvLLGpgL8S"
   },
   "outputs": [],
   "source": [
    "#Deskewing sqft_lot\n",
    "df[\"sqft_lot\"] =np.log(df[\"sqft_lot\"])"
   ]
  },
  {
   "cell_type": "code",
   "execution_count": 24,
   "metadata": {
    "colab": {
     "base_uri": "https://localhost:8080/",
     "height": 369
    },
    "id": "l4ww5r80hA8v",
    "outputId": "863467c6-09fa-45ae-9abf-b2fbfb778b5d"
   },
   "outputs": [
    {
     "data": {
      "image/png": "[encoded data removed]",
      "text/plain": [
       "<Figure size 360x360 with 1 Axes>"
      ]
     },
     "metadata": {
      "needs_background": "light",
      "tags": []
     },
     "output_type": "display_data"
    }
   ],
   "source": [
    "#After deskewing\n",
    "sns.displot(data=df['sqft_lot'], kde=True)\n",
    "plt.show()"
   ]
  },
  {
   "cell_type": "code",
   "execution_count": 25,
   "metadata": {
    "id": "QNWinfNofXlE"
   },
   "outputs": [],
   "source": [
    "#Removing outliers from sqft_lot\n",
    "\n",
    "#Calculating IQR and using IQR to find and remove outliers\n",
    "Q1 = df['sqft_lot'].quantile(0.25)\n",
    "Q3 = df['sqft_lot'].quantile(0.75)\n",
    "IQR = Q3 - Q1\n",
    "df['sqft_lot'] = df['sqft_lot'][~((df['sqft_lot'] < (Q1 - 1.5 * IQR)) |(df['sqft_lot'] > (Q3 + 1.5 * IQR)))]"
   ]
  },
  {
   "cell_type": "markdown",
   "metadata": {
    "id": "Ig2RzEkil7wO"
   },
   "source": [
    "After deskewing and removing outliers, sqft_lot became more normal"
   ]
  },
  {
   "cell_type": "code",
   "execution_count": 26,
   "metadata": {
    "colab": {
     "base_uri": "https://localhost:8080/",
     "height": 369
    },
    "id": "c1HqOLvKf12H",
    "outputId": "ddd75077-4e87-4f87-90ab-3adca225b9f3"
   },
   "outputs": [
    {
     "data": {
      "image/png": "[encoded data removed]",
      "text/plain": [
       "<Figure size 360x360 with 1 Axes>"
      ]
     },
     "metadata": {
      "needs_background": "light",
      "tags": []
     },
     "output_type": "display_data"
    }
   ],
   "source": [
    "#After removing outliers\n",
    "sns.displot(data=df['sqft_lot'], kde=True)\n",
    "plt.show()"
   ]
  },
  {
   "cell_type": "code",
   "execution_count": 27,
   "metadata": {
    "colab": {
     "base_uri": "https://localhost:8080/",
     "height": 369
    },
    "id": "tI1mrls-h2aV",
    "outputId": "ae6e6f71-9ea3-48f8-fa62-e69e89185f99"
   },
   "outputs": [
    {
     "data": {
      "image/png": "[encoded data removed]",
      "text/plain": [
       "<Figure size 360x360 with 1 Axes>"
      ]
     },
     "metadata": {
      "needs_background": "light",
      "tags": []
     },
     "output_type": "display_data"
    }
   ],
   "source": [
    "#Checking for skewness in sqft_lot15\n",
    "sns.displot(data=df['sqft_lot15'], kde=True)\n",
    "plt.show()"
   ]
  },
  {
   "cell_type": "code",
   "execution_count": 28,
   "metadata": {
    "colab": {
     "base_uri": "https://localhost:8080/",
     "height": 369
    },
    "id": "LrETu23viANi",
    "outputId": "2a199ad8-0112-41fd-f86a-05d3c8950f7b"
   },
   "outputs": [
    {
     "data": {
      "image/png": "[encoded data removed]",
      "text/plain": [
       "<Figure size 360x360 with 1 Axes>"
      ]
     },
     "metadata": {
      "needs_background": "light",
      "tags": []
     },
     "output_type": "display_data"
    }
   ],
   "source": [
    "#Deskewing sqft_lotq5\n",
    "df[\"sqft_lot15\"] =np.log(df[\"sqft_lot15\"])\n",
    "\n",
    "#After deskewing\n",
    "sns.displot(data=df['sqft_lot15'], kde=True)\n",
    "plt.show()"
   ]
  },
  {
   "cell_type": "code",
   "execution_count": 29,
   "metadata": {
    "id": "qLNQkc-kiFJj"
   },
   "outputs": [],
   "source": [
    "#Removing outliers from sqft_lot15\n",
    "\n",
    "#Calculating IQR and using IQR to find and remove outliers\n",
    "Q1 = df['sqft_lot15'].quantile(0.25)\n",
    "Q3 = df['sqft_lot15'].quantile(0.75)\n",
    "IQR = Q3 - Q1\n",
    "df['sqft_lot15'] = df['sqft_lot15'][~((df['sqft_lot15'] < (Q1 - 1.5 * IQR)) |(df['sqft_lot15'] > (Q3 + 1.5 * IQR)))]"
   ]
  },
  {
   "cell_type": "code",
   "execution_count": 30,
   "metadata": {
    "colab": {
     "base_uri": "https://localhost:8080/",
     "height": 369
    },
    "id": "7AJZDN-tiVNM",
    "outputId": "009d2a00-4d96-4d9b-9015-5318449dcff3"
   },
   "outputs": [
    {
     "data": {
      "image/png": "[encoded data removed]",
      "text/plain": [
       "<Figure size 360x360 with 1 Axes>"
      ]
     },
     "metadata": {
      "needs_background": "light",
      "tags": []
     },
     "output_type": "display_data"
    }
   ],
   "source": [
    "#After removing outliers\n",
    "sns.displot(data=df['sqft_lot15'], kde=True)\n",
    "plt.show()"
   ]
  },
  {
   "cell_type": "code",
   "execution_count": 31,
   "metadata": {
    "colab": {
     "base_uri": "https://localhost:8080/",
     "height": 387
    },
    "id": "KWDA122mV_DS",
    "outputId": "c852e5d8-7218-4bf5-a828-479272d76a81"
   },
   "outputs": [
    {
     "data": {
      "text/plain": [
       "<Figure size 864x576 with 0 Axes>"
      ]
     },
     "metadata": {
      "tags": []
     },
     "output_type": "display_data"
    },
    {
     "data": {
      "image/png": "[encoded data removed]",
      "text/plain": [
       "<Figure size 360x360 with 1 Axes>"
      ]
     },
     "metadata": {
      "needs_background": "light",
      "tags": []
     },
     "output_type": "display_data"
    }
   ],
   "source": [
    "#Checking for skewness in price\n",
    "plt.figure(figsize=(12,8))\n",
    "sns.displot(data=df['price'], kde=True)\n",
    "plt.show()"
   ]
  },
  {
   "cell_type": "code",
   "execution_count": 32,
   "metadata": {
    "colab": {
     "base_uri": "https://localhost:8080/",
     "height": 369
    },
    "id": "gglUtuBwWRGC",
    "outputId": "676dccd0-ea80-48ab-b00e-2b4c85c95be4"
   },
   "outputs": [
    {
     "data": {
      "image/png": "[encoded data removed]",
      "text/plain": [
       "<Figure size 360x360 with 1 Axes>"
      ]
     },
     "metadata": {
      "needs_background": "light",
      "tags": []
     },
     "output_type": "display_data"
    }
   ],
   "source": [
    "#Deskewing price\n",
    "df[\"price\"] =np.log(df[\"price\"])\n",
    "\n",
    "#After deskewing\n",
    "sns.displot(data=df['price'], kde=True)\n",
    "plt.show()"
   ]
  },
  {
   "cell_type": "code",
   "execution_count": 33,
   "metadata": {
    "id": "muFWQNwwLGz4"
   },
   "outputs": [],
   "source": [
    "#Removing outliers from price\n",
    "\n",
    "#Calculating IQR and using IQR to find and remove outliers\n",
    "Q1 = df['price'].quantile(0.25)\n",
    "Q3 = df['price'].quantile(0.75)\n",
    "IQR = Q3 - Q1\n",
    "df['price'] = df['price'][~((df['price'] < (Q1 - 1.5 * IQR)) |(df['price'] > (Q3 + 1.5 * IQR)))]"
   ]
  },
  {
   "cell_type": "code",
   "execution_count": 34,
   "metadata": {
    "colab": {
     "base_uri": "https://localhost:8080/",
     "height": 387
    },
    "id": "Ek3UeW5nLQg8",
    "outputId": "7f18859f-6056-464e-abe9-27df4f1f630d"
   },
   "outputs": [
    {
     "data": {
      "text/plain": [
       "<Figure size 864x576 with 0 Axes>"
      ]
     },
     "metadata": {
      "tags": []
     },
     "output_type": "display_data"
    },
    {
     "data": {
      "image/png": "[encoded data removed]",
      "text/plain": [
       "<Figure size 360x360 with 1 Axes>"
      ]
     },
     "metadata": {
      "needs_background": "light",
      "tags": []
     },
     "output_type": "display_data"
    }
   ],
   "source": [
    "#After removing outliers from price\n",
    "plt.figure(figsize=(12,8) )\n",
    "sns.displot(data=df['price'], kde=True)\n",
    "plt.show()"
   ]
  },
  {
   "cell_type": "code",
   "execution_count": 35,
   "metadata": {
    "colab": {
     "base_uri": "https://localhost:8080/",
     "height": 387
    },
    "id": "YL56v2CTyKw0",
    "outputId": "c19be245-e8fa-4c8b-a3a3-6399aaa8d748"
   },
   "outputs": [
    {
     "data": {
      "text/plain": [
       "<Figure size 864x576 with 0 Axes>"
      ]
     },
     "metadata": {
      "tags": []
     },
     "output_type": "display_data"
    },
    {
     "data": {
      "image/png": "[encoded data removed]",
      "text/plain": [
       "<Figure size 360x360 with 1 Axes>"
      ]
     },
     "metadata": {
      "needs_background": "light",
      "tags": []
     },
     "output_type": "display_data"
    }
   ],
   "source": [
    "#Checking for skewness in age\n",
    "plt.figure(figsize=(12,8))\n",
    "sns.displot(data=df['age'], kde=True)\n",
    "plt.show()"
   ]
  },
  {
   "cell_type": "markdown",
   "metadata": {
    "id": "jaVrmk6pmCHf"
   },
   "source": [
    "Ran into an issue with age when trying to display the deskewed plot, and I wanted to find out why. Then I realised that the min value for age is -1, and that's why the log function returned infinity."
   ]
  },
  {
   "cell_type": "code",
   "execution_count": 36,
   "metadata": {
    "colab": {
     "base_uri": "https://localhost:8080/"
    },
    "id": "dUmXkptHylWC",
    "outputId": "0ce9141c-ee9b-4d34-fa16-1b964c4e5c44"
   },
   "outputs": [
    {
     "data": {
      "text/plain": [
       "-1"
      ]
     },
     "execution_count": 36,
     "metadata": {
      "tags": []
     },
     "output_type": "execute_result"
    }
   ],
   "source": [
    "df['age'].min()"
   ]
  },
  {
   "cell_type": "code",
   "execution_count": 37,
   "metadata": {
    "colab": {
     "base_uri": "https://localhost:8080/"
    },
    "id": "cGj1xbpuzF8J",
    "outputId": "44e99bec-d06d-450e-cc93-ad61815079fe"
   },
   "outputs": [
    {
     "data": {
      "text/plain": [
       "12"
      ]
     },
     "execution_count": 37,
     "metadata": {
      "tags": []
     },
     "output_type": "execute_result"
    }
   ],
   "source": [
    "df['age'].isin(['-1']).sum()"
   ]
  },
  {
   "cell_type": "markdown",
   "metadata": {
    "id": "ulrDZvW4mMl_"
   },
   "source": [
    "I replaced -1 with a reasonable value of 0 because maybe the house was built on the same year as it was sold."
   ]
  },
  {
   "cell_type": "code",
   "execution_count": 38,
   "metadata": {
    "id": "Vg_jV5ddzP3s"
   },
   "outputs": [],
   "source": [
    "#Replacing -1 with 0\n",
    "df['age'] = df['age'].replace(-1,0)"
   ]
  },
  {
   "cell_type": "code",
   "execution_count": 39,
   "metadata": {
    "colab": {
     "base_uri": "https://localhost:8080/"
    },
    "id": "j7V3jInCzj0Z",
    "outputId": "10aa279e-17be-47f9-8766-977ed2319b4c"
   },
   "outputs": [
    {
     "data": {
      "text/plain": [
       "0"
      ]
     },
     "execution_count": 39,
     "metadata": {
      "tags": []
     },
     "output_type": "execute_result"
    }
   ],
   "source": [
    "df['age'].min()"
   ]
  },
  {
   "cell_type": "code",
   "execution_count": 40,
   "metadata": {
    "colab": {
     "base_uri": "https://localhost:8080/",
     "height": 369
    },
    "id": "khGzqU4uzYU1",
    "outputId": "32101fb0-b1b5-4a35-ef87-205a5f5ccaff"
   },
   "outputs": [
    {
     "data": {
      "image/png": "[encoded data removed]",
      "text/plain": [
       "<Figure size 360x360 with 1 Axes>"
      ]
     },
     "metadata": {
      "needs_background": "light",
      "tags": []
     },
     "output_type": "display_data"
    }
   ],
   "source": [
    "#Deskewing age\n",
    "df[\"age\"] =np.log1p(df[\"age\"])\n",
    "\n",
    "#After deskewing\n",
    "sns.displot(data=df['age'], kde=True)\n",
    "plt.show()"
   ]
  },
  {
   "cell_type": "code",
   "execution_count": 41,
   "metadata": {
    "id": "6OJKzb1jz3s4"
   },
   "outputs": [],
   "source": [
    "#Removing outliers from age\n",
    "\n",
    "#Calculating IQR and using IQR to find and remove outliers\n",
    "Q1 = df['age'].quantile(0.25)\n",
    "Q3 = df['age'].quantile(0.75)\n",
    "IQR = Q3 - Q1\n",
    "df['age'] = df['age'][~((df['age'] < (Q1 - 1.5 * IQR)) |(df['age'] > (Q3 + 1.5 * IQR)))]"
   ]
  },
  {
   "cell_type": "code",
   "execution_count": 42,
   "metadata": {
    "colab": {
     "base_uri": "https://localhost:8080/",
     "height": 387
    },
    "id": "HFuVpb2L0pRc",
    "outputId": "9bbe7ab4-6e2e-4ed1-d969-980591467d64"
   },
   "outputs": [
    {
     "data": {
      "text/plain": [
       "<Figure size 864x576 with 0 Axes>"
      ]
     },
     "metadata": {
      "tags": []
     },
     "output_type": "display_data"
    },
    {
     "data": {
      "image/png": "[encoded data removed]",
      "text/plain": [
       "<Figure size 360x360 with 1 Axes>"
      ]
     },
     "metadata": {
      "needs_background": "light",
      "tags": []
     },
     "output_type": "display_data"
    }
   ],
   "source": [
    "#After removing outliers from age\n",
    "plt.figure(figsize=(12,8) )\n",
    "sns.displot(data=df['age'], kde=True)\n",
    "plt.show()"
   ]
  },
  {
   "cell_type": "markdown",
   "metadata": {
    "id": "PBzqkJlYtskX"
   },
   "source": [
    "Since I removed some values, there are some NaNs. We should remove NaNs as they could pose a problem further down the line when implementing models."
   ]
  },
  {
   "cell_type": "code",
   "execution_count": 43,
   "metadata": {
    "colab": {
     "base_uri": "https://localhost:8080/"
    },
    "id": "ysLdRD6AsoY6",
    "outputId": "6ee5364b-924e-459c-a858-b02d8e9ec569"
   },
   "outputs": [
    {
     "data": {
      "text/plain": [
       "price          333\n",
       "bedrooms        24\n",
       "bathrooms       10\n",
       "sqft_lot      2555\n",
       "floors           0\n",
       "waterfront       0\n",
       "view             0\n",
       "condition        0\n",
       "grade            0\n",
       "zipcode          0\n",
       "lat              0\n",
       "long             0\n",
       "sqft_lot15    2492\n",
       "age            901\n",
       "renovated        0\n",
       "dtype: int64"
      ]
     },
     "execution_count": 43,
     "metadata": {
      "tags": []
     },
     "output_type": "execute_result"
    }
   ],
   "source": [
    "df.isnull().sum()"
   ]
  },
  {
   "cell_type": "code",
   "execution_count": 44,
   "metadata": {
    "id": "qKZoxtX9s1q0"
   },
   "outputs": [],
   "source": [
    "#Replacing Nan with Mode\n",
    "df['bedrooms'].fillna(df['bedrooms'].mode()[0], inplace=True)\n",
    "df['bathrooms'].fillna(df['bathrooms'].mode()[0], inplace=True)\n",
    "\n",
    "#Replacing Nan with mean\n",
    "df['sqft_lot'].fillna(df['sqft_lot'].mean(), inplace=True)\n",
    "df['sqft_lot15'].fillna(df['sqft_lot15'].mean(), inplace=True)\n",
    "df['price'].fillna(df['price'].mean(), inplace=True)\n",
    "df['age'].fillna(df['age'].mean(), inplace=True)"
   ]
  },
  {
   "cell_type": "code",
   "execution_count": 45,
   "metadata": {
    "colab": {
     "base_uri": "https://localhost:8080/"
    },
    "id": "SiO9Z-heoj3q",
    "outputId": "7d424460-9bcd-404b-f3e4-f41308cad085"
   },
   "outputs": [
    {
     "data": {
      "text/plain": [
       "price         1.000000\n",
       "grade         0.637717\n",
       "bathrooms     0.490014\n",
       "lat           0.462802\n",
       "bedrooms      0.321847\n",
       "floors        0.299282\n",
       "view          0.273872\n",
       "renovated     0.099208\n",
       "age           0.096346\n",
       "waterfront    0.075583\n",
       "long          0.057581\n",
       "condition     0.031244\n",
       "zipcode       0.024814\n",
       "sqft_lot      0.016968\n",
       "sqft_lot15    0.010596\n",
       "Name: price, dtype: float64"
      ]
     },
     "execution_count": 45,
     "metadata": {
      "tags": []
     },
     "output_type": "execute_result"
    }
   ],
   "source": [
    "#Looking at corr\n",
    "idx = df.corr().abs().nlargest(df.shape[1],\"price\").index\n",
    "cm = df[idx].corr().abs()\n",
    "cm['price']"
   ]
  },
  {
   "cell_type": "code",
   "execution_count": 46,
   "metadata": {
    "id": "eZoyNnDxrvbj"
   },
   "outputs": [],
   "source": [
    "#Splitting X and y\n",
    "y = df['price']\n",
    "#Removing the 5 least corrs\n",
    "X = df.drop(['price','sqft_lot15','sqft_lot','zipcode','condition', 'long'], axis=1)"
   ]
  },
  {
   "cell_type": "markdown",
   "metadata": {
    "id": "BohQXE-i0Yez"
   },
   "source": [
    "###Data preprocessing - Scaling"
   ]
  },
  {
   "cell_type": "code",
   "execution_count": 47,
   "metadata": {
    "colab": {
     "base_uri": "https://localhost:8080/",
     "height": 143
    },
    "id": "xz5Jjf28GGsL",
    "outputId": "3adb23a9-a273-4c62-9e64-f620c886badd"
   },
   "outputs": [
    {
     "data": {
      "text/html": [
       "<div>\n",
       "<style scoped>\n",
       "    .dataframe tbody tr th:only-of-type {\n",
       "        vertical-align: middle;\n",
       "    }\n",
       "\n",
       "    .dataframe tbody tr th {\n",
       "        vertical-align: top;\n",
       "    }\n",
       "\n",
       "    .dataframe thead th {\n",
       "        text-align: right;\n",
       "    }\n",
       "</style>\n",
       "<table border=\"1\" class=\"dataframe\">\n",
       "  <thead>\n",
       "    <tr style=\"text-align: right;\">\n",
       "      <th></th>\n",
       "      <th>bedrooms</th>\n",
       "      <th>bathrooms</th>\n",
       "      <th>floors</th>\n",
       "      <th>waterfront</th>\n",
       "      <th>view</th>\n",
       "      <th>grade</th>\n",
       "      <th>lat</th>\n",
       "      <th>age</th>\n",
       "      <th>renovated</th>\n",
       "    </tr>\n",
       "  </thead>\n",
       "  <tbody>\n",
       "    <tr>\n",
       "      <th>0</th>\n",
       "      <td>3.0</td>\n",
       "      <td>1.00</td>\n",
       "      <td>1.0</td>\n",
       "      <td>0</td>\n",
       "      <td>0</td>\n",
       "      <td>7</td>\n",
       "      <td>47.5112</td>\n",
       "      <td>4.094345</td>\n",
       "      <td>0</td>\n",
       "    </tr>\n",
       "    <tr>\n",
       "      <th>1</th>\n",
       "      <td>3.0</td>\n",
       "      <td>2.25</td>\n",
       "      <td>2.0</td>\n",
       "      <td>0</td>\n",
       "      <td>0</td>\n",
       "      <td>7</td>\n",
       "      <td>47.7210</td>\n",
       "      <td>4.158883</td>\n",
       "      <td>1</td>\n",
       "    </tr>\n",
       "    <tr>\n",
       "      <th>2</th>\n",
       "      <td>2.0</td>\n",
       "      <td>1.00</td>\n",
       "      <td>1.0</td>\n",
       "      <td>0</td>\n",
       "      <td>0</td>\n",
       "      <td>6</td>\n",
       "      <td>47.7379</td>\n",
       "      <td>4.418841</td>\n",
       "      <td>0</td>\n",
       "    </tr>\n",
       "  </tbody>\n",
       "</table>\n",
       "</div>"
      ],
      "text/plain": [
       "   bedrooms  bathrooms  floors  waterfront  ...  grade      lat       age  renovated\n",
       "0       3.0       1.00     1.0           0  ...      7  47.5112  4.094345          0\n",
       "1       3.0       2.25     2.0           0  ...      7  47.7210  4.158883          1\n",
       "2       2.0       1.00     1.0           0  ...      6  47.7379  4.418841          0\n",
       "\n",
       "[3 rows x 9 columns]"
      ]
     },
     "execution_count": 47,
     "metadata": {
      "tags": []
     },
     "output_type": "execute_result"
    }
   ],
   "source": [
    "X.head(3)"
   ]
  },
  {
   "cell_type": "markdown",
   "metadata": {
    "id": "0zLP1o3Pi2x1"
   },
   "source": [
    "From the X.head(3), we can see that compared to the rest, the lat is quite big. Thus we have to scale"
   ]
  },
  {
   "cell_type": "code",
   "execution_count": 48,
   "metadata": {
    "id": "tH0OGOd-jHno"
   },
   "outputs": [],
   "source": [
    "#Splitting data\n",
    "from sklearn.model_selection import train_test_split\n",
    "X_train, X_test, y_train, y_test = train_test_split(X,y,\n",
    "        test_size=0.2, random_state=2)"
   ]
  },
  {
   "cell_type": "code",
   "execution_count": 49,
   "metadata": {
    "id": "C7dYMLsDjewm"
   },
   "outputs": [],
   "source": [
    "from sklearn.preprocessing import StandardScaler\n",
    "zscaler = StandardScaler()\n",
    "zscaler.fit(X_train)\n",
    "\n",
    "X_train_std = zscaler.transform(X_train)\n",
    "X_test_std = zscaler.transform(X_test)"
   ]
  },
  {
   "cell_type": "markdown",
   "metadata": {
    "id": "bqvsSj_J8wDg"
   },
   "source": [
    "##K-Nearest Neighbor"
   ]
  },
  {
   "cell_type": "markdown",
   "metadata": {
    "id": "7Uf_XJgwo15n"
   },
   "source": [
    "I plan to find all the best params for each model, and fine tune them accordingly. After that, I'll pick the best model out of all the fine tuned models."
   ]
  },
  {
   "cell_type": "code",
   "execution_count": null,
   "metadata": {
    "id": "b3Zfbc0yjBQ0"
   },
   "outputs": [],
   "source": [
    "#Finding best params for KNeighbors\n",
    "from sklearn.neighbors import KNeighborsRegressor\n",
    "from sklearn.model_selection import GridSearchCV\n",
    "\n",
    "params = {'n_neighbors': [2,4,6,8,10,20,30], 'algorithm':['auto','ball_tree','kd_tree','brute']}\n",
    "knn = KNeighborsRegressor()\n",
    "grid = GridSearchCV(knn, param_grid=params, cv=10)\n",
    "grid.fit(X_train_std, y_train)\n",
    "\n",
    "#Output GridSearch vals\n",
    "print(\"Best mean cross_validation score: {:.3f}\".format(grid.best_score_))\n",
    "print(\"Best parameters:\",grid.best_params_)\n",
    "print(\"Test-set score (Best): {:.3f}\".format(grid.best_estimator_.score(X_test_std,y_test)))\n",
    "print(\"Test-set score (Grid): {:.3f}\".format(grid.score(X_test_std, y_test)))\n"
   ]
  },
  {
   "cell_type": "code",
   "execution_count": 56,
   "metadata": {
    "colab": {
     "base_uri": "https://localhost:8080/",
     "height": 153
    },
    "id": "QuDD5PrE8zFT",
    "outputId": "32e20a3d-512b-47e4-fa97-5e3d980907e1"
   },
   "outputs": [
    {
     "name": "stdout",
     "output_type": "stream",
     "text": [
      "MSE (means error) 0.062120432530136944\n",
      "R2 (test) 0.7361374086734476\n",
      "MSE (means error) 0.055529610639028185\n",
      "R2 (train) 0.7631383631297466\n"
     ]
    },
    {
     "data": {
      "text/html": [
       "<div>\n",
       "<style scoped>\n",
       "    .dataframe tbody tr th:only-of-type {\n",
       "        vertical-align: middle;\n",
       "    }\n",
       "\n",
       "    .dataframe tbody tr th {\n",
       "        vertical-align: top;\n",
       "    }\n",
       "\n",
       "    .dataframe thead th {\n",
       "        text-align: right;\n",
       "    }\n",
       "</style>\n",
       "<table border=\"1\" class=\"dataframe\">\n",
       "  <thead>\n",
       "    <tr style=\"text-align: right;\">\n",
       "      <th></th>\n",
       "      <th>MSE (test)</th>\n",
       "      <th>R2 (test)</th>\n",
       "      <th>MSE (train)</th>\n",
       "      <th>R2 (train)</th>\n",
       "    </tr>\n",
       "  </thead>\n",
       "  <tbody>\n",
       "    <tr>\n",
       "      <th>K-Nearest Neighbor</th>\n",
       "      <td>0.06212</td>\n",
       "      <td>0.736137</td>\n",
       "      <td>0.05553</td>\n",
       "      <td>0.763138</td>\n",
       "    </tr>\n",
       "  </tbody>\n",
       "</table>\n",
       "</div>"
      ],
      "text/plain": [
       "                    MSE (test)  R2 (test)  MSE (train)  R2 (train)\n",
       "K-Nearest Neighbor     0.06212   0.736137      0.05553    0.763138"
      ]
     },
     "execution_count": 56,
     "metadata": {
      "tags": []
     },
     "output_type": "execute_result"
    }
   ],
   "source": [
    "# KNN\n",
    "from sklearn.model_selection import cross_val_score\n",
    "from sklearn import metrics\n",
    "from sklearn.neighbors import KNeighborsRegressor\n",
    "clf = KNeighborsRegressor(n_neighbors = 20, algorithm= 'auto')\n",
    "clf.fit(X_train_std, y_train)\n",
    "\n",
    "# make predictions\n",
    "expected = y_test\n",
    "predicted = clf.predict(X_test_std)\n",
    "# summarize the fit of the model\n",
    "vals = {}\n",
    "vals['MSE (test)'] = metrics.mean_squared_error(expected, predicted)\n",
    "print(\"MSE (means error)\",vals['MSE (test)'])\n",
    "vals['R2 (test)'] = metrics.r2_score(expected, predicted)\n",
    "print(\"R2 (test)\",vals['R2 (test)'])\n",
    "\n",
    "# make predictions\n",
    "expected = y_train\n",
    "predicted = clf.predict(X_train_std)\n",
    "\n",
    "# summarize the fit of the model\n",
    "vals['MSE (train)'] = metrics.mean_squared_error(expected, predicted)\n",
    "print(\"MSE (means error)\",vals['MSE (train)'])\n",
    "vals['R2 (train)'] = metrics.r2_score(expected, predicted)\n",
    "print(\"R2 (train)\",vals['R2 (train)'])\n",
    "comparedf = pd.DataFrame(vals,index=[\"K-Nearest Neighbor\"])\n",
    "comparedf"
   ]
  },
  {
   "cell_type": "markdown",
   "metadata": {
    "id": "NFXD6cC42RNG"
   },
   "source": [
    "##Dummy Model"
   ]
  },
  {
   "cell_type": "markdown",
   "metadata": {
    "id": "D0LU-vKV2Tzj"
   },
   "source": [
    "Included a dummy model so can compare to other models"
   ]
  },
  {
   "cell_type": "code",
   "execution_count": 54,
   "metadata": {
    "colab": {
     "base_uri": "https://localhost:8080/"
    },
    "id": "Beq_X2232TZG",
    "outputId": "82e18ef4-06a6-4c2e-8677-a1409fc30239"
   },
   "outputs": [
    {
     "name": "stdout",
     "output_type": "stream",
     "text": [
      "Best mean cross_validation score: -0.001\n",
      "Best parameters: {'strategy': 'mean'}\n",
      "Test-set score (Best): -0.000\n",
      "Test-set score (Grid): -0.000\n"
     ]
    }
   ],
   "source": [
    "#Finding best params for Dummy\n",
    "from sklearn.dummy import DummyRegressor\n",
    "from sklearn.model_selection import GridSearchCV\n",
    "import warnings\n",
    "warnings.filterwarnings(\"ignore\")\n",
    "\n",
    "params = {'strategy': ['mean','median','quantile','constant']}\n",
    "dum = DummyRegressor()\n",
    "grid = GridSearchCV(dum, param_grid=params, cv=10)\n",
    "grid.fit(X_train_std, y_train)\n",
    "\n",
    "#Output GridSearch vals\n",
    "print(\"Best mean cross_validation score: {:.3f}\".format(grid.best_score_))\n",
    "print(\"Best parameters:\",grid.best_params_)\n",
    "print(\"Test-set score (Best): {:.3f}\".format(grid.best_estimator_.score(X_test_std,y_test)))\n",
    "print(\"Test-set score (Grid): {:.3f}\".format(grid.score(X_test_std, y_test)))"
   ]
  },
  {
   "cell_type": "code",
   "execution_count": 57,
   "metadata": {
    "colab": {
     "base_uri": "https://localhost:8080/",
     "height": 185
    },
    "id": "bvYApOUH30_7",
    "outputId": "69093b34-a7aa-4b26-f03d-ed9623f1ff08"
   },
   "outputs": [
    {
     "name": "stdout",
     "output_type": "stream",
     "text": [
      "MSE (means error) 0.23542736149188173\n",
      "R2 (test) -6.622987367421729e-07\n",
      "MSE (means error) 0.23443902259885946\n",
      "R2 (train) 0.0\n"
     ]
    },
    {
     "data": {
      "text/html": [
       "<div>\n",
       "<style scoped>\n",
       "    .dataframe tbody tr th:only-of-type {\n",
       "        vertical-align: middle;\n",
       "    }\n",
       "\n",
       "    .dataframe tbody tr th {\n",
       "        vertical-align: top;\n",
       "    }\n",
       "\n",
       "    .dataframe thead th {\n",
       "        text-align: right;\n",
       "    }\n",
       "</style>\n",
       "<table border=\"1\" class=\"dataframe\">\n",
       "  <thead>\n",
       "    <tr style=\"text-align: right;\">\n",
       "      <th></th>\n",
       "      <th>MSE (test)</th>\n",
       "      <th>R2 (test)</th>\n",
       "      <th>MSE (train)</th>\n",
       "      <th>R2 (train)</th>\n",
       "    </tr>\n",
       "  </thead>\n",
       "  <tbody>\n",
       "    <tr>\n",
       "      <th>K-Nearest Neighbor</th>\n",
       "      <td>0.062120</td>\n",
       "      <td>7.361374e-01</td>\n",
       "      <td>0.055530</td>\n",
       "      <td>0.763138</td>\n",
       "    </tr>\n",
       "    <tr>\n",
       "      <th>Dummy</th>\n",
       "      <td>0.235427</td>\n",
       "      <td>-6.622987e-07</td>\n",
       "      <td>0.234439</td>\n",
       "      <td>0.000000</td>\n",
       "    </tr>\n",
       "  </tbody>\n",
       "</table>\n",
       "</div>"
      ],
      "text/plain": [
       "                    MSE (test)     R2 (test)  MSE (train)  R2 (train)\n",
       "K-Nearest Neighbor    0.062120  7.361374e-01     0.055530    0.763138\n",
       "Dummy                 0.235427 -6.622987e-07     0.234439    0.000000"
      ]
     },
     "execution_count": 57,
     "metadata": {
      "tags": []
     },
     "output_type": "execute_result"
    }
   ],
   "source": [
    "#Dummy\n",
    "from sklearn.dummy import DummyRegressor\n",
    "\n",
    "clf = DummyRegressor(strategy = 'mean')\n",
    "clf.fit(X_train_std, y_train)\n",
    "\n",
    "# make predictions\n",
    "expected = y_test\n",
    "predicted = clf.predict(X_test_std)\n",
    "# summarize the fit of the model\n",
    "vals = {}\n",
    "vals['MSE (test)'] = metrics.mean_squared_error(expected, predicted)\n",
    "print(\"MSE (means error)\",vals['MSE (test)'])\n",
    "vals['R2 (test)'] = metrics.r2_score(expected, predicted)\n",
    "print(\"R2 (test)\",vals['R2 (test)'])\n",
    "\n",
    "# make predictions\n",
    "expected = y_train\n",
    "predicted = clf.predict(X_train_std)\n",
    "\n",
    "# summarize the fit of the model\n",
    "vals['MSE (train)'] = metrics.mean_squared_error(expected, predicted)\n",
    "print(\"MSE (means error)\",vals['MSE (train)'])\n",
    "vals['R2 (train)'] = metrics.r2_score(expected, predicted)\n",
    "print(\"R2 (train)\",vals['R2 (train)'])\n",
    "row = pd.DataFrame(vals,index=[\"Dummy\"])\n",
    "comparedf = comparedf.append(row)\n",
    "comparedf"
   ]
  },
  {
   "cell_type": "markdown",
   "metadata": {
    "id": "s_zbg2-EkCnM"
   },
   "source": [
    "##Linear Regression"
   ]
  },
  {
   "cell_type": "markdown",
   "metadata": {
    "id": "kKcGbrKImq1X"
   },
   "source": [
    "I had to include linear regression as it's a simpler baseline, and it is good to compare other models to a simpler baseline to see its standing."
   ]
  },
  {
   "cell_type": "code",
   "execution_count": null,
   "metadata": {
    "colab": {
     "base_uri": "https://localhost:8080/"
    },
    "id": "rDY_X5PVjOjW",
    "outputId": "c99cb129-c616-4dce-b633-e7f2a4f50993"
   },
   "outputs": [
    {
     "name": "stdout",
     "output_type": "stream",
     "text": [
      "Best mean cross_validation score: 0.615\n",
      "Best parameters: {'n_jobs': -1}\n",
      "Test-set score (Best): 0.616\n",
      "Test-set score (Grid): 0.616\n"
     ]
    }
   ],
   "source": [
    "#Finding best params for Linear Regression\n",
    "from sklearn.linear_model import LinearRegression\n",
    "params = {'n_jobs': [-1,1,2,3,4]}\n",
    "linReg = LinearRegression()\n",
    "grid = GridSearchCV(linReg, param_grid=params, cv=10)\n",
    "grid.fit(X_train_std, y_train)\n",
    "\n",
    "#Output GridSearch vals\n",
    "print(\"Best mean cross_validation score: {:.3f}\".format(grid.best_score_))\n",
    "print(\"Best parameters:\",grid.best_params_)\n",
    "print(\"Test-set score (Best): {:.3f}\".format(grid.best_estimator_.score(X_test_std,y_test)))\n",
    "print(\"Test-set score (Grid): {:.3f}\".format(grid.score(X_test_std, y_test)))"
   ]
  },
  {
   "cell_type": "code",
   "execution_count": 58,
   "metadata": {
    "colab": {
     "base_uri": "https://localhost:8080/",
     "height": 216
    },
    "id": "R4RULYCDlC60",
    "outputId": "7e58bc59-0283-4d99-ce9f-5af68e89e7c9"
   },
   "outputs": [
    {
     "name": "stdout",
     "output_type": "stream",
     "text": [
      "MSE (means error) 0.09049417403529837\n",
      "R2 (test) 0.6156171763722713\n",
      "MSE (means error) 0.0899346878200485\n",
      "R2 (train) 0.6163834551812961\n"
     ]
    },
    {
     "data": {
      "text/html": [
       "<div>\n",
       "<style scoped>\n",
       "    .dataframe tbody tr th:only-of-type {\n",
       "        vertical-align: middle;\n",
       "    }\n",
       "\n",
       "    .dataframe tbody tr th {\n",
       "        vertical-align: top;\n",
       "    }\n",
       "\n",
       "    .dataframe thead th {\n",
       "        text-align: right;\n",
       "    }\n",
       "</style>\n",
       "<table border=\"1\" class=\"dataframe\">\n",
       "  <thead>\n",
       "    <tr style=\"text-align: right;\">\n",
       "      <th></th>\n",
       "      <th>MSE (test)</th>\n",
       "      <th>R2 (test)</th>\n",
       "      <th>MSE (train)</th>\n",
       "      <th>R2 (train)</th>\n",
       "    </tr>\n",
       "  </thead>\n",
       "  <tbody>\n",
       "    <tr>\n",
       "      <th>K-Nearest Neighbor</th>\n",
       "      <td>0.062120</td>\n",
       "      <td>7.361374e-01</td>\n",
       "      <td>0.055530</td>\n",
       "      <td>0.763138</td>\n",
       "    </tr>\n",
       "    <tr>\n",
       "      <th>Dummy</th>\n",
       "      <td>0.235427</td>\n",
       "      <td>-6.622987e-07</td>\n",
       "      <td>0.234439</td>\n",
       "      <td>0.000000</td>\n",
       "    </tr>\n",
       "    <tr>\n",
       "      <th>Linear Regression</th>\n",
       "      <td>0.090494</td>\n",
       "      <td>6.156172e-01</td>\n",
       "      <td>0.089935</td>\n",
       "      <td>0.616383</td>\n",
       "    </tr>\n",
       "  </tbody>\n",
       "</table>\n",
       "</div>"
      ],
      "text/plain": [
       "                    MSE (test)     R2 (test)  MSE (train)  R2 (train)\n",
       "K-Nearest Neighbor    0.062120  7.361374e-01     0.055530    0.763138\n",
       "Dummy                 0.235427 -6.622987e-07     0.234439    0.000000\n",
       "Linear Regression     0.090494  6.156172e-01     0.089935    0.616383"
      ]
     },
     "execution_count": 58,
     "metadata": {
      "tags": []
     },
     "output_type": "execute_result"
    }
   ],
   "source": [
    "#Linear Regression\n",
    "from sklearn.linear_model import LinearRegression\n",
    "\n",
    "clf = LinearRegression(n_jobs=\"-1\")\n",
    "clf.fit(X_train_std, y_train)\n",
    "\n",
    "# make predictions\n",
    "expected = y_test\n",
    "predicted = clf.predict(X_test_std)\n",
    "# summarize the fit of the model\n",
    "vals = {}\n",
    "vals['MSE (test)'] = metrics.mean_squared_error(expected, predicted)\n",
    "print(\"MSE (means error)\",vals['MSE (test)'])\n",
    "vals['R2 (test)'] = metrics.r2_score(expected, predicted)\n",
    "print(\"R2 (test)\",vals['R2 (test)'])\n",
    "\n",
    "# make predictions\n",
    "expected = y_train\n",
    "predicted = clf.predict(X_train_std)\n",
    "\n",
    "# summarize the fit of the model\n",
    "vals['MSE (train)'] = metrics.mean_squared_error(expected, predicted)\n",
    "print(\"MSE (means error)\",vals['MSE (train)'])\n",
    "vals['R2 (train)'] = metrics.r2_score(expected, predicted)\n",
    "print(\"R2 (train)\",vals['R2 (train)'])\n",
    "row = pd.DataFrame(vals,index=[\"Linear Regression\"])\n",
    "comparedf = comparedf.append(row)\n",
    "comparedf"
   ]
  },
  {
   "cell_type": "markdown",
   "metadata": {
    "id": "XOHnpofNETlB"
   },
   "source": [
    "##Lasso"
   ]
  },
  {
   "cell_type": "code",
   "execution_count": null,
   "metadata": {
    "colab": {
     "base_uri": "https://localhost:8080/"
    },
    "id": "aCiWM8C4v1pf",
    "outputId": "594249f3-9b82-41bd-8a38-fae7cf22aac9"
   },
   "outputs": [
    {
     "name": "stdout",
     "output_type": "stream",
     "text": [
      "Best mean cross_validation score: 0.612\n",
      "Best parameters: {'alpha': 0.01}\n",
      "Test-set score (Best): 0.613\n",
      "Test-set score (Grid): 0.613\n"
     ]
    }
   ],
   "source": [
    "#Finding best params for Lasso\n",
    "from sklearn.linear_model import Lasso\n",
    "params = {'alpha': [0.01,0.03,0.05,0.1,0.3,0.5,0.7,0.9,1]}\n",
    "lasso = Lasso()\n",
    "grid = GridSearchCV(lasso, param_grid=params, cv=10)\n",
    "grid.fit(X_train_std, y_train)\n",
    "\n",
    "#Output GridSearch vals\n",
    "print(\"Best mean cross_validation score: {:.3f}\".format(grid.best_score_))\n",
    "print(\"Best parameters:\",grid.best_params_)\n",
    "print(\"Test-set score (Best): {:.3f}\".format(grid.best_estimator_.score(X_test_std,y_test)))\n",
    "print(\"Test-set score (Grid): {:.3f}\".format(grid.score(X_test_std, y_test)))\n"
   ]
  },
  {
   "cell_type": "code",
   "execution_count": 70,
   "metadata": {
    "colab": {
     "base_uri": "https://localhost:8080/",
     "height": 342
    },
    "id": "n1I7aA05EYZI",
    "outputId": "da3276a4-232c-4317-b121-bc5ec5a6fcbb"
   },
   "outputs": [
    {
     "name": "stdout",
     "output_type": "stream",
     "text": [
      "MSE (means error) 0.09117111292192778\n",
      "R2 (test) 0.6127418124779666\n",
      "MSE (means error) 0.09071562139791672\n",
      "R2 (train) 0.6130523818420063\n"
     ]
    },
    {
     "data": {
      "text/html": [
       "<div>\n",
       "<style scoped>\n",
       "    .dataframe tbody tr th:only-of-type {\n",
       "        vertical-align: middle;\n",
       "    }\n",
       "\n",
       "    .dataframe tbody tr th {\n",
       "        vertical-align: top;\n",
       "    }\n",
       "\n",
       "    .dataframe thead th {\n",
       "        text-align: right;\n",
       "    }\n",
       "</style>\n",
       "<table border=\"1\" class=\"dataframe\">\n",
       "  <thead>\n",
       "    <tr style=\"text-align: right;\">\n",
       "      <th></th>\n",
       "      <th>MSE (test)</th>\n",
       "      <th>R2 (test)</th>\n",
       "      <th>MSE (train)</th>\n",
       "      <th>R2 (train)</th>\n",
       "    </tr>\n",
       "  </thead>\n",
       "  <tbody>\n",
       "    <tr>\n",
       "      <th>K-Nearest Neighbor</th>\n",
       "      <td>0.062120</td>\n",
       "      <td>7.361374e-01</td>\n",
       "      <td>0.055530</td>\n",
       "      <td>0.763138</td>\n",
       "    </tr>\n",
       "    <tr>\n",
       "      <th>Dummy</th>\n",
       "      <td>0.235427</td>\n",
       "      <td>-6.622987e-07</td>\n",
       "      <td>0.234439</td>\n",
       "      <td>0.000000</td>\n",
       "    </tr>\n",
       "    <tr>\n",
       "      <th>Linear Regression</th>\n",
       "      <td>0.090494</td>\n",
       "      <td>6.156172e-01</td>\n",
       "      <td>0.089935</td>\n",
       "      <td>0.616383</td>\n",
       "    </tr>\n",
       "    <tr>\n",
       "      <th>Decision Tree</th>\n",
       "      <td>0.061853</td>\n",
       "      <td>7.372732e-01</td>\n",
       "      <td>0.055539</td>\n",
       "      <td>0.763098</td>\n",
       "    </tr>\n",
       "    <tr>\n",
       "      <th>Random Forest</th>\n",
       "      <td>0.053402</td>\n",
       "      <td>7.731693e-01</td>\n",
       "      <td>0.022653</td>\n",
       "      <td>0.903375</td>\n",
       "    </tr>\n",
       "    <tr>\n",
       "      <th>Support Vector Regressor</th>\n",
       "      <td>0.059829</td>\n",
       "      <td>7.458695e-01</td>\n",
       "      <td>0.052273</td>\n",
       "      <td>0.777028</td>\n",
       "    </tr>\n",
       "    <tr>\n",
       "      <th>Lasso</th>\n",
       "      <td>0.091171</td>\n",
       "      <td>6.127418e-01</td>\n",
       "      <td>0.090716</td>\n",
       "      <td>0.613052</td>\n",
       "    </tr>\n",
       "  </tbody>\n",
       "</table>\n",
       "</div>"
      ],
      "text/plain": [
       "                          MSE (test)     R2 (test)  MSE (train)  R2 (train)\n",
       "K-Nearest Neighbor          0.062120  7.361374e-01     0.055530    0.763138\n",
       "Dummy                       0.235427 -6.622987e-07     0.234439    0.000000\n",
       "Linear Regression           0.090494  6.156172e-01     0.089935    0.616383\n",
       "Decision Tree               0.061853  7.372732e-01     0.055539    0.763098\n",
       "Random Forest               0.053402  7.731693e-01     0.022653    0.903375\n",
       "Support Vector Regressor    0.059829  7.458695e-01     0.052273    0.777028\n",
       "Lasso                       0.091171  6.127418e-01     0.090716    0.613052"
      ]
     },
     "execution_count": 70,
     "metadata": {
      "tags": []
     },
     "output_type": "execute_result"
    }
   ],
   "source": [
    "#Lasso\n",
    "from sklearn.linear_model import Lasso\n",
    "clf = Lasso(alpha = 0.01)\n",
    "clf.fit(X_train_std, y_train)\n",
    "\n",
    "# make predictions\n",
    "expected = y_test\n",
    "predicted = clf.predict(X_test_std)\n",
    "# summarize the fit of the model\n",
    "vals = {}\n",
    "vals['MSE (test)'] = metrics.mean_squared_error(expected, predicted)\n",
    "print(\"MSE (means error)\",vals['MSE (test)'])\n",
    "vals['R2 (test)'] = metrics.r2_score(expected, predicted)\n",
    "print(\"R2 (test)\",vals['R2 (test)'])\n",
    "\n",
    "# make predictions\n",
    "expected = y_train\n",
    "predicted = clf.predict(X_train_std)\n",
    "\n",
    "# summarize the fit of the model\n",
    "vals['MSE (train)'] = metrics.mean_squared_error(expected, predicted)\n",
    "print(\"MSE (means error)\",vals['MSE (train)'])\n",
    "vals['R2 (train)'] = metrics.r2_score(expected, predicted)\n",
    "print(\"R2 (train)\",vals['R2 (train)'])\n",
    "row = pd.DataFrame(vals,index=[\"Lasso\"])\n",
    "comparedf = comparedf.append(row)\n",
    "comparedf"
   ]
  },
  {
   "cell_type": "markdown",
   "metadata": {
    "id": "rGtx1SCcCYFG"
   },
   "source": [
    "##Ridge"
   ]
  },
  {
   "cell_type": "code",
   "execution_count": null,
   "metadata": {
    "colab": {
     "base_uri": "https://localhost:8080/"
    },
    "id": "e-pqokMn1uAp",
    "outputId": "31d6486f-c152-40c4-a63a-2c03d3ab3501"
   },
   "outputs": [
    {
     "name": "stdout",
     "output_type": "stream",
     "text": [
      "Best mean cross_validation score: 0.615\n",
      "Best parameters: {'alpha': 1.0}\n",
      "Test-set score (Best): 0.616\n",
      "Test-set score (Grid): 0.616\n"
     ]
    }
   ],
   "source": [
    "#Finding the best params for Ridge\n",
    "from sklearn.linear_model import Ridge\n",
    "\n",
    "alphas = np.logspace(-4, 0, 50)\n",
    "params = {'alpha': alphas}\n",
    "ridge = Ridge()\n",
    "grid = GridSearchCV(ridge, param_grid=params, cv=10)\n",
    "grid.fit(X_train_std, y_train)\n",
    "\n",
    "#Output GridSearch vals\n",
    "print(\"Best mean cross_validation score: {:.3f}\".format(grid.best_score_))\n",
    "print(\"Best parameters:\",grid.best_params_)\n",
    "print(\"Test-set score (Best): {:.3f}\".format(grid.best_estimator_.score(X_test_std,y_test)))\n",
    "print(\"Test-set score (Grid): {:.3f}\".format(grid.score(X_test_std, y_test)))\n"
   ]
  },
  {
   "cell_type": "code",
   "execution_count": 71,
   "metadata": {
    "colab": {
     "base_uri": "https://localhost:8080/",
     "height": 373
    },
    "id": "QsQLY1-sUEE1",
    "outputId": "a6f91773-d36b-49cd-d4c2-3874339f2907"
   },
   "outputs": [
    {
     "name": "stdout",
     "output_type": "stream",
     "text": [
      "MSE (means error) 0.09049399847265392\n",
      "R2 (test) 0.6156179220917135\n",
      "MSE (means error) 0.08993468821563236\n",
      "R2 (train) 0.6163834534939325\n"
     ]
    },
    {
     "data": {
      "text/html": [
       "<div>\n",
       "<style scoped>\n",
       "    .dataframe tbody tr th:only-of-type {\n",
       "        vertical-align: middle;\n",
       "    }\n",
       "\n",
       "    .dataframe tbody tr th {\n",
       "        vertical-align: top;\n",
       "    }\n",
       "\n",
       "    .dataframe thead th {\n",
       "        text-align: right;\n",
       "    }\n",
       "</style>\n",
       "<table border=\"1\" class=\"dataframe\">\n",
       "  <thead>\n",
       "    <tr style=\"text-align: right;\">\n",
       "      <th></th>\n",
       "      <th>MSE (test)</th>\n",
       "      <th>R2 (test)</th>\n",
       "      <th>MSE (train)</th>\n",
       "      <th>R2 (train)</th>\n",
       "    </tr>\n",
       "  </thead>\n",
       "  <tbody>\n",
       "    <tr>\n",
       "      <th>K-Nearest Neighbor</th>\n",
       "      <td>0.062120</td>\n",
       "      <td>7.361374e-01</td>\n",
       "      <td>0.055530</td>\n",
       "      <td>0.763138</td>\n",
       "    </tr>\n",
       "    <tr>\n",
       "      <th>Dummy</th>\n",
       "      <td>0.235427</td>\n",
       "      <td>-6.622987e-07</td>\n",
       "      <td>0.234439</td>\n",
       "      <td>0.000000</td>\n",
       "    </tr>\n",
       "    <tr>\n",
       "      <th>Linear Regression</th>\n",
       "      <td>0.090494</td>\n",
       "      <td>6.156172e-01</td>\n",
       "      <td>0.089935</td>\n",
       "      <td>0.616383</td>\n",
       "    </tr>\n",
       "    <tr>\n",
       "      <th>Decision Tree</th>\n",
       "      <td>0.061853</td>\n",
       "      <td>7.372732e-01</td>\n",
       "      <td>0.055539</td>\n",
       "      <td>0.763098</td>\n",
       "    </tr>\n",
       "    <tr>\n",
       "      <th>Random Forest</th>\n",
       "      <td>0.053402</td>\n",
       "      <td>7.731693e-01</td>\n",
       "      <td>0.022653</td>\n",
       "      <td>0.903375</td>\n",
       "    </tr>\n",
       "    <tr>\n",
       "      <th>Support Vector Regressor</th>\n",
       "      <td>0.059829</td>\n",
       "      <td>7.458695e-01</td>\n",
       "      <td>0.052273</td>\n",
       "      <td>0.777028</td>\n",
       "    </tr>\n",
       "    <tr>\n",
       "      <th>Lasso</th>\n",
       "      <td>0.091171</td>\n",
       "      <td>6.127418e-01</td>\n",
       "      <td>0.090716</td>\n",
       "      <td>0.613052</td>\n",
       "    </tr>\n",
       "    <tr>\n",
       "      <th>Ridge</th>\n",
       "      <td>0.090494</td>\n",
       "      <td>6.156179e-01</td>\n",
       "      <td>0.089935</td>\n",
       "      <td>0.616383</td>\n",
       "    </tr>\n",
       "  </tbody>\n",
       "</table>\n",
       "</div>"
      ],
      "text/plain": [
       "                          MSE (test)     R2 (test)  MSE (train)  R2 (train)\n",
       "K-Nearest Neighbor          0.062120  7.361374e-01     0.055530    0.763138\n",
       "Dummy                       0.235427 -6.622987e-07     0.234439    0.000000\n",
       "Linear Regression           0.090494  6.156172e-01     0.089935    0.616383\n",
       "Decision Tree               0.061853  7.372732e-01     0.055539    0.763098\n",
       "Random Forest               0.053402  7.731693e-01     0.022653    0.903375\n",
       "Support Vector Regressor    0.059829  7.458695e-01     0.052273    0.777028\n",
       "Lasso                       0.091171  6.127418e-01     0.090716    0.613052\n",
       "Ridge                       0.090494  6.156179e-01     0.089935    0.616383"
      ]
     },
     "execution_count": 71,
     "metadata": {
      "tags": []
     },
     "output_type": "execute_result"
    }
   ],
   "source": [
    "#Ridge\n",
    "from sklearn.linear_model import Ridge\n",
    "clf = Ridge(alpha=1)\n",
    "clf.fit(X_train_std, y_train)\n",
    "\n",
    "# make predictions\n",
    "expected = y_test\n",
    "predicted = clf.predict(X_test_std)\n",
    "# summarize the fit of the model\n",
    "vals = {}\n",
    "vals['MSE (test)'] = metrics.mean_squared_error(expected, predicted)\n",
    "print(\"MSE (means error)\",vals['MSE (test)'])\n",
    "vals['R2 (test)'] = metrics.r2_score(expected, predicted)\n",
    "print(\"R2 (test)\",vals['R2 (test)'])\n",
    "\n",
    "# make predictions\n",
    "expected = y_train\n",
    "predicted = clf.predict(X_train_std)\n",
    "\n",
    "# summarize the fit of the model\n",
    "vals['MSE (train)'] = metrics.mean_squared_error(expected, predicted)\n",
    "print(\"MSE (means error)\",vals['MSE (train)'])\n",
    "vals['R2 (train)'] = metrics.r2_score(expected, predicted)\n",
    "print(\"R2 (train)\",vals['R2 (train)'])\n",
    "row = pd.DataFrame(vals,index=[\"Ridge\"])\n",
    "comparedf = comparedf.append(row)\n",
    "comparedf"
   ]
  },
  {
   "cell_type": "markdown",
   "metadata": {
    "id": "DQUS_NPARQw4"
   },
   "source": [
    "##Decision Tree Regressor"
   ]
  },
  {
   "cell_type": "code",
   "execution_count": null,
   "metadata": {
    "colab": {
     "base_uri": "https://localhost:8080/"
    },
    "id": "d0aojSXI2VlE",
    "outputId": "b59c61d5-c204-464d-9ad0-562c48ea6cc4"
   },
   "outputs": [
    {
     "name": "stdout",
     "output_type": "stream",
     "text": [
      "Best mean cross_validation score: 0.724\n",
      "Best parameters: {'criterion': 'mse', 'max_depth': 8, 'splitter': 'best'}\n",
      "Test-set score (Best): 0.738\n",
      "Test-set score (Grid): 0.738\n"
     ]
    }
   ],
   "source": [
    "#Deciding best params for Decision Tree\n",
    "from sklearn.tree import DecisionTreeRegressor\n",
    "\n",
    "params = {'max_depth':[7,8,9,10,11,12], 'criterion': ['mse', 'friedman_mse', 'mae','poisson'], 'splitter': ['best','random']}\n",
    "tree = DecisionTreeRegressor()\n",
    "grid = GridSearchCV(tree, param_grid=params, cv=10)\n",
    "grid.fit(X_train_std, y_train)\n",
    "\n",
    "#Output GridSearch vals\n",
    "print(\"Best mean cross_validation score: {:.3f}\".format(grid.best_score_))\n",
    "print(\"Best parameters:\",grid.best_params_)\n",
    "print(\"Test-set score (Best): {:.3f}\".format(grid.best_estimator_.score(X_test_std,y_test)))\n",
    "print(\"Test-set score (Grid): {:.3f}\".format(grid.score(X_test_std, y_test)))\n"
   ]
  },
  {
   "cell_type": "code",
   "execution_count": 62,
   "metadata": {
    "colab": {
     "base_uri": "https://localhost:8080/",
     "height": 247
    },
    "id": "-03k2XfFRShw",
    "outputId": "52f5fc61-7307-43f5-f5bf-9f73ffe63d13"
   },
   "outputs": [
    {
     "name": "stdout",
     "output_type": "stream",
     "text": [
      "MSE (means error) 0.06185302627478257\n",
      "R2 (test) 0.7372732428040374\n",
      "MSE (means error) 0.05553905867507706\n",
      "R2 (train) 0.7630980625179109\n"
     ]
    },
    {
     "data": {
      "text/html": [
       "<div>\n",
       "<style scoped>\n",
       "    .dataframe tbody tr th:only-of-type {\n",
       "        vertical-align: middle;\n",
       "    }\n",
       "\n",
       "    .dataframe tbody tr th {\n",
       "        vertical-align: top;\n",
       "    }\n",
       "\n",
       "    .dataframe thead th {\n",
       "        text-align: right;\n",
       "    }\n",
       "</style>\n",
       "<table border=\"1\" class=\"dataframe\">\n",
       "  <thead>\n",
       "    <tr style=\"text-align: right;\">\n",
       "      <th></th>\n",
       "      <th>MSE (test)</th>\n",
       "      <th>R2 (test)</th>\n",
       "      <th>MSE (train)</th>\n",
       "      <th>R2 (train)</th>\n",
       "    </tr>\n",
       "  </thead>\n",
       "  <tbody>\n",
       "    <tr>\n",
       "      <th>K-Nearest Neighbor</th>\n",
       "      <td>0.062120</td>\n",
       "      <td>7.361374e-01</td>\n",
       "      <td>0.055530</td>\n",
       "      <td>0.763138</td>\n",
       "    </tr>\n",
       "    <tr>\n",
       "      <th>Dummy</th>\n",
       "      <td>0.235427</td>\n",
       "      <td>-6.622987e-07</td>\n",
       "      <td>0.234439</td>\n",
       "      <td>0.000000</td>\n",
       "    </tr>\n",
       "    <tr>\n",
       "      <th>Linear Regression</th>\n",
       "      <td>0.090494</td>\n",
       "      <td>6.156172e-01</td>\n",
       "      <td>0.089935</td>\n",
       "      <td>0.616383</td>\n",
       "    </tr>\n",
       "    <tr>\n",
       "      <th>Decision Tree</th>\n",
       "      <td>0.061853</td>\n",
       "      <td>7.372732e-01</td>\n",
       "      <td>0.055539</td>\n",
       "      <td>0.763098</td>\n",
       "    </tr>\n",
       "  </tbody>\n",
       "</table>\n",
       "</div>"
      ],
      "text/plain": [
       "                    MSE (test)     R2 (test)  MSE (train)  R2 (train)\n",
       "K-Nearest Neighbor    0.062120  7.361374e-01     0.055530    0.763138\n",
       "Dummy                 0.235427 -6.622987e-07     0.234439    0.000000\n",
       "Linear Regression     0.090494  6.156172e-01     0.089935    0.616383\n",
       "Decision Tree         0.061853  7.372732e-01     0.055539    0.763098"
      ]
     },
     "execution_count": 62,
     "metadata": {
      "tags": []
     },
     "output_type": "execute_result"
    }
   ],
   "source": [
    "#Decision Tree\n",
    "from sklearn.tree import DecisionTreeRegressor\n",
    "clf = DecisionTreeRegressor(max_depth=8, criterion= 'mse', splitter='best')\n",
    "clf.fit(X_train_std, y_train)\n",
    "\n",
    "# make predictions\n",
    "expected = y_test\n",
    "predicted = clf.predict(X_test_std)\n",
    "# summarize the fit of the model\n",
    "vals = {}\n",
    "vals['MSE (test)'] = metrics.mean_squared_error(expected, predicted)\n",
    "print(\"MSE (means error)\",vals['MSE (test)'])\n",
    "vals['R2 (test)'] = metrics.r2_score(expected, predicted)\n",
    "print(\"R2 (test)\",vals['R2 (test)'])\n",
    "\n",
    "# make predictions\n",
    "expected = y_train\n",
    "predicted = clf.predict(X_train_std)\n",
    "\n",
    "# summarize the fit of the model\n",
    "vals['MSE (train)'] = metrics.mean_squared_error(expected, predicted)\n",
    "print(\"MSE (means error)\",vals['MSE (train)'])\n",
    "vals['R2 (train)'] = metrics.r2_score(expected, predicted)\n",
    "print(\"R2 (train)\",vals['R2 (train)'])\n",
    "row = pd.DataFrame(vals,index=[\"Decision Tree\"])\n",
    "comparedf = comparedf.append(row)\n",
    "comparedf"
   ]
  },
  {
   "cell_type": "markdown",
   "metadata": {
    "id": "nSVuKbH00c9y"
   },
   "source": [
    "##Random Forest Regressor\n"
   ]
  },
  {
   "cell_type": "code",
   "execution_count": null,
   "metadata": {
    "colab": {
     "base_uri": "https://localhost:8080/"
    },
    "id": "VSlvUcZ50eSd",
    "outputId": "727f6ec2-c63d-4b55-f42a-db4811d457d2"
   },
   "outputs": [
    {
     "name": "stdout",
     "output_type": "stream",
     "text": [
      "Best mean cross_validation score: 0.768\n",
      "Best parameters: {'max_depth': 14}\n",
      "Test-set score (Best): 0.773\n",
      "Test-set score (Grid): 0.773\n"
     ]
    }
   ],
   "source": [
    "#Deciding best params for Decision Tree\n",
    "from sklearn.ensemble import RandomForestRegressor\n",
    "\n",
    "params = {'max_depth':[12,13,14,15,16]}\n",
    "forest = RandomForestRegressor()\n",
    "grid = GridSearchCV(forest, param_grid=params, cv=10)\n",
    "grid.fit(X_train_std, y_train)\n",
    "\n",
    "#Output GridSearch vals\n",
    "print(\"Best mean cross_validation score: {:.3f}\".format(grid.best_score_))\n",
    "print(\"Best parameters:\",grid.best_params_)\n",
    "print(\"Test-set score (Best): {:.3f}\".format(grid.best_estimator_.score(X_test_std,y_test)))\n",
    "print(\"Test-set score (Grid): {:.3f}\".format(grid.score(X_test_std, y_test)))\n"
   ]
  },
  {
   "cell_type": "code",
   "execution_count": 63,
   "metadata": {
    "colab": {
     "base_uri": "https://localhost:8080/",
     "height": 279
    },
    "id": "QelLYlK01OKg",
    "outputId": "e117dda2-bc01-4f39-9fa6-63dae7fb463b"
   },
   "outputs": [
    {
     "name": "stdout",
     "output_type": "stream",
     "text": [
      "MSE (means error) 0.05340211991593663\n",
      "R2 (test) 0.7731692911746171\n",
      "MSE (means error) 0.022652672027473012\n",
      "R2 (train) 0.9033749937345831\n"
     ]
    },
    {
     "data": {
      "text/html": [
       "<div>\n",
       "<style scoped>\n",
       "    .dataframe tbody tr th:only-of-type {\n",
       "        vertical-align: middle;\n",
       "    }\n",
       "\n",
       "    .dataframe tbody tr th {\n",
       "        vertical-align: top;\n",
       "    }\n",
       "\n",
       "    .dataframe thead th {\n",
       "        text-align: right;\n",
       "    }\n",
       "</style>\n",
       "<table border=\"1\" class=\"dataframe\">\n",
       "  <thead>\n",
       "    <tr style=\"text-align: right;\">\n",
       "      <th></th>\n",
       "      <th>MSE (test)</th>\n",
       "      <th>R2 (test)</th>\n",
       "      <th>MSE (train)</th>\n",
       "      <th>R2 (train)</th>\n",
       "    </tr>\n",
       "  </thead>\n",
       "  <tbody>\n",
       "    <tr>\n",
       "      <th>K-Nearest Neighbor</th>\n",
       "      <td>0.062120</td>\n",
       "      <td>7.361374e-01</td>\n",
       "      <td>0.055530</td>\n",
       "      <td>0.763138</td>\n",
       "    </tr>\n",
       "    <tr>\n",
       "      <th>Dummy</th>\n",
       "      <td>0.235427</td>\n",
       "      <td>-6.622987e-07</td>\n",
       "      <td>0.234439</td>\n",
       "      <td>0.000000</td>\n",
       "    </tr>\n",
       "    <tr>\n",
       "      <th>Linear Regression</th>\n",
       "      <td>0.090494</td>\n",
       "      <td>6.156172e-01</td>\n",
       "      <td>0.089935</td>\n",
       "      <td>0.616383</td>\n",
       "    </tr>\n",
       "    <tr>\n",
       "      <th>Decision Tree</th>\n",
       "      <td>0.061853</td>\n",
       "      <td>7.372732e-01</td>\n",
       "      <td>0.055539</td>\n",
       "      <td>0.763098</td>\n",
       "    </tr>\n",
       "    <tr>\n",
       "      <th>Random Forest</th>\n",
       "      <td>0.053402</td>\n",
       "      <td>7.731693e-01</td>\n",
       "      <td>0.022653</td>\n",
       "      <td>0.903375</td>\n",
       "    </tr>\n",
       "  </tbody>\n",
       "</table>\n",
       "</div>"
      ],
      "text/plain": [
       "                    MSE (test)     R2 (test)  MSE (train)  R2 (train)\n",
       "K-Nearest Neighbor    0.062120  7.361374e-01     0.055530    0.763138\n",
       "Dummy                 0.235427 -6.622987e-07     0.234439    0.000000\n",
       "Linear Regression     0.090494  6.156172e-01     0.089935    0.616383\n",
       "Decision Tree         0.061853  7.372732e-01     0.055539    0.763098\n",
       "Random Forest         0.053402  7.731693e-01     0.022653    0.903375"
      ]
     },
     "execution_count": 63,
     "metadata": {
      "tags": []
     },
     "output_type": "execute_result"
    }
   ],
   "source": [
    "#Random Forest\n",
    "from sklearn.ensemble import RandomForestRegressor\n",
    "clf = RandomForestRegressor(max_depth=14)\n",
    "clf.fit(X_train_std, y_train)\n",
    "\n",
    "# make predictions\n",
    "expected = y_test\n",
    "predicted = clf.predict(X_test_std)\n",
    "# summarize the fit of the model\n",
    "vals = {}\n",
    "vals['MSE (test)'] = metrics.mean_squared_error(expected, predicted)\n",
    "print(\"MSE (means error)\",vals['MSE (test)'])\n",
    "vals['R2 (test)'] = metrics.r2_score(expected, predicted)\n",
    "print(\"R2 (test)\",vals['R2 (test)'])\n",
    "\n",
    "# make predictions\n",
    "expected = y_train\n",
    "predicted = clf.predict(X_train_std)\n",
    "\n",
    "# summarize the fit of the model\n",
    "vals['MSE (train)'] = metrics.mean_squared_error(expected, predicted)\n",
    "print(\"MSE (means error)\",vals['MSE (train)'])\n",
    "vals['R2 (train)'] = metrics.r2_score(expected, predicted)\n",
    "print(\"R2 (train)\",vals['R2 (train)'])\n",
    "row = pd.DataFrame(vals,index=[\"Random Forest\"])\n",
    "comparedf = comparedf.append(row)\n",
    "comparedf"
   ]
  },
  {
   "cell_type": "markdown",
   "metadata": {
    "id": "P_-TwYsESZiZ"
   },
   "source": [
    "##Support Vector Regressor"
   ]
  },
  {
   "cell_type": "code",
   "execution_count": null,
   "metadata": {
    "colab": {
     "base_uri": "https://localhost:8080/"
    },
    "id": "Mt8NhkBK20Fu",
    "outputId": "b6d3a462-55eb-489c-a44d-983869bbe221"
   },
   "outputs": [
    {
     "name": "stdout",
     "output_type": "stream",
     "text": [
      "Best mean cross_validation score: 0.744\n",
      "Best parameters: {'C': 2}\n",
      "Test-set score (Best): 0.746\n",
      "Test-set score (Grid): 0.746\n"
     ]
    }
   ],
   "source": [
    "#Deciding best params for Support Vector\n",
    "from sklearn.svm import SVR\n",
    "import warnings\n",
    "warnings.filterwarnings(\"ignore\")\n",
    "\n",
    "#Finding best params for model\n",
    "params = {'C':[1,2,3]}\n",
    "svr = SVR()\n",
    "grid = GridSearchCV(svr, param_grid=params, cv=10)\n",
    "grid.fit(X_train_std, y_train)\n",
    "\n",
    "#Output GridSearch vals\n",
    "print(\"Best mean cross_validation score: {:.3f}\".format(grid.best_score_))\n",
    "print(\"Best parameters:\",grid.best_params_)\n",
    "print(\"Test-set score (Best): {:.3f}\".format(grid.best_estimator_.score(X_test_std,y_test)))\n",
    "print(\"Test-set score (Grid): {:.3f}\".format(grid.score(X_test_std, y_test)))\n"
   ]
  },
  {
   "cell_type": "code",
   "execution_count": 64,
   "metadata": {
    "colab": {
     "base_uri": "https://localhost:8080/",
     "height": 310
    },
    "id": "66Dmc9gKSdaG",
    "outputId": "b2e29e10-84f8-4104-de41-c6a1dae241e5"
   },
   "outputs": [
    {
     "name": "stdout",
     "output_type": "stream",
     "text": [
      "MSE (means error) 0.05982924205930964\n",
      "R2 (test) 0.7458694634939271\n",
      "MSE (means error) 0.05227327101247724\n",
      "R2 (train) 0.7770282846558346\n"
     ]
    },
    {
     "data": {
      "text/html": [
       "<div>\n",
       "<style scoped>\n",
       "    .dataframe tbody tr th:only-of-type {\n",
       "        vertical-align: middle;\n",
       "    }\n",
       "\n",
       "    .dataframe tbody tr th {\n",
       "        vertical-align: top;\n",
       "    }\n",
       "\n",
       "    .dataframe thead th {\n",
       "        text-align: right;\n",
       "    }\n",
       "</style>\n",
       "<table border=\"1\" class=\"dataframe\">\n",
       "  <thead>\n",
       "    <tr style=\"text-align: right;\">\n",
       "      <th></th>\n",
       "      <th>MSE (test)</th>\n",
       "      <th>R2 (test)</th>\n",
       "      <th>MSE (train)</th>\n",
       "      <th>R2 (train)</th>\n",
       "    </tr>\n",
       "  </thead>\n",
       "  <tbody>\n",
       "    <tr>\n",
       "      <th>K-Nearest Neighbor</th>\n",
       "      <td>0.062120</td>\n",
       "      <td>7.361374e-01</td>\n",
       "      <td>0.055530</td>\n",
       "      <td>0.763138</td>\n",
       "    </tr>\n",
       "    <tr>\n",
       "      <th>Dummy</th>\n",
       "      <td>0.235427</td>\n",
       "      <td>-6.622987e-07</td>\n",
       "      <td>0.234439</td>\n",
       "      <td>0.000000</td>\n",
       "    </tr>\n",
       "    <tr>\n",
       "      <th>Linear Regression</th>\n",
       "      <td>0.090494</td>\n",
       "      <td>6.156172e-01</td>\n",
       "      <td>0.089935</td>\n",
       "      <td>0.616383</td>\n",
       "    </tr>\n",
       "    <tr>\n",
       "      <th>Decision Tree</th>\n",
       "      <td>0.061853</td>\n",
       "      <td>7.372732e-01</td>\n",
       "      <td>0.055539</td>\n",
       "      <td>0.763098</td>\n",
       "    </tr>\n",
       "    <tr>\n",
       "      <th>Random Forest</th>\n",
       "      <td>0.053402</td>\n",
       "      <td>7.731693e-01</td>\n",
       "      <td>0.022653</td>\n",
       "      <td>0.903375</td>\n",
       "    </tr>\n",
       "    <tr>\n",
       "      <th>Support Vector Regressor</th>\n",
       "      <td>0.059829</td>\n",
       "      <td>7.458695e-01</td>\n",
       "      <td>0.052273</td>\n",
       "      <td>0.777028</td>\n",
       "    </tr>\n",
       "  </tbody>\n",
       "</table>\n",
       "</div>"
      ],
      "text/plain": [
       "                          MSE (test)     R2 (test)  MSE (train)  R2 (train)\n",
       "K-Nearest Neighbor          0.062120  7.361374e-01     0.055530    0.763138\n",
       "Dummy                       0.235427 -6.622987e-07     0.234439    0.000000\n",
       "Linear Regression           0.090494  6.156172e-01     0.089935    0.616383\n",
       "Decision Tree               0.061853  7.372732e-01     0.055539    0.763098\n",
       "Random Forest               0.053402  7.731693e-01     0.022653    0.903375\n",
       "Support Vector Regressor    0.059829  7.458695e-01     0.052273    0.777028"
      ]
     },
     "execution_count": 64,
     "metadata": {
      "tags": []
     },
     "output_type": "execute_result"
    }
   ],
   "source": [
    "#SVR\n",
    "from sklearn.svm import SVR\n",
    "clf = SVR(C=2)\n",
    "clf.fit(X_train_std, y_train)\n",
    "\n",
    "# make predictions\n",
    "expected = y_test\n",
    "predicted = clf.predict(X_test_std)\n",
    "# summarize the fit of the model\n",
    "vals = {}\n",
    "vals['MSE (test)'] = metrics.mean_squared_error(expected, predicted)\n",
    "print(\"MSE (means error)\",vals['MSE (test)'])\n",
    "vals['R2 (test)'] = metrics.r2_score(expected, predicted)\n",
    "print(\"R2 (test)\",vals['R2 (test)'])\n",
    "\n",
    "# make predictions\n",
    "expected = y_train\n",
    "predicted = clf.predict(X_train_std)\n",
    "\n",
    "# summarize the fit of the model\n",
    "vals['MSE (train)'] = metrics.mean_squared_error(expected, predicted)\n",
    "print(\"MSE (means error)\",vals['MSE (train)'])\n",
    "vals['R2 (train)'] = metrics.r2_score(expected, predicted)\n",
    "print(\"R2 (train)\",vals['R2 (train)'])\n",
    "row = pd.DataFrame(vals,index=[\"Support Vector Regressor\"])\n",
    "comparedf = comparedf.append(row)\n",
    "comparedf"
   ]
  },
  {
   "cell_type": "markdown",
   "metadata": {
    "id": "ubqIm3hbVeLF"
   },
   "source": [
    "##Deciding what model to use"
   ]
  },
  {
   "cell_type": "markdown",
   "metadata": {
    "id": "BrbiXX0wo_jX"
   },
   "source": [
    "Looking at the R^2 score, Random Forest is the best."
   ]
  },
  {
   "cell_type": "code",
   "execution_count": 72,
   "metadata": {
    "colab": {
     "base_uri": "https://localhost:8080/",
     "height": 300
    },
    "id": "W6YM5hhaVf9R",
    "outputId": "4430a13f-f847-4f9a-ecf2-9b901afcc705"
   },
   "outputs": [
    {
     "data": {
      "text/html": [
       "<div>\n",
       "<style scoped>\n",
       "    .dataframe tbody tr th:only-of-type {\n",
       "        vertical-align: middle;\n",
       "    }\n",
       "\n",
       "    .dataframe tbody tr th {\n",
       "        vertical-align: top;\n",
       "    }\n",
       "\n",
       "    .dataframe thead th {\n",
       "        text-align: right;\n",
       "    }\n",
       "</style>\n",
       "<table border=\"1\" class=\"dataframe\">\n",
       "  <thead>\n",
       "    <tr style=\"text-align: right;\">\n",
       "      <th></th>\n",
       "      <th>MSE (test)</th>\n",
       "      <th>MSE (train)</th>\n",
       "      <th>R2 (test)</th>\n",
       "      <th>R2 (train)</th>\n",
       "    </tr>\n",
       "  </thead>\n",
       "  <tbody>\n",
       "    <tr>\n",
       "      <th>Random Forest</th>\n",
       "      <td>0.053402</td>\n",
       "      <td>0.022653</td>\n",
       "      <td>7.731693e-01</td>\n",
       "      <td>0.903375</td>\n",
       "    </tr>\n",
       "    <tr>\n",
       "      <th>Support Vector Regressor</th>\n",
       "      <td>0.059829</td>\n",
       "      <td>0.052273</td>\n",
       "      <td>7.458695e-01</td>\n",
       "      <td>0.777028</td>\n",
       "    </tr>\n",
       "    <tr>\n",
       "      <th>Decision Tree</th>\n",
       "      <td>0.061853</td>\n",
       "      <td>0.055539</td>\n",
       "      <td>7.372732e-01</td>\n",
       "      <td>0.763098</td>\n",
       "    </tr>\n",
       "    <tr>\n",
       "      <th>K-Nearest Neighbor</th>\n",
       "      <td>0.062120</td>\n",
       "      <td>0.055530</td>\n",
       "      <td>7.361374e-01</td>\n",
       "      <td>0.763138</td>\n",
       "    </tr>\n",
       "    <tr>\n",
       "      <th>Ridge</th>\n",
       "      <td>0.090494</td>\n",
       "      <td>0.089935</td>\n",
       "      <td>6.156179e-01</td>\n",
       "      <td>0.616383</td>\n",
       "    </tr>\n",
       "    <tr>\n",
       "      <th>Linear Regression</th>\n",
       "      <td>0.090494</td>\n",
       "      <td>0.089935</td>\n",
       "      <td>6.156172e-01</td>\n",
       "      <td>0.616383</td>\n",
       "    </tr>\n",
       "    <tr>\n",
       "      <th>Lasso</th>\n",
       "      <td>0.091171</td>\n",
       "      <td>0.090716</td>\n",
       "      <td>6.127418e-01</td>\n",
       "      <td>0.613052</td>\n",
       "    </tr>\n",
       "    <tr>\n",
       "      <th>Dummy</th>\n",
       "      <td>0.235427</td>\n",
       "      <td>0.234439</td>\n",
       "      <td>-6.622987e-07</td>\n",
       "      <td>0.000000</td>\n",
       "    </tr>\n",
       "  </tbody>\n",
       "</table>\n",
       "</div>"
      ],
      "text/plain": [
       "                          MSE (test)  MSE (train)     R2 (test)  R2 (train)\n",
       "Random Forest               0.053402     0.022653  7.731693e-01    0.903375\n",
       "Support Vector Regressor    0.059829     0.052273  7.458695e-01    0.777028\n",
       "Decision Tree               0.061853     0.055539  7.372732e-01    0.763098\n",
       "K-Nearest Neighbor          0.062120     0.055530  7.361374e-01    0.763138\n",
       "Ridge                       0.090494     0.089935  6.156179e-01    0.616383\n",
       "Linear Regression           0.090494     0.089935  6.156172e-01    0.616383\n",
       "Lasso                       0.091171     0.090716  6.127418e-01    0.613052\n",
       "Dummy                       0.235427     0.234439 -6.622987e-07    0.000000"
      ]
     },
     "execution_count": 72,
     "metadata": {
      "tags": []
     },
     "output_type": "execute_result"
    }
   ],
   "source": [
    "sidebyside = comparedf[[\"MSE (test)\", \"MSE (train)\", \"R2 (test)\", 'R2 (train)']]\n",
    "sidebyside.sort_values(by=\"R2 (test)\", ascending=False, inplace=True)\n",
    "sidebyside"
   ]
  },
  {
   "cell_type": "markdown",
   "metadata": {
    "id": "WDZgYMHI7UI7"
   },
   "source": [
    "##Evaluating model"
   ]
  },
  {
   "cell_type": "markdown",
   "metadata": {
    "id": "YAmg3qlM9HN6"
   },
   "source": [
    "The points seem to generally fall on the blue line (y=x). Thus we can see that our model is mostly predicting prices correctly. However, there might be some errors as there is a weird vertical line in the graph"
   ]
  },
  {
   "cell_type": "code",
   "execution_count": null,
   "metadata": {
    "colab": {
     "base_uri": "https://localhost:8080/",
     "height": 613
    },
    "id": "HcaE4Mdc9Six",
    "outputId": "559d21fd-9852-4a17-ca1d-1b92ac503340"
   },
   "outputs": [
    {
     "data": {
      "image/png": "[encoded data removed]",
      "text/plain": [
       "<Figure size 720x720 with 1 Axes>"
      ]
     },
     "metadata": {
      "needs_background": "light",
      "tags": []
     },
     "output_type": "display_data"
    }
   ],
   "source": [
    "clf = RandomForestRegressor(max_depth=14)\n",
    "clf.fit(X_train_std, y_train)\n",
    "\n",
    "# make predictions\n",
    "expected = y_test\n",
    "predicted = clf.predict(X_test_std)\n",
    "\n",
    "#Taking Log of expected price and predicted price\n",
    "expected = np.log(expected)\n",
    "predicted = np.log(predicted)\n",
    "\n",
    "#Plotting on a scatter plot\n",
    "plt.figure(figsize=(10,10))\n",
    "plt.scatter(expected, predicted, c='crimson')\n",
    "\n",
    "#Setting axis min and max\n",
    "p1 = max(max(predicted), max(expected))\n",
    "p2 = min(min(predicted), min(expected))\n",
    "\n",
    "#Plotting the y=x line\n",
    "plt.plot([p1, p2], [p1, p2], 'b-')\n",
    "\n",
    "plt.xlabel('Actual Price', fontsize=15)\n",
    "plt.ylabel('Predicted Price', fontsize=15)\n",
    "plt.axis('equal')\n",
    "\n",
    "plt.show()"
   ]
  },
  {
   "cell_type": "markdown",
   "metadata": {
    "id": "oL4gEcFopW-8"
   },
   "source": [
    "The most important feature to the model is Latitude, followed by grade, age, so on and so forth. Latitude might be important as homes could be closer to nicer areas, etc."
   ]
  },
  {
   "cell_type": "code",
   "execution_count": null,
   "metadata": {
    "colab": {
     "base_uri": "https://localhost:8080/",
     "height": 332
    },
    "id": "Tctr_HJLCnr6",
    "outputId": "c6dccdb4-cde0-4f33-99c2-b2939a02cfea"
   },
   "outputs": [
    {
     "data": {
      "text/html": [
       "<div>\n",
       "<style scoped>\n",
       "    .dataframe tbody tr th:only-of-type {\n",
       "        vertical-align: middle;\n",
       "    }\n",
       "\n",
       "    .dataframe tbody tr th {\n",
       "        vertical-align: top;\n",
       "    }\n",
       "\n",
       "    .dataframe thead th {\n",
       "        text-align: right;\n",
       "    }\n",
       "</style>\n",
       "<table border=\"1\" class=\"dataframe\">\n",
       "  <thead>\n",
       "    <tr style=\"text-align: right;\">\n",
       "      <th></th>\n",
       "      <th>features importance</th>\n",
       "    </tr>\n",
       "  </thead>\n",
       "  <tbody>\n",
       "    <tr>\n",
       "      <th>lat</th>\n",
       "      <td>0.476401</td>\n",
       "    </tr>\n",
       "    <tr>\n",
       "      <th>grade</th>\n",
       "      <td>0.328069</td>\n",
       "    </tr>\n",
       "    <tr>\n",
       "      <th>age</th>\n",
       "      <td>0.073385</td>\n",
       "    </tr>\n",
       "    <tr>\n",
       "      <th>bathrooms</th>\n",
       "      <td>0.053934</td>\n",
       "    </tr>\n",
       "    <tr>\n",
       "      <th>bedrooms</th>\n",
       "      <td>0.024385</td>\n",
       "    </tr>\n",
       "    <tr>\n",
       "      <th>view</th>\n",
       "      <td>0.022581</td>\n",
       "    </tr>\n",
       "    <tr>\n",
       "      <th>floors</th>\n",
       "      <td>0.010809</td>\n",
       "    </tr>\n",
       "    <tr>\n",
       "      <th>waterfront</th>\n",
       "      <td>0.006980</td>\n",
       "    </tr>\n",
       "    <tr>\n",
       "      <th>renovated</th>\n",
       "      <td>0.003455</td>\n",
       "    </tr>\n",
       "  </tbody>\n",
       "</table>\n",
       "</div>"
      ],
      "text/plain": [
       "            features importance\n",
       "lat                    0.476401\n",
       "grade                  0.328069\n",
       "age                    0.073385\n",
       "bathrooms              0.053934\n",
       "bedrooms               0.024385\n",
       "view                   0.022581\n",
       "floors                 0.010809\n",
       "waterfront             0.006980\n",
       "renovated              0.003455"
      ]
     },
     "execution_count": 389,
     "metadata": {
      "tags": []
     },
     "output_type": "execute_result"
    }
   ],
   "source": [
    "#Looking at important Features\n",
    "feat = pd.DataFrame(\n",
    "    {\"features importance\": clf.feature_importances_},\n",
    "    index=X.columns\n",
    ")\n",
    "feat.sort_values(by=\"features importance\", ascending=False, inplace=True)\n",
    "feat"
   ]
  },
  {
   "cell_type": "markdown",
   "metadata": {
    "id": "gd-MefQcuqnY"
   },
   "source": [
    "####Info on columns:\n",
    "\n",
    "\n",
    "\n",
    "*   id - Unique ID for each home sold\n",
    "*   date - Date of the home sale\n",
    "*   price - Price of each home sold\n",
    "*   bedrooms - Number of bedrooms\n",
    "*   bathrooms - Number of bathrooms, where .5 accounts for a room with a toilet but no shower\n",
    "*   sqft_living - Square footage of the apartments interior living space\n",
    "*   sqft_lot - Square footage of the land space\n",
    "*   floors - Number of floors\n",
    "*   waterfront - A dummy variable for whether the apartment was overlooking the waterfront or not\n",
    "*   view - An index from 0 to 4 of how good the view of the property was\n",
    "*   condition - An index from 1 to 5 on the condition of the apartment,\n",
    "\n",
    "*   grade - An index from 1 to 13, where 1-3 falls short of building construction and design, 7 has an average level of construction and design, and 11-13 have a high quality level of construction and design.\n",
    "*   sqft_above - The square footage of the interior housing space that is above ground level\n",
    "*   sqft_basement - The square footage of the interior housing space that is below ground level\n",
    "*yr_built - The year the house was initially built\n",
    "*yr_renovated - The year of the house’s last renovation\n",
    "*zipcode - What zipcode area the house is in\n",
    "*lat - Lattitude\n",
    "*long - Longitude\n",
    "*sqft_living15 - The square footage of interior housing living space for the nearest 15 neighbors\n",
    "*sqft_lot15 - The square footage of the land lots of the nearest 15 neighbors\n",
    "\n",
    "\n",
    "\n",
    "\n",
    "\n",
    "\n"
   ]
  }
 ],
 "metadata": {
  "colab": {
   "collapsed_sections": [],
   "name": "AIML Regression.ipynb",
   "provenance": [],
   "toc_visible": true
  },
  "kernelspec": {
   "display_name": "Python 3",
   "language": "python",
   "name": "python3"
  },
  "language_info": {
   "codemirror_mode": {
    "name": "ipython",
    "version": 3
   },
   "file_extension": ".py",
   "mimetype": "text/x-python",
   "name": "python",
   "nbconvert_exporter": "python",
   "pygments_lexer": "ipython3",
   "version": "3.8.3"
  }
 },
 "nbformat": 4,
 "nbformat_minor": 1
}
