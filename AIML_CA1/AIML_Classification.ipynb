{
 "cells": [
  {
   "cell_type": "markdown",
   "metadata": {
    "id": "nP2-IGkrZKrh"
   },
   "source": [
    "#AIML CA1 - Part A. Mushroom Dataset\n"
   ]
  },
  {
   "cell_type": "markdown",
   "metadata": {
    "id": "-JXQ3V6UrwXi"
   },
   "source": [
    "By: Koh Hui Lyn (p2021672)\n",
    "(open in colab got headers for easy viewing!!! :) )"
   ]
  },
  {
   "cell_type": "markdown",
   "metadata": {
    "id": "a882uUZtr13V"
   },
   "source": [
    "From this dataset I want to predict the edibility of mushrooms using the provided features"
   ]
  },
  {
   "cell_type": "code",
   "execution_count": 9,
   "metadata": {
    "id": "TzphYso1Y3nQ"
   },
   "outputs": [],
   "source": [
    "#importing\n",
    "import numpy as np\n",
    "import pandas as pd\n",
    "import seaborn as sns\n",
    "import matplotlib.pyplot as plt\n",
    "%matplotlib inline"
   ]
  },
  {
   "cell_type": "code",
   "execution_count": 10,
   "metadata": {
    "colab": {
     "base_uri": "https://localhost:8080/",
     "height": 143
    },
    "id": "gURm2oihY92p",
    "outputId": "cc1322a9-6425-43c9-a4d7-6774e4efa238"
   },
   "outputs": [
    {
     "data": {
      "text/html": [
       "<div>\n",
       "<style scoped>\n",
       "    .dataframe tbody tr th:only-of-type {\n",
       "        vertical-align: middle;\n",
       "    }\n",
       "\n",
       "    .dataframe tbody tr th {\n",
       "        vertical-align: top;\n",
       "    }\n",
       "\n",
       "    .dataframe thead th {\n",
       "        text-align: right;\n",
       "    }\n",
       "</style>\n",
       "<table border=\"1\" class=\"dataframe\">\n",
       "  <thead>\n",
       "    <tr style=\"text-align: right;\">\n",
       "      <th></th>\n",
       "      <th>0</th>\n",
       "      <th>1</th>\n",
       "      <th>2</th>\n",
       "      <th>3</th>\n",
       "      <th>4</th>\n",
       "      <th>5</th>\n",
       "      <th>6</th>\n",
       "      <th>7</th>\n",
       "      <th>8</th>\n",
       "      <th>9</th>\n",
       "      <th>10</th>\n",
       "      <th>11</th>\n",
       "      <th>12</th>\n",
       "      <th>13</th>\n",
       "      <th>14</th>\n",
       "      <th>15</th>\n",
       "      <th>16</th>\n",
       "      <th>17</th>\n",
       "      <th>18</th>\n",
       "      <th>19</th>\n",
       "      <th>20</th>\n",
       "      <th>21</th>\n",
       "      <th>22</th>\n",
       "    </tr>\n",
       "  </thead>\n",
       "  <tbody>\n",
       "    <tr>\n",
       "      <th>0</th>\n",
       "      <td>p</td>\n",
       "      <td>x</td>\n",
       "      <td>s</td>\n",
       "      <td>n</td>\n",
       "      <td>t</td>\n",
       "      <td>p</td>\n",
       "      <td>f</td>\n",
       "      <td>c</td>\n",
       "      <td>n</td>\n",
       "      <td>k</td>\n",
       "      <td>e</td>\n",
       "      <td>e</td>\n",
       "      <td>s</td>\n",
       "      <td>s</td>\n",
       "      <td>w</td>\n",
       "      <td>w</td>\n",
       "      <td>p</td>\n",
       "      <td>w</td>\n",
       "      <td>o</td>\n",
       "      <td>p</td>\n",
       "      <td>k</td>\n",
       "      <td>s</td>\n",
       "      <td>u</td>\n",
       "    </tr>\n",
       "    <tr>\n",
       "      <th>1</th>\n",
       "      <td>e</td>\n",
       "      <td>x</td>\n",
       "      <td>s</td>\n",
       "      <td>y</td>\n",
       "      <td>t</td>\n",
       "      <td>a</td>\n",
       "      <td>f</td>\n",
       "      <td>c</td>\n",
       "      <td>b</td>\n",
       "      <td>k</td>\n",
       "      <td>e</td>\n",
       "      <td>c</td>\n",
       "      <td>s</td>\n",
       "      <td>s</td>\n",
       "      <td>w</td>\n",
       "      <td>w</td>\n",
       "      <td>p</td>\n",
       "      <td>w</td>\n",
       "      <td>o</td>\n",
       "      <td>p</td>\n",
       "      <td>n</td>\n",
       "      <td>n</td>\n",
       "      <td>g</td>\n",
       "    </tr>\n",
       "    <tr>\n",
       "      <th>2</th>\n",
       "      <td>e</td>\n",
       "      <td>b</td>\n",
       "      <td>s</td>\n",
       "      <td>w</td>\n",
       "      <td>t</td>\n",
       "      <td>l</td>\n",
       "      <td>f</td>\n",
       "      <td>c</td>\n",
       "      <td>b</td>\n",
       "      <td>n</td>\n",
       "      <td>e</td>\n",
       "      <td>c</td>\n",
       "      <td>s</td>\n",
       "      <td>s</td>\n",
       "      <td>w</td>\n",
       "      <td>w</td>\n",
       "      <td>p</td>\n",
       "      <td>w</td>\n",
       "      <td>o</td>\n",
       "      <td>p</td>\n",
       "      <td>n</td>\n",
       "      <td>n</td>\n",
       "      <td>m</td>\n",
       "    </tr>\n",
       "  </tbody>\n",
       "</table>\n",
       "</div>"
      ],
      "text/plain": [
       "  0  1  2  3  4  5  6  7  8  9  10 11 12 13 14 15 16 17 18 19 20 21 22\n",
       "0  p  x  s  n  t  p  f  c  n  k  e  e  s  s  w  w  p  w  o  p  k  s  u\n",
       "1  e  x  s  y  t  a  f  c  b  k  e  c  s  s  w  w  p  w  o  p  n  n  g\n",
       "2  e  b  s  w  t  l  f  c  b  n  e  c  s  s  w  w  p  w  o  p  n  n  m"
      ]
     },
     "execution_count": 10,
     "metadata": {
      "tags": []
     },
     "output_type": "execute_result"
    }
   ],
   "source": [
    "#import dataset\n",
    "#drive\n",
    "#df = pd.read_csv(\"/content/drive/MyDrive/datasets/agaricus-lepiota.data\", header=None)\n",
    "\n",
    "#not drive\n",
    "df = pd.read_csv(\"agaricus-lepiota.data\", header=None)\n",
    "df.head(3)"
   ]
  },
  {
   "cell_type": "markdown",
   "metadata": {
    "id": "szK1JQLdkScv"
   },
   "source": [
    "###Data Preprocessing\n"
   ]
  },
  {
   "cell_type": "code",
   "execution_count": 11,
   "metadata": {
    "colab": {
     "base_uri": "https://localhost:8080/",
     "height": 215
    },
    "id": "j8jdv3dgZHts",
    "outputId": "b3bbf0b7-8670-4038-b7a7-5c300fc30be8"
   },
   "outputs": [
    {
     "data": {
      "text/html": [
       "<div>\n",
       "<style scoped>\n",
       "    .dataframe tbody tr th:only-of-type {\n",
       "        vertical-align: middle;\n",
       "    }\n",
       "\n",
       "    .dataframe tbody tr th {\n",
       "        vertical-align: top;\n",
       "    }\n",
       "\n",
       "    .dataframe thead th {\n",
       "        text-align: right;\n",
       "    }\n",
       "</style>\n",
       "<table border=\"1\" class=\"dataframe\">\n",
       "  <thead>\n",
       "    <tr style=\"text-align: right;\">\n",
       "      <th></th>\n",
       "      <th>class</th>\n",
       "      <th>cap-shape</th>\n",
       "      <th>cap-surface</th>\n",
       "      <th>cap-color</th>\n",
       "      <th>bruises</th>\n",
       "      <th>odor</th>\n",
       "      <th>gill-attachment</th>\n",
       "      <th>gill-spacing</th>\n",
       "      <th>gill-size</th>\n",
       "      <th>gill-color</th>\n",
       "      <th>stalk-shape</th>\n",
       "      <th>stalk-root</th>\n",
       "      <th>stalk-surface-above-ring</th>\n",
       "      <th>stalk-surface-below-ring</th>\n",
       "      <th>stalk-color-above-ring</th>\n",
       "      <th>stalk-color-below-ring</th>\n",
       "      <th>veil-type</th>\n",
       "      <th>veil-color</th>\n",
       "      <th>ring-number</th>\n",
       "      <th>ring-type</th>\n",
       "      <th>spore-print-color</th>\n",
       "      <th>population</th>\n",
       "      <th>habitat</th>\n",
       "    </tr>\n",
       "  </thead>\n",
       "  <tbody>\n",
       "    <tr>\n",
       "      <th>0</th>\n",
       "      <td>p</td>\n",
       "      <td>x</td>\n",
       "      <td>s</td>\n",
       "      <td>n</td>\n",
       "      <td>t</td>\n",
       "      <td>p</td>\n",
       "      <td>f</td>\n",
       "      <td>c</td>\n",
       "      <td>n</td>\n",
       "      <td>k</td>\n",
       "      <td>e</td>\n",
       "      <td>e</td>\n",
       "      <td>s</td>\n",
       "      <td>s</td>\n",
       "      <td>w</td>\n",
       "      <td>w</td>\n",
       "      <td>p</td>\n",
       "      <td>w</td>\n",
       "      <td>o</td>\n",
       "      <td>p</td>\n",
       "      <td>k</td>\n",
       "      <td>s</td>\n",
       "      <td>u</td>\n",
       "    </tr>\n",
       "    <tr>\n",
       "      <th>1</th>\n",
       "      <td>e</td>\n",
       "      <td>x</td>\n",
       "      <td>s</td>\n",
       "      <td>y</td>\n",
       "      <td>t</td>\n",
       "      <td>a</td>\n",
       "      <td>f</td>\n",
       "      <td>c</td>\n",
       "      <td>b</td>\n",
       "      <td>k</td>\n",
       "      <td>e</td>\n",
       "      <td>c</td>\n",
       "      <td>s</td>\n",
       "      <td>s</td>\n",
       "      <td>w</td>\n",
       "      <td>w</td>\n",
       "      <td>p</td>\n",
       "      <td>w</td>\n",
       "      <td>o</td>\n",
       "      <td>p</td>\n",
       "      <td>n</td>\n",
       "      <td>n</td>\n",
       "      <td>g</td>\n",
       "    </tr>\n",
       "    <tr>\n",
       "      <th>2</th>\n",
       "      <td>e</td>\n",
       "      <td>b</td>\n",
       "      <td>s</td>\n",
       "      <td>w</td>\n",
       "      <td>t</td>\n",
       "      <td>l</td>\n",
       "      <td>f</td>\n",
       "      <td>c</td>\n",
       "      <td>b</td>\n",
       "      <td>n</td>\n",
       "      <td>e</td>\n",
       "      <td>c</td>\n",
       "      <td>s</td>\n",
       "      <td>s</td>\n",
       "      <td>w</td>\n",
       "      <td>w</td>\n",
       "      <td>p</td>\n",
       "      <td>w</td>\n",
       "      <td>o</td>\n",
       "      <td>p</td>\n",
       "      <td>n</td>\n",
       "      <td>n</td>\n",
       "      <td>m</td>\n",
       "    </tr>\n",
       "  </tbody>\n",
       "</table>\n",
       "</div>"
      ],
      "text/plain": [
       "  class cap-shape cap-surface  ... spore-print-color population habitat\n",
       "0     p         x           s  ...                 k          s       u\n",
       "1     e         x           s  ...                 n          n       g\n",
       "2     e         b           s  ...                 n          n       m\n",
       "\n",
       "[3 rows x 23 columns]"
      ]
     },
     "execution_count": 11,
     "metadata": {
      "tags": []
     },
     "output_type": "execute_result"
    }
   ],
   "source": [
    "#adding the column names to df\n",
    "columns = ['class','cap-shape','cap-surface','cap-color','bruises','odor','gill-attachment','gill-spacing',\n",
    "           'gill-size','gill-color','stalk-shape','stalk-root','stalk-surface-above-ring','stalk-surface-below-ring',\n",
    "           'stalk-color-above-ring','stalk-color-below-ring','veil-type','veil-color','ring-number',\n",
    "           'ring-type','spore-print-color','population','habitat']\n",
    "df.columns = columns\n",
    "df.head(3)"
   ]
  },
  {
   "cell_type": "markdown",
   "metadata": {
    "id": "hhc2t_hDHp1n"
   },
   "source": [
    "We can check our data for any null values by doing isnull().sum()"
   ]
  },
  {
   "cell_type": "code",
   "execution_count": 12,
   "metadata": {
    "colab": {
     "base_uri": "https://localhost:8080/"
    },
    "id": "f40GE_TCZSV_",
    "outputId": "069c3b18-f191-41c0-c712-2e2e3474ae81"
   },
   "outputs": [
    {
     "data": {
      "text/plain": [
       "class                       0\n",
       "cap-shape                   0\n",
       "cap-surface                 0\n",
       "cap-color                   0\n",
       "bruises                     0\n",
       "odor                        0\n",
       "gill-attachment             0\n",
       "gill-spacing                0\n",
       "gill-size                   0\n",
       "gill-color                  0\n",
       "stalk-shape                 0\n",
       "stalk-root                  0\n",
       "stalk-surface-above-ring    0\n",
       "stalk-surface-below-ring    0\n",
       "stalk-color-above-ring      0\n",
       "stalk-color-below-ring      0\n",
       "veil-type                   0\n",
       "veil-color                  0\n",
       "ring-number                 0\n",
       "ring-type                   0\n",
       "spore-print-color           0\n",
       "population                  0\n",
       "habitat                     0\n",
       "dtype: int64"
      ]
     },
     "execution_count": 12,
     "metadata": {
      "tags": []
     },
     "output_type": "execute_result"
    }
   ],
   "source": [
    "#check for null values\n",
    "df.isnull().sum()"
   ]
  },
  {
   "cell_type": "markdown",
   "metadata": {
    "id": "67MNUXxaHvE2"
   },
   "source": [
    "We can further try and find null values by displaying all the different values in the rows."
   ]
  },
  {
   "cell_type": "code",
   "execution_count": 13,
   "metadata": {
    "colab": {
     "base_uri": "https://localhost:8080/"
    },
    "id": "587vJdMHGyQd",
    "outputId": "90f96174-bd71-4bdd-ad48-3773fe5ee6b2"
   },
   "outputs": [
    {
     "name": "stdout",
     "output_type": "stream",
     "text": [
      "class : ['p' 'e']\n",
      "cap-shape : ['x' 'b' 's' 'f' 'k' 'c']\n",
      "cap-surface : ['s' 'y' 'f' 'g']\n",
      "cap-color : ['n' 'y' 'w' 'g' 'e' 'p' 'b' 'u' 'c' 'r']\n",
      "bruises : ['t' 'f']\n",
      "odor : ['p' 'a' 'l' 'n' 'f' 'c' 'y' 's' 'm']\n",
      "gill-attachment : ['f' 'a']\n",
      "gill-spacing : ['c' 'w']\n",
      "gill-size : ['n' 'b']\n",
      "gill-color : ['k' 'n' 'g' 'p' 'w' 'h' 'u' 'e' 'b' 'r' 'y' 'o']\n",
      "stalk-shape : ['e' 't']\n",
      "stalk-root : ['e' 'c' 'b' 'r' '?']\n",
      "stalk-surface-above-ring : ['s' 'f' 'k' 'y']\n",
      "stalk-surface-below-ring : ['s' 'f' 'y' 'k']\n",
      "stalk-color-above-ring : ['w' 'g' 'p' 'n' 'b' 'e' 'o' 'c' 'y']\n",
      "stalk-color-below-ring : ['w' 'p' 'g' 'b' 'n' 'e' 'y' 'o' 'c']\n",
      "veil-type : ['p']\n",
      "veil-color : ['w' 'n' 'o' 'y']\n",
      "ring-number : ['o' 't' 'n']\n",
      "ring-type : ['p' 'e' 'l' 'f' 'n']\n",
      "spore-print-color : ['k' 'n' 'u' 'h' 'w' 'r' 'o' 'y' 'b']\n",
      "population : ['s' 'n' 'a' 'v' 'y' 'c']\n",
      "habitat : ['u' 'g' 'm' 'd' 'p' 'w' 'l']\n"
     ]
    }
   ],
   "source": [
    "#Displaying all unique vals in all the rows\n",
    "cols = df.columns\n",
    "for i in cols:\n",
    "  print(f'{i} : {df[i].unique()}')"
   ]
  },
  {
   "cell_type": "markdown",
   "metadata": {
    "id": "SzEIO6V6H2up"
   },
   "source": [
    "From that, we found that the NaN values in this dataset is represented by '?'s. But there's only '?'s for one column, stalk-root."
   ]
  },
  {
   "cell_type": "code",
   "execution_count": 14,
   "metadata": {
    "colab": {
     "base_uri": "https://localhost:8080/"
    },
    "id": "cfumQ5FMZaM1",
    "outputId": "7faab48a-2ff3-42db-91b9-643e7027b646"
   },
   "outputs": [
    {
     "data": {
      "text/plain": [
       "class                          0\n",
       "cap-shape                      0\n",
       "cap-surface                    0\n",
       "cap-color                      0\n",
       "bruises                        0\n",
       "odor                           0\n",
       "gill-attachment                0\n",
       "gill-spacing                   0\n",
       "gill-size                      0\n",
       "gill-color                     0\n",
       "stalk-shape                    0\n",
       "stalk-root                  2480\n",
       "stalk-surface-above-ring       0\n",
       "stalk-surface-below-ring       0\n",
       "stalk-color-above-ring         0\n",
       "stalk-color-below-ring         0\n",
       "veil-type                      0\n",
       "veil-color                     0\n",
       "ring-number                    0\n",
       "ring-type                      0\n",
       "spore-print-color              0\n",
       "population                     0\n",
       "habitat                        0\n",
       "dtype: int64"
      ]
     },
     "execution_count": 14,
     "metadata": {
      "tags": []
     },
     "output_type": "execute_result"
    }
   ],
   "source": [
    "#NaN values in this dataset is represented by '?'s. But there's only '?'s for one column, stalk-root.\n",
    "df.isin(['?']).sum()"
   ]
  },
  {
   "cell_type": "markdown",
   "metadata": {
    "id": "D2ofyFRQID5O"
   },
   "source": [
    "We should replace NaNs with something more meaningful. Since this is categorical data, I decided to replace it with mode/the value that occured the most."
   ]
  },
  {
   "cell_type": "code",
   "execution_count": 15,
   "metadata": {
    "id": "9Xb8dxc1j0KD"
   },
   "outputs": [],
   "source": [
    "#Replacing '?'s with mode\n",
    "df['stalk-root'] = df['stalk-root'].replace(['?'], df['stalk-root'].mode()[0])"
   ]
  },
  {
   "cell_type": "code",
   "execution_count": 16,
   "metadata": {
    "colab": {
     "base_uri": "https://localhost:8080/"
    },
    "id": "YZFkx2hRjdGx",
    "outputId": "81fefef2-383a-44c3-d757-f4eaebb75458"
   },
   "outputs": [
    {
     "data": {
      "text/plain": [
       "array(['e', 'c', 'b', 'r'], dtype=object)"
      ]
     },
     "execution_count": 16,
     "metadata": {
      "tags": []
     },
     "output_type": "execute_result"
    }
   ],
   "source": [
    "df['stalk-root'].unique()"
   ]
  },
  {
   "cell_type": "code",
   "execution_count": 17,
   "metadata": {
    "colab": {
     "base_uri": "https://localhost:8080/"
    },
    "id": "_hu7LKB95NrH",
    "outputId": "ca34f929-0957-4982-fe1c-95b56cba64eb"
   },
   "outputs": [
    {
     "data": {
      "text/plain": [
       "b    6256\n",
       "e    1120\n",
       "c     556\n",
       "r     192\n",
       "Name: stalk-root, dtype: int64"
      ]
     },
     "execution_count": 17,
     "metadata": {
      "tags": []
     },
     "output_type": "execute_result"
    }
   ],
   "source": [
    "#Plotting a Bar graph with counts of Class E & P vals\n",
    "#check if data is balanced\n",
    "df['stalk-root'].value_counts()\n"
   ]
  },
  {
   "cell_type": "markdown",
   "metadata": {
    "id": "1alPUKGCIO-s"
   },
   "source": [
    "Columns with only one unique value is also not that useful to us, and should be dropped. Thus I decided to try and find if there's any."
   ]
  },
  {
   "cell_type": "code",
   "execution_count": 18,
   "metadata": {
    "colab": {
     "base_uri": "https://localhost:8080/"
    },
    "id": "4VqUCfWBbl7G",
    "outputId": "34906672-61cc-4b92-a9f1-f5f2c9000a3c"
   },
   "outputs": [
    {
     "name": "stdout",
     "output_type": "stream",
     "text": [
      "veil-type\n"
     ]
    }
   ],
   "source": [
    "#Finding rows with only 1 unique val\n",
    "for i in cols:\n",
    "  if len(df[i].unique())==1:\n",
    "      print(f'{i}');"
   ]
  },
  {
   "cell_type": "code",
   "execution_count": 19,
   "metadata": {
    "id": "iz3md38NaUdH"
   },
   "outputs": [],
   "source": [
    "#Removing columns (since veil-type only got 1 unique val, it's not very useful)\n",
    "df = df.drop(['veil-type'], axis=1)"
   ]
  },
  {
   "cell_type": "markdown",
   "metadata": {
    "id": "9CQ1wNHvkhYR"
   },
   "source": [
    "From this dataset, we aim to predict whether the mushrooms are Edible or Poisonous based on all the other factors.\n",
    "y (to be predicted) = E or P \n",
    "\n",
    "Later on E = 0 and P = 1"
   ]
  },
  {
   "cell_type": "markdown",
   "metadata": {
    "id": "v-hzsngakkPQ"
   },
   "source": [
    "Checking whether the y in the data is balanced to see if it's fair."
   ]
  },
  {
   "cell_type": "code",
   "execution_count": 20,
   "metadata": {
    "colab": {
     "base_uri": "https://localhost:8080/",
     "height": 517
    },
    "id": "3iBeBpZukQ4F",
    "outputId": "be1514df-1b3a-498c-9b69-f7b486da888a"
   },
   "outputs": [
    {
     "name": "stderr",
     "output_type": "stream",
     "text": [
      "/usr/local/lib/python3.7/dist-packages/seaborn/_decorators.py:43: FutureWarning: Pass the following variables as keyword args: x, y. From version 0.12, the only valid positional argument will be `data`, and passing other arguments without an explicit keyword will result in an error or misinterpretation.\n",
      "  FutureWarning\n"
     ]
    },
    {
     "data": {
      "image/png": "[encoded data removed]",
      "text/plain": [
       "<Figure size 576x504 with 1 Axes>"
      ]
     },
     "metadata": {
      "needs_background": "light",
      "tags": []
     },
     "output_type": "display_data"
    }
   ],
   "source": [
    "#Plotting a Bar graph with counts of Class E & P vals\n",
    "#check if data is balanced\n",
    "count = df['class'].value_counts()\n",
    "plt.figure(figsize=(8,7))\n",
    "sns.barplot(['Edible','Poisonous'], count.values)\n",
    "plt.ylabel('Count', fontsize=12)\n",
    "plt.xlabel('Class', fontsize=12)\n",
    "plt.title(\"No. Edible and Poisonous Mushrooms\")\n",
    "plt.show()"
   ]
  },
  {
   "cell_type": "code",
   "execution_count": 21,
   "metadata": {
    "colab": {
     "base_uri": "https://localhost:8080/",
     "height": 215
    },
    "id": "a2Qs0vEJlSpV",
    "outputId": "d3eae139-9283-403d-8b80-94ce606fc45a"
   },
   "outputs": [
    {
     "data": {
      "text/html": [
       "<div>\n",
       "<style scoped>\n",
       "    .dataframe tbody tr th:only-of-type {\n",
       "        vertical-align: middle;\n",
       "    }\n",
       "\n",
       "    .dataframe tbody tr th {\n",
       "        vertical-align: top;\n",
       "    }\n",
       "\n",
       "    .dataframe thead th {\n",
       "        text-align: right;\n",
       "    }\n",
       "</style>\n",
       "<table border=\"1\" class=\"dataframe\">\n",
       "  <thead>\n",
       "    <tr style=\"text-align: right;\">\n",
       "      <th></th>\n",
       "      <th>class</th>\n",
       "      <th>cap-shape</th>\n",
       "      <th>cap-surface</th>\n",
       "      <th>cap-color</th>\n",
       "      <th>bruises</th>\n",
       "      <th>odor</th>\n",
       "      <th>gill-attachment</th>\n",
       "      <th>gill-spacing</th>\n",
       "      <th>gill-size</th>\n",
       "      <th>gill-color</th>\n",
       "      <th>stalk-shape</th>\n",
       "      <th>stalk-root</th>\n",
       "      <th>stalk-surface-above-ring</th>\n",
       "      <th>stalk-surface-below-ring</th>\n",
       "      <th>stalk-color-above-ring</th>\n",
       "      <th>stalk-color-below-ring</th>\n",
       "      <th>veil-color</th>\n",
       "      <th>ring-number</th>\n",
       "      <th>ring-type</th>\n",
       "      <th>spore-print-color</th>\n",
       "      <th>population</th>\n",
       "      <th>habitat</th>\n",
       "    </tr>\n",
       "  </thead>\n",
       "  <tbody>\n",
       "    <tr>\n",
       "      <th>0</th>\n",
       "      <td>1</td>\n",
       "      <td>5</td>\n",
       "      <td>2</td>\n",
       "      <td>4</td>\n",
       "      <td>1</td>\n",
       "      <td>6</td>\n",
       "      <td>1</td>\n",
       "      <td>0</td>\n",
       "      <td>1</td>\n",
       "      <td>4</td>\n",
       "      <td>0</td>\n",
       "      <td>2</td>\n",
       "      <td>2</td>\n",
       "      <td>2</td>\n",
       "      <td>7</td>\n",
       "      <td>7</td>\n",
       "      <td>2</td>\n",
       "      <td>1</td>\n",
       "      <td>4</td>\n",
       "      <td>2</td>\n",
       "      <td>3</td>\n",
       "      <td>5</td>\n",
       "    </tr>\n",
       "    <tr>\n",
       "      <th>1</th>\n",
       "      <td>0</td>\n",
       "      <td>5</td>\n",
       "      <td>2</td>\n",
       "      <td>9</td>\n",
       "      <td>1</td>\n",
       "      <td>0</td>\n",
       "      <td>1</td>\n",
       "      <td>0</td>\n",
       "      <td>0</td>\n",
       "      <td>4</td>\n",
       "      <td>0</td>\n",
       "      <td>1</td>\n",
       "      <td>2</td>\n",
       "      <td>2</td>\n",
       "      <td>7</td>\n",
       "      <td>7</td>\n",
       "      <td>2</td>\n",
       "      <td>1</td>\n",
       "      <td>4</td>\n",
       "      <td>3</td>\n",
       "      <td>2</td>\n",
       "      <td>1</td>\n",
       "    </tr>\n",
       "    <tr>\n",
       "      <th>2</th>\n",
       "      <td>0</td>\n",
       "      <td>0</td>\n",
       "      <td>2</td>\n",
       "      <td>8</td>\n",
       "      <td>1</td>\n",
       "      <td>3</td>\n",
       "      <td>1</td>\n",
       "      <td>0</td>\n",
       "      <td>0</td>\n",
       "      <td>5</td>\n",
       "      <td>0</td>\n",
       "      <td>1</td>\n",
       "      <td>2</td>\n",
       "      <td>2</td>\n",
       "      <td>7</td>\n",
       "      <td>7</td>\n",
       "      <td>2</td>\n",
       "      <td>1</td>\n",
       "      <td>4</td>\n",
       "      <td>3</td>\n",
       "      <td>2</td>\n",
       "      <td>3</td>\n",
       "    </tr>\n",
       "  </tbody>\n",
       "</table>\n",
       "</div>"
      ],
      "text/plain": [
       "   class  cap-shape  cap-surface  ...  spore-print-color  population  habitat\n",
       "0      1          5            2  ...                  2           3        5\n",
       "1      0          5            2  ...                  3           2        1\n",
       "2      0          0            2  ...                  3           2        3\n",
       "\n",
       "[3 rows x 22 columns]"
      ]
     },
     "execution_count": 21,
     "metadata": {
      "tags": []
     },
     "output_type": "execute_result"
    }
   ],
   "source": [
    "#Changes letters into numbers\n",
    "from sklearn.preprocessing import LabelEncoder\n",
    "df = df.apply(LabelEncoder().fit_transform)\n",
    "df.head(3)"
   ]
  },
  {
   "cell_type": "markdown",
   "metadata": {
    "id": "sBeDcANj9E5p"
   },
   "source": [
    "As having too many columns can cause the model to be overfitted, I decided to remove the rows with weak correlation to Class. (corr<0.3)"
   ]
  },
  {
   "cell_type": "code",
   "execution_count": 22,
   "metadata": {
    "colab": {
     "base_uri": "https://localhost:8080/"
    },
    "id": "qthmwE2MlpBC",
    "outputId": "d0ad32e0-2d26-4b09-b28f-707608948783"
   },
   "outputs": [
    {
     "data": {
      "text/plain": [
       "class                       1.000000\n",
       "gill-size                   0.540024\n",
       "gill-color                  0.530566\n",
       "bruises                     0.501530\n",
       "ring-type                   0.411771\n",
       "gill-spacing                0.348387\n",
       "stalk-surface-above-ring    0.334593\n",
       "stalk-root                  0.324194\n",
       "stalk-surface-below-ring    0.298801\n",
       "population                  0.298686\n",
       "habitat                     0.217179\n",
       "ring-number                 0.214366\n",
       "cap-surface                 0.178446\n",
       "spore-print-color           0.171961\n",
       "stalk-color-above-ring      0.154003\n",
       "stalk-color-below-ring      0.146730\n",
       "veil-color                  0.145142\n",
       "gill-attachment             0.129200\n",
       "stalk-shape                 0.102019\n",
       "odor                        0.093552\n",
       "cap-shape                   0.052951\n",
       "cap-color                   0.031384\n",
       "Name: class, dtype: float64"
      ]
     },
     "execution_count": 22,
     "metadata": {
      "tags": []
     },
     "output_type": "execute_result"
    }
   ],
   "source": [
    "#Looking at corr\n",
    "idx = df.corr().abs().nlargest(df.shape[1],\"class\").index\n",
    "cm = df[idx].corr().abs()\n",
    "cm['class']"
   ]
  },
  {
   "cell_type": "code",
   "execution_count": 23,
   "metadata": {
    "colab": {
     "base_uri": "https://localhost:8080/"
    },
    "id": "hIgrx8EiTVwE",
    "outputId": "a5999877-0bb0-49ab-d06d-88fe27bf4d17"
   },
   "outputs": [
    {
     "data": {
      "text/plain": [
       "class                        True\n",
       "gill-size                    True\n",
       "gill-color                   True\n",
       "bruises                      True\n",
       "ring-type                    True\n",
       "gill-spacing                 True\n",
       "stalk-surface-above-ring     True\n",
       "stalk-root                   True\n",
       "stalk-surface-below-ring    False\n",
       "population                  False\n",
       "habitat                     False\n",
       "ring-number                 False\n",
       "cap-surface                 False\n",
       "spore-print-color           False\n",
       "stalk-color-above-ring      False\n",
       "stalk-color-below-ring      False\n",
       "veil-color                  False\n",
       "gill-attachment             False\n",
       "stalk-shape                 False\n",
       "odor                        False\n",
       "cap-shape                   False\n",
       "cap-color                   False\n",
       "Name: class, dtype: bool"
      ]
     },
     "execution_count": 23,
     "metadata": {
      "tags": []
     },
     "output_type": "execute_result"
    }
   ],
   "source": [
    "cm['class'] > 0.3"
   ]
  },
  {
   "cell_type": "code",
   "execution_count": 24,
   "metadata": {
    "id": "RnMG-vUvlio_"
   },
   "outputs": [],
   "source": [
    "#y is Poisonous or Edible column (to be predicted)\n",
    "y = df[\"class\"]\n",
    "\n",
    "#x is every column except Class column\n",
    "X = df.drop([\"class\"], axis=1)"
   ]
  },
  {
   "cell_type": "code",
   "execution_count": 25,
   "metadata": {
    "id": "lGc3o0vbH9fY"
   },
   "outputs": [],
   "source": [
    "#Removing poor predictors <0.3\n",
    "X = df[['gill-size', 'gill-color','bruises','ring-type','gill-spacing','stalk-surface-above-ring','stalk-root']]"
   ]
  },
  {
   "cell_type": "code",
   "execution_count": 26,
   "metadata": {
    "colab": {
     "base_uri": "https://localhost:8080/"
    },
    "id": "MVceGKTqTIwe",
    "outputId": "b4e73694-a54e-43c9-d67f-8edf2cacfcce"
   },
   "outputs": [
    {
     "data": {
      "text/plain": [
       "7"
      ]
     },
     "execution_count": 26,
     "metadata": {
      "tags": []
     },
     "output_type": "execute_result"
    }
   ],
   "source": [
    "#Managed to reduce down to 7 columns\n",
    "len(X.columns)"
   ]
  },
  {
   "cell_type": "markdown",
   "metadata": {
    "id": "z9q1hXzWD2Pt"
   },
   "source": [
    "###One Hot Encoding"
   ]
  },
  {
   "cell_type": "code",
   "execution_count": 27,
   "metadata": {
    "colab": {
     "base_uri": "https://localhost:8080/",
     "height": 215
    },
    "id": "WD7R_4bS9RkJ",
    "outputId": "e836dc9c-ff7f-4d28-e931-357c99d97118"
   },
   "outputs": [
    {
     "data": {
      "text/html": [
       "<div>\n",
       "<style scoped>\n",
       "    .dataframe tbody tr th:only-of-type {\n",
       "        vertical-align: middle;\n",
       "    }\n",
       "\n",
       "    .dataframe tbody tr th {\n",
       "        vertical-align: top;\n",
       "    }\n",
       "\n",
       "    .dataframe thead th {\n",
       "        text-align: right;\n",
       "    }\n",
       "</style>\n",
       "<table border=\"1\" class=\"dataframe\">\n",
       "  <thead>\n",
       "    <tr style=\"text-align: right;\">\n",
       "      <th></th>\n",
       "      <th>gill-size_0</th>\n",
       "      <th>gill-size_1</th>\n",
       "      <th>gill-color_0</th>\n",
       "      <th>gill-color_1</th>\n",
       "      <th>gill-color_2</th>\n",
       "      <th>gill-color_3</th>\n",
       "      <th>gill-color_4</th>\n",
       "      <th>gill-color_5</th>\n",
       "      <th>gill-color_6</th>\n",
       "      <th>gill-color_7</th>\n",
       "      <th>gill-color_8</th>\n",
       "      <th>gill-color_9</th>\n",
       "      <th>gill-color_10</th>\n",
       "      <th>gill-color_11</th>\n",
       "      <th>bruises_0</th>\n",
       "      <th>bruises_1</th>\n",
       "      <th>ring-type_0</th>\n",
       "      <th>ring-type_1</th>\n",
       "      <th>ring-type_2</th>\n",
       "      <th>ring-type_3</th>\n",
       "      <th>ring-type_4</th>\n",
       "      <th>gill-spacing_0</th>\n",
       "      <th>gill-spacing_1</th>\n",
       "      <th>stalk-surface-above-ring_0</th>\n",
       "      <th>stalk-surface-above-ring_1</th>\n",
       "      <th>stalk-surface-above-ring_2</th>\n",
       "      <th>stalk-surface-above-ring_3</th>\n",
       "      <th>stalk-root_0</th>\n",
       "      <th>stalk-root_1</th>\n",
       "      <th>stalk-root_2</th>\n",
       "      <th>stalk-root_3</th>\n",
       "    </tr>\n",
       "  </thead>\n",
       "  <tbody>\n",
       "    <tr>\n",
       "      <th>0</th>\n",
       "      <td>0.0</td>\n",
       "      <td>1.0</td>\n",
       "      <td>0.0</td>\n",
       "      <td>0.0</td>\n",
       "      <td>0.0</td>\n",
       "      <td>0.0</td>\n",
       "      <td>1.0</td>\n",
       "      <td>0.0</td>\n",
       "      <td>0.0</td>\n",
       "      <td>0.0</td>\n",
       "      <td>0.0</td>\n",
       "      <td>0.0</td>\n",
       "      <td>0.0</td>\n",
       "      <td>0.0</td>\n",
       "      <td>0.0</td>\n",
       "      <td>1.0</td>\n",
       "      <td>0.0</td>\n",
       "      <td>0.0</td>\n",
       "      <td>0.0</td>\n",
       "      <td>0.0</td>\n",
       "      <td>1.0</td>\n",
       "      <td>1.0</td>\n",
       "      <td>0.0</td>\n",
       "      <td>0.0</td>\n",
       "      <td>0.0</td>\n",
       "      <td>1.0</td>\n",
       "      <td>0.0</td>\n",
       "      <td>0.0</td>\n",
       "      <td>0.0</td>\n",
       "      <td>1.0</td>\n",
       "      <td>0.0</td>\n",
       "    </tr>\n",
       "    <tr>\n",
       "      <th>1</th>\n",
       "      <td>1.0</td>\n",
       "      <td>0.0</td>\n",
       "      <td>0.0</td>\n",
       "      <td>0.0</td>\n",
       "      <td>0.0</td>\n",
       "      <td>0.0</td>\n",
       "      <td>1.0</td>\n",
       "      <td>0.0</td>\n",
       "      <td>0.0</td>\n",
       "      <td>0.0</td>\n",
       "      <td>0.0</td>\n",
       "      <td>0.0</td>\n",
       "      <td>0.0</td>\n",
       "      <td>0.0</td>\n",
       "      <td>0.0</td>\n",
       "      <td>1.0</td>\n",
       "      <td>0.0</td>\n",
       "      <td>0.0</td>\n",
       "      <td>0.0</td>\n",
       "      <td>0.0</td>\n",
       "      <td>1.0</td>\n",
       "      <td>1.0</td>\n",
       "      <td>0.0</td>\n",
       "      <td>0.0</td>\n",
       "      <td>0.0</td>\n",
       "      <td>1.0</td>\n",
       "      <td>0.0</td>\n",
       "      <td>0.0</td>\n",
       "      <td>1.0</td>\n",
       "      <td>0.0</td>\n",
       "      <td>0.0</td>\n",
       "    </tr>\n",
       "    <tr>\n",
       "      <th>2</th>\n",
       "      <td>1.0</td>\n",
       "      <td>0.0</td>\n",
       "      <td>0.0</td>\n",
       "      <td>0.0</td>\n",
       "      <td>0.0</td>\n",
       "      <td>0.0</td>\n",
       "      <td>0.0</td>\n",
       "      <td>1.0</td>\n",
       "      <td>0.0</td>\n",
       "      <td>0.0</td>\n",
       "      <td>0.0</td>\n",
       "      <td>0.0</td>\n",
       "      <td>0.0</td>\n",
       "      <td>0.0</td>\n",
       "      <td>0.0</td>\n",
       "      <td>1.0</td>\n",
       "      <td>0.0</td>\n",
       "      <td>0.0</td>\n",
       "      <td>0.0</td>\n",
       "      <td>0.0</td>\n",
       "      <td>1.0</td>\n",
       "      <td>1.0</td>\n",
       "      <td>0.0</td>\n",
       "      <td>0.0</td>\n",
       "      <td>0.0</td>\n",
       "      <td>1.0</td>\n",
       "      <td>0.0</td>\n",
       "      <td>0.0</td>\n",
       "      <td>1.0</td>\n",
       "      <td>0.0</td>\n",
       "      <td>0.0</td>\n",
       "    </tr>\n",
       "  </tbody>\n",
       "</table>\n",
       "</div>"
      ],
      "text/plain": [
       "   gill-size_0  gill-size_1  ...  stalk-root_2  stalk-root_3\n",
       "0          0.0          1.0  ...           1.0           0.0\n",
       "1          1.0          0.0  ...           0.0           0.0\n",
       "2          1.0          0.0  ...           0.0           0.0\n",
       "\n",
       "[3 rows x 31 columns]"
      ]
     },
     "execution_count": 27,
     "metadata": {
      "tags": []
     },
     "output_type": "execute_result"
    }
   ],
   "source": [
    "from sklearn.preprocessing import OneHotEncoder\n",
    "oneHot = OneHotEncoder()\n",
    "#One hot encoding X\n",
    "X_Hot = oneHot.fit_transform(X).toarray()\n",
    "X_Hot = pd.DataFrame(X_Hot)\n",
    "\n",
    "#Adding headers to new one hot column\n",
    "headers = oneHot.get_feature_names(X.columns)\n",
    "X_Hot.columns = headers\n",
    "X_Hot.head(3)"
   ]
  },
  {
   "cell_type": "code",
   "execution_count": 28,
   "metadata": {
    "id": "smZdfbpit1sV"
   },
   "outputs": [],
   "source": [
    "#Splitting data into train and test sets\n",
    "from sklearn.model_selection import train_test_split\n",
    "X_train, X_test, y_train, y_test = train_test_split(X_Hot, y, test_size=0.2, random_state=42)"
   ]
  },
  {
   "cell_type": "code",
   "execution_count": 29,
   "metadata": {
    "id": "YQTnPdU8vfGI"
   },
   "outputs": [],
   "source": [
    "scores = pd.DataFrame(columns=[\"Model\", \"Train Score\", \"Accuracy(Train)\",\"Accuracy(Test)\", \"ROC Score\"])"
   ]
  },
  {
   "cell_type": "markdown",
   "metadata": {
    "id": "CFACWfYjmL49"
   },
   "source": [
    "###K-Nearest Neighbor"
   ]
  },
  {
   "cell_type": "markdown",
   "metadata": {
    "id": "jQU-V3DvsCaf"
   },
   "source": [
    "I plan to fine tune all the models with GridSearchCV and then see which fine tuned model performs the best overall"
   ]
  },
  {
   "cell_type": "code",
   "execution_count": null,
   "metadata": {
    "colab": {
     "base_uri": "https://localhost:8080/"
    },
    "id": "EyMQa_-pP1Dx",
    "outputId": "f5e804f2-f8d6-47f3-a7d9-5013c64d7271"
   },
   "outputs": [
    {
     "name": "stdout",
     "output_type": "stream",
     "text": [
      "Best mean cross_validation score: 0.983\n",
      "Best parameters: {'n_neighbors': 2}\n",
      "Test-set score (Best): 0.988\n",
      "Test-set score (Grid): 0.988\n"
     ]
    }
   ],
   "source": [
    "#Finding best params for knn with gridsearchcv\n",
    "from sklearn.neighbors import KNeighborsClassifier\n",
    "from sklearn.model_selection import GridSearchCV\n",
    "from sklearn.metrics import roc_auc_score, roc_curve\n",
    "\n",
    "params = {'n_neighbors': [1,2,3,4,5,6,7,8,9,10]}\n",
    "knn = KNeighborsClassifier()\n",
    "grid = GridSearchCV(knn, param_grid=params, cv=10)\n",
    "grid.fit(X_train, y_train)\n",
    "\n",
    "print(\"Best mean cross_validation score: {:.3f}\".format(grid.best_score_))\n",
    "print(\"Best parameters:\",grid.best_params_)\n",
    "print(\"Test-set score (Best): {:.3f}\".format(grid.best_estimator_.score(X_test,y_test)))\n",
    "print(\"Test-set score (Grid): {:.3f}\".format(grid.score(X_test, y_test)))\n"
   ]
  },
  {
   "cell_type": "markdown",
   "metadata": {
    "id": "omXK735EsKr7"
   },
   "source": [
    "Took the best params from the GridSearch (n_neighbors=2) and put into my model"
   ]
  },
  {
   "cell_type": "code",
   "execution_count": 32,
   "metadata": {
    "colab": {
     "base_uri": "https://localhost:8080/"
    },
    "id": "7xZPEjIhmPBz",
    "outputId": "142c9c21-3344-42eb-bbcd-52416f640727"
   },
   "outputs": [
    {
     "name": "stdout",
     "output_type": "stream",
     "text": [
      "Train score 0.9833820587782736\n",
      "Test score 0.9876923076923076\n",
      "ROC score:  0.9872122762148338\n",
      "              precision    recall  f1-score   support\n",
      "\n",
      "           0       0.98      1.00      0.99       843\n",
      "           1       1.00      0.97      0.99       782\n",
      "\n",
      "    accuracy                           0.99      1625\n",
      "   macro avg       0.99      0.99      0.99      1625\n",
      "weighted avg       0.99      0.99      0.99      1625\n",
      "\n",
      "[[843   0]\n",
      " [ 20 762]]\n",
      "Accuracy(Test) = 98.77\n",
      "              precision    recall  f1-score   support\n",
      "\n",
      "           0       0.97      1.00      0.98      3365\n",
      "           1       1.00      0.97      0.98      3134\n",
      "\n",
      "    accuracy                           0.98      6499\n",
      "   macro avg       0.98      0.98      0.98      6499\n",
      "weighted avg       0.98      0.98      0.98      6499\n",
      "\n",
      "[[3365    0]\n",
      " [ 108 3026]]\n",
      "Accuracy(Train) = 98.34\n"
     ]
    }
   ],
   "source": [
    "#KNN\n",
    "from sklearn import metrics\n",
    "from sklearn.neighbors import KNeighborsClassifier\n",
    "clf = KNeighborsClassifier(n_neighbors=2)\n",
    "clf.fit(X_train,y_train)\n",
    "print(\"Train score\",clf.score(X_train,y_train))\n",
    "print(\"Test score\",clf.score(X_test,y_test))\n",
    "# make predictions\n",
    "expected = y_test\n",
    "predicted = clf.predict(X_test)\n",
    "roc_score = roc_auc_score(y_test, predicted)\n",
    "print('ROC score: ', roc_score)\n",
    "\n",
    "# summarize the fit of the model\n",
    "print(metrics.classification_report(expected, predicted))\n",
    "print(metrics.confusion_matrix(expected, predicted))\n",
    "accTest = format(metrics.accuracy_score(expected, predicted)*100,\".2f\")\n",
    "print(\"Accuracy(Test) =\" ,accTest)\n",
    "\n",
    "# make predictions\n",
    "expected = y_train\n",
    "predicted = clf.predict(X_train)\n",
    "\n",
    "# summarize the fit of the model\n",
    "print(metrics.classification_report(expected, predicted))\n",
    "print(metrics.confusion_matrix(expected, predicted))\n",
    "accTrain =format(metrics.accuracy_score(expected, predicted)*100,\".2f\")\n",
    "print(\"Accuracy(Train) =\",accTrain)\n",
    "append = {\"Model\": 'K-Nearest Neighbor', \"Train Score\": format(clf.score(X_train,y_train),\".3f\"),\n",
    "          \"Test Score\": format(clf.score(X_test,y_test),\".3f\"),\n",
    "          \"Accuracy(Test)\" : accTest, \"Accuracy(Train)\": accTrain, \"ROC Score\": format(roc_score,\".2f\")}\n",
    "scores = scores.append(append, ignore_index=True)"
   ]
  },
  {
   "cell_type": "markdown",
   "metadata": {
    "id": "peWhaZ07zi0R"
   },
   "source": [
    "###Dummy Model\n"
   ]
  },
  {
   "cell_type": "markdown",
   "metadata": {
    "id": "MO_azrfW2EwJ"
   },
   "source": [
    "Included a dummy model so that can compare to other models"
   ]
  },
  {
   "cell_type": "code",
   "execution_count": 30,
   "metadata": {
    "colab": {
     "base_uri": "https://localhost:8080/"
    },
    "id": "D_l_OFvYzkmz",
    "outputId": "face5839-fce8-4c10-a2a2-b207c4e623af"
   },
   "outputs": [
    {
     "name": "stdout",
     "output_type": "stream",
     "text": [
      "Best mean cross_validation score: 0.518\n",
      "Best parameters: {'strategy': 'most_frequent'}\n",
      "Test-set score (Best): 0.519\n",
      "Test-set score (Grid): 0.519\n"
     ]
    },
    {
     "name": "stderr",
     "output_type": "stream",
     "text": [
      "/usr/local/lib/python3.7/dist-packages/sklearn/model_selection/_validation.py:536: FitFailedWarning: Estimator fit failed. The score on this train-test partition for these parameters will be set to nan. Details: \n",
      "ValueError: Constant target value has to be specified when the constant strategy is used.\n",
      "\n",
      "  FitFailedWarning)\n"
     ]
    }
   ],
   "source": [
    "#Finding best params for dummy with gridsearchcv\n",
    "from sklearn.dummy import DummyClassifier\n",
    "from sklearn.model_selection import GridSearchCV\n",
    "from sklearn.metrics import roc_auc_score, roc_curve\n",
    "\n",
    "params = {'strategy': ['stratified','most_frequent','prior','uniform','constant']}\n",
    "dum = DummyClassifier()\n",
    "grid = GridSearchCV(dum, param_grid=params, cv=10)\n",
    "grid.fit(X_train, y_train)\n",
    "\n",
    "print(\"Best mean cross_validation score: {:.3f}\".format(grid.best_score_))\n",
    "print(\"Best parameters:\",grid.best_params_)\n",
    "print(\"Test-set score (Best): {:.3f}\".format(grid.best_estimator_.score(X_test,y_test)))\n",
    "print(\"Test-set score (Grid): {:.3f}\".format(grid.score(X_test, y_test)))\n"
   ]
  },
  {
   "cell_type": "code",
   "execution_count": 34,
   "metadata": {
    "colab": {
     "base_uri": "https://localhost:8080/"
    },
    "id": "EGaBsKOo0Eyd",
    "outputId": "fd662d40-d3f5-40b2-d6ea-861bc604f3a2"
   },
   "outputs": [
    {
     "name": "stdout",
     "output_type": "stream",
     "text": [
      "Train score 0.5177719649176796\n",
      "Test score 0.5187692307692308\n",
      "ROC score:  0.5\n",
      "              precision    recall  f1-score   support\n",
      "\n",
      "           0       0.52      1.00      0.68       843\n",
      "           1       0.00      0.00      0.00       782\n",
      "\n",
      "    accuracy                           0.52      1625\n",
      "   macro avg       0.26      0.50      0.34      1625\n",
      "weighted avg       0.27      0.52      0.35      1625\n",
      "\n",
      "[[843   0]\n",
      " [782   0]]\n",
      "Accuracy(Test) = 51.88\n",
      "              precision    recall  f1-score   support\n",
      "\n",
      "           0       0.52      1.00      0.68      3365\n",
      "           1       0.00      0.00      0.00      3134\n",
      "\n",
      "    accuracy                           0.52      6499\n",
      "   macro avg       0.26      0.50      0.34      6499\n",
      "weighted avg       0.27      0.52      0.35      6499\n",
      "\n",
      "[[3365    0]\n",
      " [3134    0]]\n",
      "Accuracy(Train) = 51.78\n"
     ]
    },
    {
     "name": "stderr",
     "output_type": "stream",
     "text": [
      "/usr/local/lib/python3.7/dist-packages/sklearn/metrics/_classification.py:1272: UndefinedMetricWarning: Precision and F-score are ill-defined and being set to 0.0 in labels with no predicted samples. Use `zero_division` parameter to control this behavior.\n",
      "  _warn_prf(average, modifier, msg_start, len(result))\n"
     ]
    }
   ],
   "source": [
    "#Dummy\n",
    "from sklearn.dummy import DummyClassifier\n",
    "clf = DummyClassifier(strategy = 'most_frequent')\n",
    "clf.fit(X_train,y_train)\n",
    "print(\"Train score\",clf.score(X_train,y_train))\n",
    "print(\"Test score\",clf.score(X_test,y_test))\n",
    "# make predictions\n",
    "expected = y_test\n",
    "predicted = clf.predict(X_test)\n",
    "roc_score = roc_auc_score(y_test, predicted)\n",
    "print('ROC score: ', roc_score)\n",
    "\n",
    "# summarize the fit of the model\n",
    "print(metrics.classification_report(expected, predicted))\n",
    "print(metrics.confusion_matrix(expected, predicted))\n",
    "accTest = format(metrics.accuracy_score(expected, predicted)*100,\".2f\")\n",
    "print(\"Accuracy(Test) =\" ,accTest)\n",
    "\n",
    "# make predictions\n",
    "expected = y_train\n",
    "predicted = clf.predict(X_train)\n",
    "\n",
    "# summarize the fit of the model\n",
    "print(metrics.classification_report(expected, predicted))\n",
    "print(metrics.confusion_matrix(expected, predicted))\n",
    "accTrain =format(metrics.accuracy_score(expected, predicted)*100,\".2f\")\n",
    "print(\"Accuracy(Train) =\",accTrain)\n",
    "append = {\"Model\": 'Dummy Model', \"Train Score\": format(clf.score(X_train,y_train),\".3f\"),\n",
    "          \"Test Score\": format(clf.score(X_test,y_test),\".3f\"),\n",
    "          \"Accuracy(Test)\" : accTest, \"Accuracy(Train)\": accTrain, \"ROC Score\": format(roc_score,\".2f\")}\n",
    "scores = scores.append(append, ignore_index=True)"
   ]
  },
  {
   "cell_type": "markdown",
   "metadata": {
    "id": "i5NMQwedoRnH"
   },
   "source": [
    "###Logistic Regression"
   ]
  },
  {
   "cell_type": "markdown",
   "metadata": {
    "id": "6JoKVh8OsQjL"
   },
   "source": [
    "I chose to include logistic regression as it is a simpler model compared to the rest"
   ]
  },
  {
   "cell_type": "code",
   "execution_count": null,
   "metadata": {
    "colab": {
     "base_uri": "https://localhost:8080/"
    },
    "id": "TZHUOwbVQbB5",
    "outputId": "b87f6404-4fd8-4550-c67c-811e0d5007ea"
   },
   "outputs": [
    {
     "name": "stdout",
     "output_type": "stream",
     "text": [
      "Best mean cross_validation score: 0.954\n",
      "Best parameters: {'C': 100.0, 'penalty': 'l2'}\n",
      "Test-set score (Best): 0.951\n",
      "Test-set score (Grid): 0.951\n"
     ]
    }
   ],
   "source": [
    "#Finding best params\n",
    "from sklearn.linear_model import LogisticRegression\n",
    "import warnings\n",
    "warnings.filterwarnings(\"ignore\")\n",
    "\n",
    "params = {'penalty':['l2', 'l1', 'elasticnet'], 'C':np.logspace(-3, 3, num=7, base=10)}\n",
    "reg = LogisticRegression()\n",
    "grid = GridSearchCV(reg, param_grid=params, cv=10)\n",
    "grid.fit(X_train, y_train)\n",
    "\n",
    "print(\"Best mean cross_validation score: {:.3f}\".format(grid.best_score_))\n",
    "print(\"Best parameters:\",grid.best_params_)\n",
    "print(\"Test-set score (Best): {:.3f}\".format(grid.best_estimator_.score(X_test,y_test)))\n",
    "print(\"Test-set score (Grid): {:.3f}\".format(grid.score(X_test, y_test)))"
   ]
  },
  {
   "cell_type": "code",
   "execution_count": 35,
   "metadata": {
    "colab": {
     "base_uri": "https://localhost:8080/"
    },
    "id": "XgbQWsA5oTVY",
    "outputId": "523e6eb9-a9a9-4501-e36d-c9561265940c"
   },
   "outputs": [
    {
     "name": "stdout",
     "output_type": "stream",
     "text": [
      "Train score 0.9556854900753962\n",
      "Test score 0.9507692307692308\n",
      "ROC score:  0.9507922927797144\n",
      "              precision    recall  f1-score   support\n",
      "\n",
      "           0       0.95      0.95      0.95       843\n",
      "           1       0.95      0.95      0.95       782\n",
      "\n",
      "    accuracy                           0.95      1625\n",
      "   macro avg       0.95      0.95      0.95      1625\n",
      "weighted avg       0.95      0.95      0.95      1625\n",
      "\n",
      "[[801  42]\n",
      " [ 38 744]]\n",
      "Accuracy(Test) = 95.08\n",
      "              precision    recall  f1-score   support\n",
      "\n",
      "           0       0.95      0.97      0.96      3365\n",
      "           1       0.97      0.94      0.95      3134\n",
      "\n",
      "    accuracy                           0.96      6499\n",
      "   macro avg       0.96      0.96      0.96      6499\n",
      "weighted avg       0.96      0.96      0.96      6499\n",
      "\n",
      "[[3263  102]\n",
      " [ 186 2948]]\n",
      "Accuracy(Train) = 95.57\n"
     ]
    },
    {
     "name": "stderr",
     "output_type": "stream",
     "text": [
      "/usr/local/lib/python3.7/dist-packages/sklearn/linear_model/_logistic.py:940: ConvergenceWarning: lbfgs failed to converge (status=1):\n",
      "STOP: TOTAL NO. of ITERATIONS REACHED LIMIT.\n",
      "\n",
      "Increase the number of iterations (max_iter) or scale the data as shown in:\n",
      "    https://scikit-learn.org/stable/modules/preprocessing.html\n",
      "Please also refer to the documentation for alternative solver options:\n",
      "    https://scikit-learn.org/stable/modules/linear_model.html#logistic-regression\n",
      "  extra_warning_msg=_LOGISTIC_SOLVER_CONVERGENCE_MSG)\n"
     ]
    }
   ],
   "source": [
    "#Logistic Regression\n",
    "from sklearn.linear_model import LogisticRegression\n",
    "clf = LogisticRegression(C=100, penalty='l2')\n",
    "clf.fit(X_train,y_train)\n",
    "print(\"Train score\",clf.score(X_train,y_train))\n",
    "print(\"Test score\",clf.score(X_test,y_test))\n",
    "# make predictions\n",
    "expected = y_test\n",
    "predicted = clf.predict(X_test)\n",
    "roc_score = roc_auc_score(y_test, predicted)\n",
    "print('ROC score: ', roc_score)\n",
    "\n",
    "# summarize the fit of the model\n",
    "print(metrics.classification_report(expected, predicted))\n",
    "print(metrics.confusion_matrix(expected, predicted))\n",
    "accTest = format(metrics.accuracy_score(expected, predicted)*100,\".2f\")\n",
    "print(\"Accuracy(Test) =\" ,accTest)\n",
    "\n",
    "# make predictions\n",
    "expected = y_train\n",
    "predicted = clf.predict(X_train)\n",
    "\n",
    "# summarize the fit of the model\n",
    "print(metrics.classification_report(expected, predicted))\n",
    "print(metrics.confusion_matrix(expected, predicted))\n",
    "accTrain =format(metrics.accuracy_score(expected, predicted)*100,\".2f\")\n",
    "print(\"Accuracy(Train) =\",accTrain)\n",
    "append = {\"Model\": 'Logistic Regression', \"Train Score\": format(clf.score(X_train,y_train),\".3f\"),\n",
    "          \"Test Score\": format(clf.score(X_test,y_test),\".3f\"),\n",
    "          \"Accuracy(Test)\" : accTest, \"Accuracy(Train)\": accTrain, \"ROC Score\": format(roc_score,\".2f\")}\n",
    "scores = scores.append(append, ignore_index=True)"
   ]
  },
  {
   "cell_type": "markdown",
   "metadata": {
    "id": "ifkLGchCEygD"
   },
   "source": [
    "###Decision Tree Classifier"
   ]
  },
  {
   "cell_type": "code",
   "execution_count": null,
   "metadata": {
    "colab": {
     "base_uri": "https://localhost:8080/"
    },
    "id": "zZqXb5rlRtAj",
    "outputId": "c31e8824-39f3-4c4f-da8c-6a62dad5a140"
   },
   "outputs": [
    {
     "name": "stdout",
     "output_type": "stream",
     "text": [
      "Best mean cross_validation score: 0.983\n",
      "Best parameters: {'criterion': 'gini', 'max_depth': 10}\n",
      "Test-set score (Best): 0.988\n",
      "Test-set score (Grid): 0.988\n"
     ]
    }
   ],
   "source": [
    "#Finding best params\n",
    "from sklearn.tree import DecisionTreeClassifier\n",
    "\n",
    "param_grid = {'criterion': ['gini','entropy'], 'max_depth': [5,6,7,8,9,10,11,12,13,14,15]}\n",
    "tree = DecisionTreeClassifier()\n",
    "grid = GridSearchCV(tree, param_grid=param_grid, cv=10)\n",
    "grid.fit(X_train, y_train)\n",
    "\n",
    "print(\"Best mean cross_validation score: {:.3f}\".format(grid.best_score_))\n",
    "print(\"Best parameters:\",grid.best_params_)\n",
    "print(\"Test-set score (Best): {:.3f}\".format(grid.best_estimator_.score(X_test,y_test)))\n",
    "print(\"Test-set score (Grid): {:.3f}\".format(grid.score(X_test, y_test)))\n"
   ]
  },
  {
   "cell_type": "code",
   "execution_count": 37,
   "metadata": {
    "colab": {
     "base_uri": "https://localhost:8080/"
    },
    "id": "ktZdgbWRE0Lh",
    "outputId": "17e4f1aa-cf07-4355-d7dc-0470b8229829"
   },
   "outputs": [
    {
     "name": "stdout",
     "output_type": "stream",
     "text": [
      "Train score 0.9833820587782736\n",
      "Test score 0.9876923076923076\n",
      "ROC score:  0.9872122762148338\n",
      "              precision    recall  f1-score   support\n",
      "\n",
      "           0       0.98      1.00      0.99       843\n",
      "           1       1.00      0.97      0.99       782\n",
      "\n",
      "    accuracy                           0.99      1625\n",
      "   macro avg       0.99      0.99      0.99      1625\n",
      "weighted avg       0.99      0.99      0.99      1625\n",
      "\n",
      "[[843   0]\n",
      " [ 20 762]]\n",
      "Accuracy(Test) = 98.77\n",
      "              precision    recall  f1-score   support\n",
      "\n",
      "           0       0.97      1.00      0.98      3365\n",
      "           1       1.00      0.97      0.98      3134\n",
      "\n",
      "    accuracy                           0.98      6499\n",
      "   macro avg       0.98      0.98      0.98      6499\n",
      "weighted avg       0.98      0.98      0.98      6499\n",
      "\n",
      "[[3365    0]\n",
      " [ 108 3026]]\n",
      "Accuracy(Train) = 98.34\n"
     ]
    }
   ],
   "source": [
    "#Decision tree\n",
    "from sklearn.tree import DecisionTreeClassifier\n",
    "clf = DecisionTreeClassifier(criterion='gini', max_depth=10) \n",
    "clf.fit(X_train,y_train)\n",
    "print(\"Train score\",clf.score(X_train,y_train))\n",
    "print(\"Test score\",clf.score(X_test,y_test))\n",
    "# make predictions\n",
    "expected = y_test\n",
    "predicted = clf.predict(X_test)\n",
    "roc_score = roc_auc_score(y_test, predicted)\n",
    "print('ROC score: ', roc_score)\n",
    "\n",
    "# summarize the fit of the model\n",
    "print(metrics.classification_report(expected, predicted))\n",
    "print(metrics.confusion_matrix(expected, predicted))\n",
    "accTest = format(metrics.accuracy_score(expected, predicted)*100,\".2f\")\n",
    "print(\"Accuracy(Test) =\" ,accTest)\n",
    "\n",
    "# make predictions\n",
    "expected = y_train\n",
    "predicted = clf.predict(X_train)\n",
    "\n",
    "# summarize the fit of the model\n",
    "print(metrics.classification_report(expected, predicted))\n",
    "print(metrics.confusion_matrix(expected, predicted))\n",
    "accTrain =format(metrics.accuracy_score(expected, predicted)*100,\".2f\")\n",
    "print(\"Accuracy(Train) =\",accTrain)\n",
    "append = {\"Model\": 'Decision Tree', \"Train Score\": format(clf.score(X_train,y_train),\".3f\"),\n",
    "          \"Test Score\": format(clf.score(X_test,y_test),\".3f\"),\n",
    "          \"Accuracy(Test)\" : accTest, \"Accuracy(Train)\": accTrain, \"ROC Score\": format(roc_score,\".2f\")}\n",
    "scores = scores.append(append, ignore_index=True)"
   ]
  },
  {
   "cell_type": "markdown",
   "metadata": {
    "id": "OZeVbws4QG7s"
   },
   "source": [
    "###Support Vector Machine"
   ]
  },
  {
   "cell_type": "code",
   "execution_count": null,
   "metadata": {
    "colab": {
     "base_uri": "https://localhost:8080/"
    },
    "id": "wlJLzlgPR6ew",
    "outputId": "c06e2661-f39b-4151-e161-5bd184b3d933"
   },
   "outputs": [
    {
     "name": "stdout",
     "output_type": "stream",
     "text": [
      "Best mean cross_validation score: 0.983\n",
      "Best parameters: {'C': 1.0}\n",
      "Test-set score (Best): 0.988\n",
      "Test-set score (Grid): 0.988\n"
     ]
    }
   ],
   "source": [
    "#Finding best params\n",
    "from sklearn.svm import SVC\n",
    "param_grid = {'C':np.logspace(-3, 3, num=7, base=10)}\n",
    "svc = SVC()\n",
    "grid = GridSearchCV(svc, param_grid=param_grid, cv=10)\n",
    "grid.fit(X_train, y_train)\n",
    "\n",
    "print(\"Best mean cross_validation score: {:.3f}\".format(grid.best_score_))\n",
    "print(\"Best parameters:\",grid.best_params_)\n",
    "print(\"Test-set score (Best): {:.3f}\".format(grid.best_estimator_.score(X_test,y_test)))\n",
    "print(\"Test-set score (Grid): {:.3f}\".format(grid.score(X_test, y_test)))\n"
   ]
  },
  {
   "cell_type": "code",
   "execution_count": 38,
   "metadata": {
    "colab": {
     "base_uri": "https://localhost:8080/"
    },
    "id": "KrXRv_1WQImq",
    "outputId": "b9cca78b-b115-416f-c09f-fdb853f6a895"
   },
   "outputs": [
    {
     "name": "stdout",
     "output_type": "stream",
     "text": [
      "Train score 0.9833820587782736\n",
      "Test score 0.9876923076923076\n",
      "ROC score:  0.9872122762148338\n",
      "              precision    recall  f1-score   support\n",
      "\n",
      "           0       0.98      1.00      0.99       843\n",
      "           1       1.00      0.97      0.99       782\n",
      "\n",
      "    accuracy                           0.99      1625\n",
      "   macro avg       0.99      0.99      0.99      1625\n",
      "weighted avg       0.99      0.99      0.99      1625\n",
      "\n",
      "[[843   0]\n",
      " [ 20 762]]\n",
      "Accuracy(Test) = 98.77\n",
      "              precision    recall  f1-score   support\n",
      "\n",
      "           0       0.97      1.00      0.98      3365\n",
      "           1       1.00      0.97      0.98      3134\n",
      "\n",
      "    accuracy                           0.98      6499\n",
      "   macro avg       0.98      0.98      0.98      6499\n",
      "weighted avg       0.98      0.98      0.98      6499\n",
      "\n",
      "[[3365    0]\n",
      " [ 108 3026]]\n",
      "Accuracy(Train) = 98.34\n"
     ]
    }
   ],
   "source": [
    "#Support Vector Machine\n",
    "from sklearn.svm import SVC\n",
    "clf = SVC(C=1) \n",
    "clf.fit(X_train,y_train)\n",
    "print(\"Train score\",clf.score(X_train,y_train))\n",
    "print(\"Test score\",clf.score(X_test,y_test))\n",
    "# make predictions\n",
    "expected = y_test\n",
    "predicted = clf.predict(X_test)\n",
    "roc_score = roc_auc_score(y_test, predicted)\n",
    "print('ROC score: ', roc_score)\n",
    "\n",
    "# summarize the fit of the model\n",
    "print(metrics.classification_report(expected, predicted))\n",
    "print(metrics.confusion_matrix(expected, predicted))\n",
    "accTest = format(metrics.accuracy_score(expected, predicted)*100,\".2f\")\n",
    "print(\"Accuracy(Test) =\" ,accTest)\n",
    "\n",
    "# make predictions\n",
    "expected = y_train\n",
    "predicted = clf.predict(X_train)\n",
    "\n",
    "# summarize the fit of the model\n",
    "print(metrics.classification_report(expected, predicted))\n",
    "print(metrics.confusion_matrix(expected, predicted))\n",
    "accTrain =format(metrics.accuracy_score(expected, predicted)*100,\".2f\")\n",
    "print(\"Accuracy(Train) =\",accTrain)\n",
    "append = {\"Model\": 'Support Vector Machine', \"Train Score\": format(clf.score(X_train,y_train),\".3f\"),\n",
    "          \"Test Score\": format(clf.score(X_test,y_test),\".3f\"),\n",
    "          \"Accuracy(Test)\" : accTest, \"Accuracy(Train)\": accTrain, \"ROC Score\": format(roc_score,\".2f\")}\n",
    "scores = scores.append(append, ignore_index=True)"
   ]
  },
  {
   "cell_type": "markdown",
   "metadata": {
    "id": "aELV0_1sGD09"
   },
   "source": [
    "##Gaussian Naive Bayes"
   ]
  },
  {
   "cell_type": "code",
   "execution_count": null,
   "metadata": {
    "colab": {
     "base_uri": "https://localhost:8080/"
    },
    "id": "j_x1tGVBGHoQ",
    "outputId": "e3f2f9ea-e75d-4e5e-b479-54cf6295f755"
   },
   "outputs": [
    {
     "name": "stdout",
     "output_type": "stream",
     "text": [
      "Best mean cross_validation score: 0.911\n",
      "Best parameters: {'var_smoothing': 0.001}\n",
      "Test-set score (Best): 0.906\n",
      "Test-set score (Grid): 0.906\n"
     ]
    }
   ],
   "source": [
    "#Finding best params\n",
    "from sklearn.naive_bayes import GaussianNB\n",
    "param_grid = {'var_smoothing': np.logspace(-3,3, num=100)}\n",
    "GNB = GaussianNB()\n",
    "grid = GridSearchCV(GNB, param_grid=param_grid, cv=10)\n",
    "grid.fit(X_train, y_train)\n",
    "\n",
    "print(\"Best mean cross_validation score: {:.3f}\".format(grid.best_score_))\n",
    "print(\"Best parameters:\",grid.best_params_)\n",
    "print(\"Test-set score (Best): {:.3f}\".format(grid.best_estimator_.score(X_test,y_test)))\n",
    "print(\"Test-set score (Grid): {:.3f}\".format(grid.score(X_test, y_test)))\n"
   ]
  },
  {
   "cell_type": "code",
   "execution_count": 39,
   "metadata": {
    "colab": {
     "base_uri": "https://localhost:8080/"
    },
    "id": "OdsdjqvWGgy5",
    "outputId": "be1da32f-c1bc-4add-ce31-69c70e745eca"
   },
   "outputs": [
    {
     "name": "stdout",
     "output_type": "stream",
     "text": [
      "Train score 0.9113709801507924\n",
      "Test score 0.9064615384615384\n",
      "ROC score:  0.9035072949185863\n",
      "              precision    recall  f1-score   support\n",
      "\n",
      "           0       0.86      0.98      0.92       843\n",
      "           1       0.98      0.82      0.89       782\n",
      "\n",
      "    accuracy                           0.91      1625\n",
      "   macro avg       0.92      0.90      0.91      1625\n",
      "weighted avg       0.92      0.91      0.91      1625\n",
      "\n",
      "[[828  15]\n",
      " [137 645]]\n",
      "Accuracy(Test) = 90.65\n",
      "              precision    recall  f1-score   support\n",
      "\n",
      "           0       0.86      0.99      0.92      3365\n",
      "           1       0.99      0.83      0.90      3134\n",
      "\n",
      "    accuracy                           0.91      6499\n",
      "   macro avg       0.92      0.91      0.91      6499\n",
      "weighted avg       0.92      0.91      0.91      6499\n",
      "\n",
      "[[3332   33]\n",
      " [ 543 2591]]\n",
      "Accuracy(Train) = 91.14\n"
     ]
    }
   ],
   "source": [
    "#Gaussian Naive Bayes\n",
    "from sklearn.naive_bayes import GaussianNB\n",
    "clf = GaussianNB(var_smoothing =  0.001)\n",
    "clf.fit(X_train,y_train)\n",
    "print(\"Train score\",clf.score(X_train,y_train))\n",
    "print(\"Test score\",clf.score(X_test,y_test))\n",
    "# make predictions\n",
    "expected = y_test\n",
    "predicted = clf.predict(X_test)\n",
    "roc_score = roc_auc_score(y_test, predicted)\n",
    "print('ROC score: ', roc_score)\n",
    "\n",
    "# summarize the fit of the model\n",
    "print(metrics.classification_report(expected, predicted))\n",
    "print(metrics.confusion_matrix(expected, predicted))\n",
    "accTest = format(metrics.accuracy_score(expected, predicted)*100,\".2f\")\n",
    "print(\"Accuracy(Test) =\" ,accTest)\n",
    "\n",
    "# make predictions\n",
    "expected = y_train\n",
    "predicted = clf.predict(X_train)\n",
    "\n",
    "# summarize the fit of the model\n",
    "print(metrics.classification_report(expected, predicted))\n",
    "print(metrics.confusion_matrix(expected, predicted))\n",
    "accTrain =format(metrics.accuracy_score(expected, predicted)*100,\".2f\")\n",
    "print(\"Accuracy(Train) =\",accTrain)\n",
    "append = {\"Model\": 'Gaussian Naive Bayes', \"Train Score\": format(clf.score(X_train,y_train),\".3f\"),\n",
    "          \"Test Score\": format(clf.score(X_test,y_test),\".3f\"),\n",
    "          \"Accuracy(Test)\" : accTest, \"Accuracy(Train)\": accTrain, \"ROC Score\": format(roc_score,\".2f\")}\n",
    "scores = scores.append(append, ignore_index=True)"
   ]
  },
  {
   "cell_type": "markdown",
   "metadata": {
    "id": "oJOg1Vl-0RSE"
   },
   "source": [
    "##Deciding which model to use"
   ]
  },
  {
   "cell_type": "code",
   "execution_count": 40,
   "metadata": {
    "colab": {
     "base_uri": "https://localhost:8080/",
     "height": 237
    },
    "id": "-8yn6bWAxqWl",
    "outputId": "9e1e5c0b-406d-4c40-9220-1a4d2a7c93d4"
   },
   "outputs": [
    {
     "data": {
      "text/html": [
       "<div>\n",
       "<style scoped>\n",
       "    .dataframe tbody tr th:only-of-type {\n",
       "        vertical-align: middle;\n",
       "    }\n",
       "\n",
       "    .dataframe tbody tr th {\n",
       "        vertical-align: top;\n",
       "    }\n",
       "\n",
       "    .dataframe thead th {\n",
       "        text-align: right;\n",
       "    }\n",
       "</style>\n",
       "<table border=\"1\" class=\"dataframe\">\n",
       "  <thead>\n",
       "    <tr style=\"text-align: right;\">\n",
       "      <th></th>\n",
       "      <th>Model</th>\n",
       "      <th>Train Score</th>\n",
       "      <th>Accuracy(Train)</th>\n",
       "      <th>Accuracy(Test)</th>\n",
       "      <th>ROC Score</th>\n",
       "      <th>Test Score</th>\n",
       "    </tr>\n",
       "  </thead>\n",
       "  <tbody>\n",
       "    <tr>\n",
       "      <th>0</th>\n",
       "      <td>K-Nearest Neighbor</td>\n",
       "      <td>0.983</td>\n",
       "      <td>98.34</td>\n",
       "      <td>98.77</td>\n",
       "      <td>0.99</td>\n",
       "      <td>0.988</td>\n",
       "    </tr>\n",
       "    <tr>\n",
       "      <th>3</th>\n",
       "      <td>Decision Tree</td>\n",
       "      <td>0.983</td>\n",
       "      <td>98.34</td>\n",
       "      <td>98.77</td>\n",
       "      <td>0.99</td>\n",
       "      <td>0.988</td>\n",
       "    </tr>\n",
       "    <tr>\n",
       "      <th>4</th>\n",
       "      <td>Support Vector Machine</td>\n",
       "      <td>0.983</td>\n",
       "      <td>98.34</td>\n",
       "      <td>98.77</td>\n",
       "      <td>0.99</td>\n",
       "      <td>0.988</td>\n",
       "    </tr>\n",
       "    <tr>\n",
       "      <th>2</th>\n",
       "      <td>Logistic Regression</td>\n",
       "      <td>0.956</td>\n",
       "      <td>95.57</td>\n",
       "      <td>95.08</td>\n",
       "      <td>0.95</td>\n",
       "      <td>0.951</td>\n",
       "    </tr>\n",
       "    <tr>\n",
       "      <th>5</th>\n",
       "      <td>Gaussian Naive Bayes</td>\n",
       "      <td>0.911</td>\n",
       "      <td>91.14</td>\n",
       "      <td>90.65</td>\n",
       "      <td>0.90</td>\n",
       "      <td>0.906</td>\n",
       "    </tr>\n",
       "    <tr>\n",
       "      <th>1</th>\n",
       "      <td>Dummy Model</td>\n",
       "      <td>0.518</td>\n",
       "      <td>51.78</td>\n",
       "      <td>51.88</td>\n",
       "      <td>0.50</td>\n",
       "      <td>0.519</td>\n",
       "    </tr>\n",
       "  </tbody>\n",
       "</table>\n",
       "</div>"
      ],
      "text/plain": [
       "                    Model Train Score  ... ROC Score Test Score\n",
       "0      K-Nearest Neighbor       0.983  ...      0.99      0.988\n",
       "3           Decision Tree       0.983  ...      0.99      0.988\n",
       "4  Support Vector Machine       0.983  ...      0.99      0.988\n",
       "2     Logistic Regression       0.956  ...      0.95      0.951\n",
       "5    Gaussian Naive Bayes       0.911  ...      0.90      0.906\n",
       "1             Dummy Model       0.518  ...      0.50      0.519\n",
       "\n",
       "[6 rows x 6 columns]"
      ]
     },
     "execution_count": 40,
     "metadata": {
      "tags": []
     },
     "output_type": "execute_result"
    }
   ],
   "source": [
    "scores.sort_values(by=\"ROC Score\", ascending=False)"
   ]
  },
  {
   "cell_type": "markdown",
   "metadata": {
    "id": "-Ax62NWTzCgd"
   },
   "source": [
    "Since KNN, Decision Tree and SVM all has the same scores, I decided to go with Decision Tree"
   ]
  },
  {
   "cell_type": "code",
   "execution_count": null,
   "metadata": {
    "colab": {
     "base_uri": "https://localhost:8080/",
     "height": 265
    },
    "id": "mLjuZjGCzKdD",
    "outputId": "f05a204c-ff5a-4456-c625-4807b04db9c4"
   },
   "outputs": [
    {
     "data": {
      "image/png": "[encoded data removed]",
      "text/plain": [
       "<Figure size 360x288 with 2 Axes>"
      ]
     },
     "metadata": {
      "needs_background": "light",
      "tags": []
     },
     "output_type": "display_data"
    }
   ],
   "source": [
    "#Creating confusion matrix\n",
    "expected = y_test\n",
    "model = DecisionTreeClassifier(criterion='gini', max_depth=10) \n",
    "model.fit(X_train,y_train)\n",
    "predicted = model.predict(X_test)\n",
    "\n",
    "from sklearn.metrics import confusion_matrix\n",
    "cm2 = confusion_matrix(expected, predicted)\n",
    "plt.figure(figsize = (5,4))\n",
    "sns.heatmap(cm2, cmap='Blues', annot=True)\n",
    "plt.show()"
   ]
  },
  {
   "cell_type": "markdown",
   "metadata": {
    "id": "y8cCwEXO2T-q"
   },
   "source": [
    "From this we can see that the K-Nearest Neighbours model predicted 0 Edible mushrooms wrongly, and 31 poisonous mushrooms wrongly.\n",
    "Predicting poisonous mushrooms wrongly is worse compared to predicting edible mushrooms wrongly. The model classified 20 Poison mushrooms as Edible, and this might be a very fatal mistake, as a person may get poisoned from consuming these wrongly classified mushrooms.\n",
    "However, the ratio of wrongly predicted mushrooms to correctly predicted ones is very small. (31:760)"
   ]
  },
  {
   "cell_type": "code",
   "execution_count": null,
   "metadata": {
    "colab": {
     "base_uri": "https://localhost:8080/",
     "height": 297
    },
    "id": "2w0dKvvoLlBk",
    "outputId": "dc4fb698-3901-4fc5-c58f-73136aac3a06"
   },
   "outputs": [
    {
     "name": "stdout",
     "output_type": "stream",
     "text": [
      "roc_auc_score for Decision Tree:  0.9872122762148338\n"
     ]
    },
    {
     "data": {
      "image/png": "[encoded data removed]",
      "text/plain": [
       "<Figure size 432x288 with 1 Axes>"
      ]
     },
     "metadata": {
      "needs_background": "light",
      "tags": []
     },
     "output_type": "display_data"
    }
   ],
   "source": [
    "#Roc Curve\n",
    "from sklearn.metrics import roc_auc_score, roc_curve\n",
    "\n",
    "fpr, tpr, threshold = roc_curve(y_test, predicted)\n",
    "print('roc_auc_score for Decision Tree: ', roc_auc_score(y_test, predicted))\n",
    "\n",
    "plt.plot(fpr, tpr)\n",
    "plt.plot([0, 1], ls=\"--\")\n",
    "plt.plot([0, 0], [1, 0] , c=\".7\"), plt.plot([1, 1] , c=\".7\")\n",
    "plt.ylabel('True Positive Rate')\n",
    "plt.xlabel('False Positive Rate')\n",
    "plt.show()"
   ]
  },
  {
   "cell_type": "markdown",
   "metadata": {
    "id": "eW0UhAU3MLc5"
   },
   "source": [
    "Alternatively, from the ROC we can see that the model's ROC score is very close to 1, but not 1. This means the model is mostly accurate at its predictions, and not very overfitted as well."
   ]
  },
  {
   "cell_type": "markdown",
   "metadata": {
    "id": "2bsctGYnsd6d"
   },
   "source": [
    "We can see that the model thinks that stalk_surface_above_ring_1 is the most important (stalk_surface_above_ring = k), followed by gill-size_0 (gill-size = b), and then followed by bruises_0 (bruises = f)"
   ]
  },
  {
   "cell_type": "code",
   "execution_count": null,
   "metadata": {
    "colab": {
     "base_uri": "https://localhost:8080/",
     "height": 1000
    },
    "id": "f5-e8Uf9HLnw",
    "outputId": "66ffe61d-f011-4d1f-e33a-b78cf49ed40c"
   },
   "outputs": [
    {
     "data": {
      "text/html": [
       "<div>\n",
       "<style scoped>\n",
       "    .dataframe tbody tr th:only-of-type {\n",
       "        vertical-align: middle;\n",
       "    }\n",
       "\n",
       "    .dataframe tbody tr th {\n",
       "        vertical-align: top;\n",
       "    }\n",
       "\n",
       "    .dataframe thead th {\n",
       "        text-align: right;\n",
       "    }\n",
       "</style>\n",
       "<table border=\"1\" class=\"dataframe\">\n",
       "  <thead>\n",
       "    <tr style=\"text-align: right;\">\n",
       "      <th></th>\n",
       "      <th>features importance</th>\n",
       "    </tr>\n",
       "  </thead>\n",
       "  <tbody>\n",
       "    <tr>\n",
       "      <th>stalk-surface-above-ring_1</th>\n",
       "      <td>0.373537</td>\n",
       "    </tr>\n",
       "    <tr>\n",
       "      <th>gill-size_0</th>\n",
       "      <td>0.330529</td>\n",
       "    </tr>\n",
       "    <tr>\n",
       "      <th>bruises_0</th>\n",
       "      <td>0.074781</td>\n",
       "    </tr>\n",
       "    <tr>\n",
       "      <th>gill-spacing_0</th>\n",
       "      <td>0.070128</td>\n",
       "    </tr>\n",
       "    <tr>\n",
       "      <th>stalk-root_2</th>\n",
       "      <td>0.039918</td>\n",
       "    </tr>\n",
       "    <tr>\n",
       "      <th>gill-color_0</th>\n",
       "      <td>0.027675</td>\n",
       "    </tr>\n",
       "    <tr>\n",
       "      <th>bruises_1</th>\n",
       "      <td>0.022010</td>\n",
       "    </tr>\n",
       "    <tr>\n",
       "      <th>ring-type_4</th>\n",
       "      <td>0.018339</td>\n",
       "    </tr>\n",
       "    <tr>\n",
       "      <th>stalk-surface-above-ring_0</th>\n",
       "      <td>0.010345</td>\n",
       "    </tr>\n",
       "    <tr>\n",
       "      <th>gill-color_8</th>\n",
       "      <td>0.009887</td>\n",
       "    </tr>\n",
       "    <tr>\n",
       "      <th>gill-color_3</th>\n",
       "      <td>0.006091</td>\n",
       "    </tr>\n",
       "    <tr>\n",
       "      <th>stalk-surface-above-ring_3</th>\n",
       "      <td>0.004183</td>\n",
       "    </tr>\n",
       "    <tr>\n",
       "      <th>gill-spacing_1</th>\n",
       "      <td>0.004031</td>\n",
       "    </tr>\n",
       "    <tr>\n",
       "      <th>gill-color_2</th>\n",
       "      <td>0.002591</td>\n",
       "    </tr>\n",
       "    <tr>\n",
       "      <th>gill-color_10</th>\n",
       "      <td>0.002051</td>\n",
       "    </tr>\n",
       "    <tr>\n",
       "      <th>gill-color_7</th>\n",
       "      <td>0.001867</td>\n",
       "    </tr>\n",
       "    <tr>\n",
       "      <th>stalk-root_0</th>\n",
       "      <td>0.001359</td>\n",
       "    </tr>\n",
       "    <tr>\n",
       "      <th>ring-type_0</th>\n",
       "      <td>0.000678</td>\n",
       "    </tr>\n",
       "    <tr>\n",
       "      <th>gill-color_5</th>\n",
       "      <td>0.000000</td>\n",
       "    </tr>\n",
       "    <tr>\n",
       "      <th>gill-color_1</th>\n",
       "      <td>0.000000</td>\n",
       "    </tr>\n",
       "    <tr>\n",
       "      <th>stalk-root_1</th>\n",
       "      <td>0.000000</td>\n",
       "    </tr>\n",
       "    <tr>\n",
       "      <th>stalk-surface-above-ring_2</th>\n",
       "      <td>0.000000</td>\n",
       "    </tr>\n",
       "    <tr>\n",
       "      <th>ring-type_3</th>\n",
       "      <td>0.000000</td>\n",
       "    </tr>\n",
       "    <tr>\n",
       "      <th>gill-color_6</th>\n",
       "      <td>0.000000</td>\n",
       "    </tr>\n",
       "    <tr>\n",
       "      <th>ring-type_2</th>\n",
       "      <td>0.000000</td>\n",
       "    </tr>\n",
       "    <tr>\n",
       "      <th>ring-type_1</th>\n",
       "      <td>0.000000</td>\n",
       "    </tr>\n",
       "    <tr>\n",
       "      <th>gill-size_1</th>\n",
       "      <td>0.000000</td>\n",
       "    </tr>\n",
       "    <tr>\n",
       "      <th>gill-color_4</th>\n",
       "      <td>0.000000</td>\n",
       "    </tr>\n",
       "    <tr>\n",
       "      <th>gill-color_11</th>\n",
       "      <td>0.000000</td>\n",
       "    </tr>\n",
       "    <tr>\n",
       "      <th>gill-color_9</th>\n",
       "      <td>0.000000</td>\n",
       "    </tr>\n",
       "    <tr>\n",
       "      <th>stalk-root_3</th>\n",
       "      <td>0.000000</td>\n",
       "    </tr>\n",
       "  </tbody>\n",
       "</table>\n",
       "</div>"
      ],
      "text/plain": [
       "                            features importance\n",
       "stalk-surface-above-ring_1             0.373537\n",
       "gill-size_0                            0.330529\n",
       "bruises_0                              0.074781\n",
       "gill-spacing_0                         0.070128\n",
       "stalk-root_2                           0.039918\n",
       "gill-color_0                           0.027675\n",
       "bruises_1                              0.022010\n",
       "ring-type_4                            0.018339\n",
       "stalk-surface-above-ring_0             0.010345\n",
       "gill-color_8                           0.009887\n",
       "gill-color_3                           0.006091\n",
       "stalk-surface-above-ring_3             0.004183\n",
       "gill-spacing_1                         0.004031\n",
       "gill-color_2                           0.002591\n",
       "gill-color_10                          0.002051\n",
       "gill-color_7                           0.001867\n",
       "stalk-root_0                           0.001359\n",
       "ring-type_0                            0.000678\n",
       "gill-color_5                           0.000000\n",
       "gill-color_1                           0.000000\n",
       "stalk-root_1                           0.000000\n",
       "stalk-surface-above-ring_2             0.000000\n",
       "ring-type_3                            0.000000\n",
       "gill-color_6                           0.000000\n",
       "ring-type_2                            0.000000\n",
       "ring-type_1                            0.000000\n",
       "gill-size_1                            0.000000\n",
       "gill-color_4                           0.000000\n",
       "gill-color_11                          0.000000\n",
       "gill-color_9                           0.000000\n",
       "stalk-root_3                           0.000000"
      ]
     },
     "execution_count": 225,
     "metadata": {
      "tags": []
     },
     "output_type": "execute_result"
    }
   ],
   "source": [
    "#Looking at important Features\n",
    "feat = pd.DataFrame(\n",
    "    {\"features importance\": model.feature_importances_},\n",
    "    index=X_Hot.columns\n",
    ")\n",
    "feat.sort_values(by=\"features importance\", ascending=False, inplace=True)\n",
    "feat"
   ]
  },
  {
   "cell_type": "markdown",
   "metadata": {
    "id": "7ERHcFgYt7C7"
   },
   "source": [
    "1. cap-shape:                bell=b,conical=c,convex=x,flat=f,knobbed=k,sunken=s\n",
    "2. cap-surface:              fibrous=f,grooves=g,scaly=y,smooth=s\n",
    "3. cap-color:                brown=n,buff=b,cinnamon=c,gray=g,green=r,\n",
    "pink=p,purple=u,red=e,white=w,yellow=y\n",
    "4. bruises?:                 bruises=t,no=f\n",
    "5. odor:                     almond=a,anise=l,creosote=c,fishy=y,foul=f,\n",
    "musty=m,none=n,pungent=p,spicy=s\n",
    "6. gill-attachment:          attached=a,descending=d,free=f,notched=n\n",
    "7. gill-spacing:             close=c,crowded=w,distant=d\n",
    "8. gill-size:                broad=b,narrow=n\n",
    "9. gill-color:               black=k,brown=n,buff=b,chocolate=h,gray=g,\n",
    "green=r,orange=o,pink=p,purple=u,red=e,\n",
    "white=w,yellow=y\n",
    "10. stalk-shape:              enlarging=e,tapering=t\n",
    "11. stalk-root:               bulbous=b,club=c,cup=u,equal=e,\n",
    "rhizomorphs=z,rooted=r,missing=?\n",
    "12. stalk-surface-above-ring: fibrous=f,scaly=y,silky=k,smooth=s\n",
    "13. stalk-surface-below-ring: fibrous=f,scaly=y,silky=k,smooth=s\n",
    "14. stalk-color-above-ring:   brown=n,buff=b,cinnamon=c,gray=g,orange=o,\n",
    "pink=p,red=e,white=w,yellow=y\n",
    "15. stalk-color-below-ring:   brown=n,buff=b,cinnamon=c,gray=g,orange=o,\n",
    "pink=p,red=e,white=w,yellow=y\n",
    "16. veil-type:                partial=p,universal=u\n",
    "17. veil-color:               brown=n,orange=o,white=w,yellow=y\n",
    "18. ring-number:              none=n,one=o,two=t\n",
    "19. ring-type:                cobwebby=c,evanescent=e,flaring=f,large=l,\n",
    "none=n,pendant=p,sheathing=s,zone=z\n",
    "20. spore-print-color:        black=k,brown=n,buff=b,chocolate=h,green=r,\n",
    "orange=o,purple=u,white=w,yellow=y\n",
    "21. population:               abundant=a,clustered=c,numerous=n,\n",
    "scattered=s,several=v,solitary=y\n",
    "22. habitat:                  grasses=g,leaves=l,meadows=m,paths=p,\n",
    "urban=u,waste=w,woods=d"
   ]
  }
 ],
 "metadata": {
  "colab": {
   "collapsed_sections": [],
   "name": "AIML Classification.ipynb",
   "provenance": [],
   "toc_visible": true
  },
  "kernelspec": {
   "display_name": "Python 3",
   "language": "python",
   "name": "python3"
  },
  "language_info": {
   "codemirror_mode": {
    "name": "ipython",
    "version": 3
   },
   "file_extension": ".py",
   "mimetype": "text/x-python",
   "name": "python",
   "nbconvert_exporter": "python",
   "pygments_lexer": "ipython3",
   "version": "3.8.3"
  }
 },
 "nbformat": 4,
 "nbformat_minor": 1
}
